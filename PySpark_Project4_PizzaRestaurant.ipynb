{
 "cells": [
  {
   "attachments": {},
   "cell_type": "markdown",
   "id": "b023cdbd",
   "metadata": {},
   "source": [
    "# Importing libraries"
   ]
  },
  {
   "cell_type": "code",
   "execution_count": 50,
   "id": "ab2baf11",
   "metadata": {},
   "outputs": [],
   "source": [
    "import os\n",
    "import sys\n",
    "import glob\n",
    "os.environ[\"PYARROW_IGNORE_TIMEZONE\"] = \"1\"\n",
    "os.environ['PYSPARK_PYTHON'] = sys.executable\n",
    "os.environ['PYSPARK_DRIVER_PYTHON'] = sys.executable"
   ]
  },
  {
   "cell_type": "code",
   "execution_count": 51,
   "id": "63ff700b",
   "metadata": {},
   "outputs": [],
   "source": [
    "from pyspark.sql import SparkSession,functions, Window\n",
    "from pyspark.sql.functions import *\n",
    "from pyspark.sql.types import *\n",
    "import pyspark.pandas as ps\n"
   ]
  },
  {
   "attachments": {},
   "cell_type": "markdown",
   "id": "f3edf6de",
   "metadata": {},
   "source": [
    "# Starting Spark Session and Creating a Spark Session Called Pizza"
   ]
  },
  {
   "cell_type": "code",
   "execution_count": 52,
   "id": "0b247c07",
   "metadata": {},
   "outputs": [],
   "source": [
    "spark = SparkSession.builder \\\n",
    "        .master(\"local[1]\") \\\n",
    "        .appName(\"PizzaRestaurant\") \\\n",
    "        .config(\"spark.some.config.option\", \"config-value\") \\\n",
    "        .enableHiveSupport() \\\n",
    "        .getOrCreate()"
   ]
  },
  {
   "cell_type": "code",
   "execution_count": 53,
   "id": "79e9c2cb",
   "metadata": {},
   "outputs": [
    {
     "data": {
      "text/html": [
       "\n",
       "            <div>\n",
       "                <p><b>SparkSession - hive</b></p>\n",
       "                \n",
       "        <div>\n",
       "            <p><b>SparkContext</b></p>\n",
       "\n",
       "            <p><a href=\"http://POL-8625NG3.SIIPOLSKA.PL:4040\">Spark UI</a></p>\n",
       "\n",
       "            <dl>\n",
       "              <dt>Version</dt>\n",
       "                <dd><code>v3.4.0</code></dd>\n",
       "              <dt>Master</dt>\n",
       "                <dd><code>local[1]</code></dd>\n",
       "              <dt>AppName</dt>\n",
       "                <dd><code>PizzaRestaurant</code></dd>\n",
       "            </dl>\n",
       "        </div>\n",
       "        \n",
       "            </div>\n",
       "        "
      ],
      "text/plain": [
       "<pyspark.sql.session.SparkSession at 0x2906ce81750>"
      ]
     },
     "execution_count": 53,
     "metadata": {},
     "output_type": "execute_result"
    }
   ],
   "source": [
    "spark"
   ]
  },
  {
   "attachments": {},
   "cell_type": "markdown",
   "id": "eaafe855",
   "metadata": {},
   "source": [
    "# Browsing .csv PizzaRestaurant files"
   ]
  },
  {
   "cell_type": "code",
   "execution_count": 54,
   "id": "1e6fa78f",
   "metadata": {},
   "outputs": [
    {
     "name": "stdout",
     "output_type": "stream",
     "text": [
      "The file D:\\My commercial projects\\PySpark\\Project 4 PySpark\\Pizza Place Sales exists\n",
      "\n",
      "File names: D:\\My commercial projects\\PySpark\\Project 4 PySpark\\Pizza Place Sales\\orders.csv\n",
      "\n",
      "File names: D:\\My commercial projects\\PySpark\\Project 4 PySpark\\Pizza Place Sales\\order_details.csv\n",
      "\n",
      "File names: D:\\My commercial projects\\PySpark\\Project 4 PySpark\\Pizza Place Sales\\pizzas.csv\n",
      "\n",
      "File names: D:\\My commercial projects\\PySpark\\Project 4 PySpark\\Pizza Place Sales\\pizza_types.csv\n"
     ]
    }
   ],
   "source": [
    "path = r\"D:\\My commercial projects\\PySpark\\Project 4 PySpark\\Pizza Place Sales\"\n",
    "\n",
    "\n",
    "if os.path.exists(path):\n",
    "    print(f'The file {path} exists')\n",
    "else: \n",
    "    print(f\"The file {path} does not exist \")\n",
    "\n",
    "filenames = glob.glob(path + '\\*.csv')\n",
    "\n",
    "for file in filenames:\n",
    "    print(\"\\nFile names:\", file)\n"
   ]
  },
  {
   "attachments": {},
   "cell_type": "markdown",
   "id": "e4097c21",
   "metadata": {},
   "source": [
    "# Reading csv files into Spark DataFrames"
   ]
  },
  {
   "cell_type": "code",
   "execution_count": 55,
   "id": "a1ddb85f",
   "metadata": {},
   "outputs": [],
   "source": [
    "PathOrders = 'D:\\My commercial projects\\PySpark\\Project 4 PySpark\\Pizza Place Sales\\orders.csv'\n",
    "PathOrderDetails = 'D:\\My commercial projects\\PySpark\\Project 4 PySpark\\Pizza Place Sales\\order_details.csv'\n",
    "PathPizzas = 'D:\\My commercial projects\\PySpark\\Project 4 PySpark\\Pizza Place Sales\\pizzas.csv'\n",
    "PathPizzaTypes = 'D:\\My commercial projects\\PySpark\\Project 4 PySpark\\Pizza Place Sales\\pizza_types.csv'\n",
    "\n",
    "dfPizzaOrders = spark.read.csv(PathOrders, header=True, inferSchema=True)\n",
    "dfPizzaOrderDetails = spark.read.csv(PathOrderDetails, header=True, inferSchema=True)\n",
    "dfPizzas = spark.read.csv(PathPizzas, header=True, inferSchema=True)\n",
    "dfPizzaTypes = spark.read.csv(PathPizzaTypes, header=True, inferSchema=True)\n"
   ]
  },
  {
   "attachments": {},
   "cell_type": "markdown",
   "id": "0c99fedd",
   "metadata": {},
   "source": [
    "# Data Exploration"
   ]
  },
  {
   "cell_type": "code",
   "execution_count": 56,
   "id": "f019f9cc",
   "metadata": {},
   "outputs": [
    {
     "name": "stdout",
     "output_type": "stream",
     "text": [
      "+--------+----------+-------------------+\n",
      "|order_id|date      |time               |\n",
      "+--------+----------+-------------------+\n",
      "|1       |2015-01-01|2023-06-14 11:38:36|\n",
      "|2       |2015-01-01|2023-06-14 11:57:40|\n",
      "|3       |2015-01-01|2023-06-14 12:12:28|\n",
      "|4       |2015-01-01|2023-06-14 12:16:31|\n",
      "|5       |2015-01-01|2023-06-14 12:21:30|\n",
      "|6       |2015-01-01|2023-06-14 12:29:36|\n",
      "|7       |2015-01-01|2023-06-14 12:50:37|\n",
      "|8       |2015-01-01|2023-06-14 12:51:37|\n",
      "|9       |2015-01-01|2023-06-14 12:52:01|\n",
      "|10      |2015-01-01|2023-06-14 13:00:15|\n",
      "|11      |2015-01-01|2023-06-14 13:02:59|\n",
      "|12      |2015-01-01|2023-06-14 13:04:41|\n",
      "|13      |2015-01-01|2023-06-14 13:11:55|\n",
      "|14      |2015-01-01|2023-06-14 13:14:19|\n",
      "|15      |2015-01-01|2023-06-14 13:33:00|\n",
      "|16      |2015-01-01|2023-06-14 13:34:07|\n",
      "|17      |2015-01-01|2023-06-14 13:53:00|\n",
      "|18      |2015-01-01|2023-06-14 13:57:08|\n",
      "|19      |2015-01-01|2023-06-14 13:59:09|\n",
      "|20      |2015-01-01|2023-06-14 14:03:08|\n",
      "+--------+----------+-------------------+\n",
      "only showing top 20 rows\n",
      "\n"
     ]
    }
   ],
   "source": [
    "dfPizzaOrders.show(truncate=False)"
   ]
  },
  {
   "cell_type": "code",
   "execution_count": 57,
   "id": "0acfee9b",
   "metadata": {},
   "outputs": [
    {
     "name": "stdout",
     "output_type": "stream",
     "text": [
      "+----------------+--------+--------------+--------+\n",
      "|order_details_id|order_id|pizza_id      |quantity|\n",
      "+----------------+--------+--------------+--------+\n",
      "|1               |1       |hawaiian_m    |1       |\n",
      "|2               |2       |classic_dlx_m |1       |\n",
      "|3               |2       |five_cheese_l |1       |\n",
      "|4               |2       |ital_supr_l   |1       |\n",
      "|5               |2       |mexicana_m    |1       |\n",
      "|6               |2       |thai_ckn_l    |1       |\n",
      "|7               |3       |ital_supr_m   |1       |\n",
      "|8               |3       |prsc_argla_l  |1       |\n",
      "|9               |4       |ital_supr_m   |1       |\n",
      "|10              |5       |ital_supr_m   |1       |\n",
      "|11              |6       |bbq_ckn_s     |1       |\n",
      "|12              |6       |the_greek_s   |1       |\n",
      "|13              |7       |spinach_supr_s|1       |\n",
      "|14              |8       |spinach_supr_s|1       |\n",
      "|15              |9       |classic_dlx_s |1       |\n",
      "|16              |9       |green_garden_s|1       |\n",
      "|17              |9       |ital_cpcllo_l |1       |\n",
      "|18              |9       |ital_supr_l   |1       |\n",
      "|19              |9       |ital_supr_s   |1       |\n",
      "|20              |9       |mexicana_s    |1       |\n",
      "+----------------+--------+--------------+--------+\n",
      "only showing top 20 rows\n",
      "\n"
     ]
    }
   ],
   "source": [
    "dfPizzaOrderDetails.show(truncate=False)"
   ]
  },
  {
   "cell_type": "code",
   "execution_count": 58,
   "id": "2d6e4176",
   "metadata": {},
   "outputs": [
    {
     "name": "stdout",
     "output_type": "stream",
     "text": [
      "+-------------+-------------+----+-----+\n",
      "|pizza_id     |pizza_type_id|size|price|\n",
      "+-------------+-------------+----+-----+\n",
      "|bbq_ckn_s    |bbq_ckn      |S   |12.75|\n",
      "|bbq_ckn_m    |bbq_ckn      |M   |16.75|\n",
      "|bbq_ckn_l    |bbq_ckn      |L   |20.75|\n",
      "|cali_ckn_s   |cali_ckn     |S   |12.75|\n",
      "|cali_ckn_m   |cali_ckn     |M   |16.75|\n",
      "|cali_ckn_l   |cali_ckn     |L   |20.75|\n",
      "|ckn_alfredo_s|ckn_alfredo  |S   |12.75|\n",
      "|ckn_alfredo_m|ckn_alfredo  |M   |16.75|\n",
      "|ckn_alfredo_l|ckn_alfredo  |L   |20.75|\n",
      "|ckn_pesto_s  |ckn_pesto    |S   |12.75|\n",
      "|ckn_pesto_m  |ckn_pesto    |M   |16.75|\n",
      "|ckn_pesto_l  |ckn_pesto    |L   |20.75|\n",
      "|southw_ckn_s |southw_ckn   |S   |12.75|\n",
      "|southw_ckn_m |southw_ckn   |M   |16.75|\n",
      "|southw_ckn_l |southw_ckn   |L   |20.75|\n",
      "|thai_ckn_s   |thai_ckn     |S   |12.75|\n",
      "|thai_ckn_m   |thai_ckn     |M   |16.75|\n",
      "|thai_ckn_l   |thai_ckn     |L   |20.75|\n",
      "|big_meat_s   |big_meat     |S   |12.0 |\n",
      "|big_meat_m   |big_meat     |M   |16.0 |\n",
      "+-------------+-------------+----+-----+\n",
      "only showing top 20 rows\n",
      "\n"
     ]
    }
   ],
   "source": [
    "dfPizzas.show(truncate=False)"
   ]
  },
  {
   "cell_type": "code",
   "execution_count": 59,
   "id": "c696c975",
   "metadata": {},
   "outputs": [
    {
     "name": "stdout",
     "output_type": "stream",
     "text": [
      "+-------------+------------------------------------------+--------+--------------------------------------------------------------------------------------------+\n",
      "|pizza_type_id|name                                      |category|ingredients                                                                                 |\n",
      "+-------------+------------------------------------------+--------+--------------------------------------------------------------------------------------------+\n",
      "|bbq_ckn      |The Barbecue Chicken Pizza                |Chicken |Barbecued Chicken, Red Peppers, Green Peppers, Tomatoes, Red Onions, Barbecue Sauce         |\n",
      "|cali_ckn     |The California Chicken Pizza              |Chicken |Chicken, Artichoke, Spinach, Garlic, Jalapeno Peppers, Fontina Cheese, Gouda Cheese         |\n",
      "|ckn_alfredo  |The Chicken Alfredo Pizza                 |Chicken |Chicken, Red Onions, Red Peppers, Mushrooms, Asiago Cheese, Alfredo Sauce                   |\n",
      "|ckn_pesto    |The Chicken Pesto Pizza                   |Chicken |Chicken, Tomatoes, Red Peppers, Spinach, Garlic, Pesto Sauce                                |\n",
      "|southw_ckn   |The Southwest Chicken Pizza               |Chicken |Chicken, Tomatoes, Red Peppers, Red Onions, Jalapeno Peppers, Corn, Cilantro, Chipotle Sauce|\n",
      "|thai_ckn     |The Thai Chicken Pizza                    |Chicken |Chicken, Pineapple, Tomatoes, Red Peppers, Thai Sweet Chilli Sauce                          |\n",
      "|big_meat     |The Big Meat Pizza                        |Classic |Bacon, Pepperoni, Italian Sausage, Chorizo Sausage                                          |\n",
      "|classic_dlx  |The Classic Deluxe Pizza                  |Classic |Pepperoni, Mushrooms, Red Onions, Red Peppers, Bacon                                        |\n",
      "|hawaiian     |The Hawaiian Pizza                        |Classic |Sliced Ham, Pineapple, Mozzarella Cheese                                                    |\n",
      "|ital_cpcllo  |The Italian Capocollo Pizza               |Classic |Capocollo, Red Peppers, Tomatoes, Goat Cheese, Garlic, Oregano                              |\n",
      "|napolitana   |The Napolitana Pizza                      |Classic |Tomatoes, Anchovies, Green Olives, Red Onions, Garlic                                       |\n",
      "|pep_msh_pep  |The Pepperoni, Mushroom, and Peppers Pizza|Classic |Pepperoni, Mushrooms, Green Peppers                                                         |\n",
      "|pepperoni    |The Pepperoni Pizza                       |Classic |Mozzarella Cheese, Pepperoni                                                                |\n",
      "|the_greek    |The Greek Pizza                           |Classic |Kalamata Olives, Feta Cheese, Tomatoes, Garlic, Beef Chuck Roast, Red Onions                |\n",
      "|brie_carre   |The Brie Carre Pizza                      |Supreme |Brie Carre Cheese, Prosciutto, Caramelized Onions, Pears, Thyme, Garlic                     |\n",
      "|calabrese    |The Calabrese Pizza                       |Supreme |�Nduja Salami, Pancetta, Tomatoes, Red Onions, Friggitello Peppers, Garlic                  |\n",
      "|ital_supr    |The Italian Supreme Pizza                 |Supreme |Calabrese Salami, Capocollo, Tomatoes, Red Onions, Green Olives, Garlic                     |\n",
      "|peppr_salami |The Pepper Salami Pizza                   |Supreme |Genoa Salami, Capocollo, Pepperoni, Tomatoes, Asiago Cheese, Garlic                         |\n",
      "|prsc_argla   |The Prosciutto and Arugula Pizza          |Supreme |Prosciutto di San Daniele, Arugula, Mozzarella Cheese                                       |\n",
      "|sicilian     |The Sicilian Pizza                        |Supreme |Coarse Sicilian Salami, Tomatoes, Green Olives, Luganega Sausage, Onions, Garlic            |\n",
      "+-------------+------------------------------------------+--------+--------------------------------------------------------------------------------------------+\n",
      "only showing top 20 rows\n",
      "\n"
     ]
    }
   ],
   "source": [
    "dfPizzaTypes.show(truncate=False)"
   ]
  },
  {
   "attachments": {},
   "cell_type": "markdown",
   "id": "6b039cb0",
   "metadata": {},
   "source": [
    "# Combining DataFrames"
   ]
  },
  {
   "cell_type": "code",
   "execution_count": 60,
   "id": "688ec221",
   "metadata": {},
   "outputs": [
    {
     "name": "stdout",
     "output_type": "stream",
     "text": [
      "+--------+----------+-------------------+----------------+--------+--------------+--------+\n",
      "|order_id|date      |time               |order_details_id|order_id|pizza_id      |quantity|\n",
      "+--------+----------+-------------------+----------------+--------+--------------+--------+\n",
      "|1       |2015-01-01|2023-06-14 11:38:36|1               |1       |hawaiian_m    |1       |\n",
      "|2       |2015-01-01|2023-06-14 11:57:40|2               |2       |classic_dlx_m |1       |\n",
      "|2       |2015-01-01|2023-06-14 11:57:40|3               |2       |five_cheese_l |1       |\n",
      "|2       |2015-01-01|2023-06-14 11:57:40|4               |2       |ital_supr_l   |1       |\n",
      "|2       |2015-01-01|2023-06-14 11:57:40|5               |2       |mexicana_m    |1       |\n",
      "|2       |2015-01-01|2023-06-14 11:57:40|6               |2       |thai_ckn_l    |1       |\n",
      "|3       |2015-01-01|2023-06-14 12:12:28|7               |3       |ital_supr_m   |1       |\n",
      "|3       |2015-01-01|2023-06-14 12:12:28|8               |3       |prsc_argla_l  |1       |\n",
      "|4       |2015-01-01|2023-06-14 12:16:31|9               |4       |ital_supr_m   |1       |\n",
      "|5       |2015-01-01|2023-06-14 12:21:30|10              |5       |ital_supr_m   |1       |\n",
      "|6       |2015-01-01|2023-06-14 12:29:36|11              |6       |bbq_ckn_s     |1       |\n",
      "|6       |2015-01-01|2023-06-14 12:29:36|12              |6       |the_greek_s   |1       |\n",
      "|7       |2015-01-01|2023-06-14 12:50:37|13              |7       |spinach_supr_s|1       |\n",
      "|8       |2015-01-01|2023-06-14 12:51:37|14              |8       |spinach_supr_s|1       |\n",
      "|9       |2015-01-01|2023-06-14 12:52:01|15              |9       |classic_dlx_s |1       |\n",
      "|9       |2015-01-01|2023-06-14 12:52:01|16              |9       |green_garden_s|1       |\n",
      "|9       |2015-01-01|2023-06-14 12:52:01|17              |9       |ital_cpcllo_l |1       |\n",
      "|9       |2015-01-01|2023-06-14 12:52:01|18              |9       |ital_supr_l   |1       |\n",
      "|9       |2015-01-01|2023-06-14 12:52:01|19              |9       |ital_supr_s   |1       |\n",
      "|9       |2015-01-01|2023-06-14 12:52:01|20              |9       |mexicana_s    |1       |\n",
      "+--------+----------+-------------------+----------------+--------+--------------+--------+\n",
      "only showing top 20 rows\n",
      "\n"
     ]
    }
   ],
   "source": [
    "dfPizzaOrdersAll = dfPizzaOrders.join(dfPizzaOrderDetails,dfPizzaOrders.order_id == dfPizzaOrderDetails.order_id, \"inner\" )\n",
    "dfPizzaOrdersAll.show(truncate=False)"
   ]
  },
  {
   "cell_type": "code",
   "execution_count": 61,
   "id": "93c7fc0f",
   "metadata": {},
   "outputs": [
    {
     "name": "stdout",
     "output_type": "stream",
     "text": [
      "+--------------+--------+----------+-------------------+\n",
      "|      pizza_id|quantity|      date|               time|\n",
      "+--------------+--------+----------+-------------------+\n",
      "|    hawaiian_m|       1|2015-01-01|2023-06-14 11:38:36|\n",
      "| classic_dlx_m|       1|2015-01-01|2023-06-14 11:57:40|\n",
      "| five_cheese_l|       1|2015-01-01|2023-06-14 11:57:40|\n",
      "|   ital_supr_l|       1|2015-01-01|2023-06-14 11:57:40|\n",
      "|    mexicana_m|       1|2015-01-01|2023-06-14 11:57:40|\n",
      "|    thai_ckn_l|       1|2015-01-01|2023-06-14 11:57:40|\n",
      "|   ital_supr_m|       1|2015-01-01|2023-06-14 12:12:28|\n",
      "|  prsc_argla_l|       1|2015-01-01|2023-06-14 12:12:28|\n",
      "|   ital_supr_m|       1|2015-01-01|2023-06-14 12:16:31|\n",
      "|   ital_supr_m|       1|2015-01-01|2023-06-14 12:21:30|\n",
      "|     bbq_ckn_s|       1|2015-01-01|2023-06-14 12:29:36|\n",
      "|   the_greek_s|       1|2015-01-01|2023-06-14 12:29:36|\n",
      "|spinach_supr_s|       1|2015-01-01|2023-06-14 12:50:37|\n",
      "|spinach_supr_s|       1|2015-01-01|2023-06-14 12:51:37|\n",
      "| classic_dlx_s|       1|2015-01-01|2023-06-14 12:52:01|\n",
      "|green_garden_s|       1|2015-01-01|2023-06-14 12:52:01|\n",
      "| ital_cpcllo_l|       1|2015-01-01|2023-06-14 12:52:01|\n",
      "|   ital_supr_l|       1|2015-01-01|2023-06-14 12:52:01|\n",
      "|   ital_supr_s|       1|2015-01-01|2023-06-14 12:52:01|\n",
      "|    mexicana_s|       1|2015-01-01|2023-06-14 12:52:01|\n",
      "+--------------+--------+----------+-------------------+\n",
      "only showing top 20 rows\n",
      "\n"
     ]
    }
   ],
   "source": [
    "dfPizzaOrdersAll = dfPizzaOrdersAll.select(\"pizza_id\",\"quantity\",\"date\",\"time\")\n",
    "dfPizzaOrdersAll.show()"
   ]
  },
  {
   "cell_type": "code",
   "execution_count": 62,
   "id": "18380592",
   "metadata": {},
   "outputs": [
    {
     "name": "stdout",
     "output_type": "stream",
     "text": [
      "+-------------+----+-----+--------------------+--------+--------------------+\n",
      "|     pizza_id|size|price|                name|category|         ingredients|\n",
      "+-------------+----+-----+--------------------+--------+--------------------+\n",
      "|    bbq_ckn_l|   L|20.75|The Barbecue Chic...| Chicken|Barbecued Chicken...|\n",
      "|    bbq_ckn_m|   M|16.75|The Barbecue Chic...| Chicken|Barbecued Chicken...|\n",
      "|    bbq_ckn_s|   S|12.75|The Barbecue Chic...| Chicken|Barbecued Chicken...|\n",
      "|   cali_ckn_l|   L|20.75|The California Ch...| Chicken|Chicken, Artichok...|\n",
      "|   cali_ckn_m|   M|16.75|The California Ch...| Chicken|Chicken, Artichok...|\n",
      "|   cali_ckn_s|   S|12.75|The California Ch...| Chicken|Chicken, Artichok...|\n",
      "|ckn_alfredo_l|   L|20.75|The Chicken Alfre...| Chicken|Chicken, Red Onio...|\n",
      "|ckn_alfredo_m|   M|16.75|The Chicken Alfre...| Chicken|Chicken, Red Onio...|\n",
      "|ckn_alfredo_s|   S|12.75|The Chicken Alfre...| Chicken|Chicken, Red Onio...|\n",
      "|  ckn_pesto_l|   L|20.75|The Chicken Pesto...| Chicken|Chicken, Tomatoes...|\n",
      "|  ckn_pesto_m|   M|16.75|The Chicken Pesto...| Chicken|Chicken, Tomatoes...|\n",
      "|  ckn_pesto_s|   S|12.75|The Chicken Pesto...| Chicken|Chicken, Tomatoes...|\n",
      "| southw_ckn_l|   L|20.75|The Southwest Chi...| Chicken|Chicken, Tomatoes...|\n",
      "| southw_ckn_m|   M|16.75|The Southwest Chi...| Chicken|Chicken, Tomatoes...|\n",
      "| southw_ckn_s|   S|12.75|The Southwest Chi...| Chicken|Chicken, Tomatoes...|\n",
      "|   thai_ckn_l|   L|20.75|The Thai Chicken ...| Chicken|Chicken, Pineappl...|\n",
      "|   thai_ckn_m|   M|16.75|The Thai Chicken ...| Chicken|Chicken, Pineappl...|\n",
      "|   thai_ckn_s|   S|12.75|The Thai Chicken ...| Chicken|Chicken, Pineappl...|\n",
      "|   big_meat_l|   L| 20.5|  The Big Meat Pizza| Classic|Bacon, Pepperoni,...|\n",
      "|   big_meat_m|   M| 16.0|  The Big Meat Pizza| Classic|Bacon, Pepperoni,...|\n",
      "+-------------+----+-----+--------------------+--------+--------------------+\n",
      "only showing top 20 rows\n",
      "\n"
     ]
    }
   ],
   "source": [
    "dfPizzaAll = dfPizzas.join(dfPizzaTypes,dfPizzas.pizza_type_id == dfPizzaTypes.pizza_type_id, \"inner\" )\n",
    "dfPizzaAll = dfPizzaAll.select(\"pizza_id\",\"size\",\"price\",\"name\",\"category\",\"ingredients\")\n",
    "dfPizzaAll.show()\n"
   ]
  },
  {
   "cell_type": "code",
   "execution_count": 63,
   "id": "547df98a",
   "metadata": {},
   "outputs": [
    {
     "name": "stdout",
     "output_type": "stream",
     "text": [
      "+--------------------------+--------+-----------------------------------------------------------------------------------+----+-----+--------+----------+-------------------+\n",
      "|Name                      |Category|Ingredients                                                                        |Size|Price|Quantity|Date      |Time               |\n",
      "+--------------------------+--------+-----------------------------------------------------------------------------------+----+-----+--------+----------+-------------------+\n",
      "|The Barbecue Chicken Pizza|Chicken |Barbecued Chicken, Red Peppers, Green Peppers, Tomatoes, Red Onions, Barbecue Sauce|L   |20.75|1       |2015-01-01|2023-06-14 13:02:59|\n",
      "|The Barbecue Chicken Pizza|Chicken |Barbecued Chicken, Red Peppers, Green Peppers, Tomatoes, Red Onions, Barbecue Sauce|L   |20.75|1       |2015-01-01|2023-06-14 13:53:00|\n",
      "|The Barbecue Chicken Pizza|Chicken |Barbecued Chicken, Red Peppers, Green Peppers, Tomatoes, Red Onions, Barbecue Sauce|L   |20.75|1       |2015-01-01|2023-06-14 15:11:17|\n",
      "|The Barbecue Chicken Pizza|Chicken |Barbecued Chicken, Red Peppers, Green Peppers, Tomatoes, Red Onions, Barbecue Sauce|L   |20.75|1       |2015-01-01|2023-06-14 15:54:08|\n",
      "|The Barbecue Chicken Pizza|Chicken |Barbecued Chicken, Red Peppers, Green Peppers, Tomatoes, Red Onions, Barbecue Sauce|L   |20.75|1       |2015-01-01|2023-06-14 18:48:28|\n",
      "|The Barbecue Chicken Pizza|Chicken |Barbecued Chicken, Red Peppers, Green Peppers, Tomatoes, Red Onions, Barbecue Sauce|L   |20.75|1       |2015-01-01|2023-06-14 22:12:13|\n",
      "|The Barbecue Chicken Pizza|Chicken |Barbecued Chicken, Red Peppers, Green Peppers, Tomatoes, Red Onions, Barbecue Sauce|L   |20.75|2       |2015-01-02|2023-06-14 15:14:43|\n",
      "|The Barbecue Chicken Pizza|Chicken |Barbecued Chicken, Red Peppers, Green Peppers, Tomatoes, Red Onions, Barbecue Sauce|L   |20.75|1       |2015-01-02|2023-06-14 22:00:17|\n",
      "|The Barbecue Chicken Pizza|Chicken |Barbecued Chicken, Red Peppers, Green Peppers, Tomatoes, Red Onions, Barbecue Sauce|L   |20.75|1       |2015-01-03|2023-06-14 17:00:49|\n",
      "|The Barbecue Chicken Pizza|Chicken |Barbecued Chicken, Red Peppers, Green Peppers, Tomatoes, Red Onions, Barbecue Sauce|L   |20.75|1       |2015-01-03|2023-06-14 20:14:23|\n",
      "|The Barbecue Chicken Pizza|Chicken |Barbecued Chicken, Red Peppers, Green Peppers, Tomatoes, Red Onions, Barbecue Sauce|L   |20.75|1       |2015-01-03|2023-06-14 21:25:20|\n",
      "|The Barbecue Chicken Pizza|Chicken |Barbecued Chicken, Red Peppers, Green Peppers, Tomatoes, Red Onions, Barbecue Sauce|L   |20.75|1       |2015-01-04|2023-06-14 12:12:05|\n",
      "|The Barbecue Chicken Pizza|Chicken |Barbecued Chicken, Red Peppers, Green Peppers, Tomatoes, Red Onions, Barbecue Sauce|L   |20.75|1       |2015-01-04|2023-06-14 14:42:01|\n",
      "|The Barbecue Chicken Pizza|Chicken |Barbecued Chicken, Red Peppers, Green Peppers, Tomatoes, Red Onions, Barbecue Sauce|L   |20.75|1       |2015-01-04|2023-06-14 16:41:48|\n",
      "|The Barbecue Chicken Pizza|Chicken |Barbecued Chicken, Red Peppers, Green Peppers, Tomatoes, Red Onions, Barbecue Sauce|L   |20.75|1       |2015-01-04|2023-06-14 20:28:41|\n",
      "|The Barbecue Chicken Pizza|Chicken |Barbecued Chicken, Red Peppers, Green Peppers, Tomatoes, Red Onions, Barbecue Sauce|L   |20.75|1       |2015-01-04|2023-06-14 21:06:16|\n",
      "|The Barbecue Chicken Pizza|Chicken |Barbecued Chicken, Red Peppers, Green Peppers, Tomatoes, Red Onions, Barbecue Sauce|L   |20.75|1       |2015-01-04|2023-06-14 22:22:13|\n",
      "|The Barbecue Chicken Pizza|Chicken |Barbecued Chicken, Red Peppers, Green Peppers, Tomatoes, Red Onions, Barbecue Sauce|L   |20.75|1       |2015-01-05|2023-06-14 17:44:39|\n",
      "|The Barbecue Chicken Pizza|Chicken |Barbecued Chicken, Red Peppers, Green Peppers, Tomatoes, Red Onions, Barbecue Sauce|L   |20.75|1       |2015-01-06|2023-06-14 17:59:48|\n",
      "|The Barbecue Chicken Pizza|Chicken |Barbecued Chicken, Red Peppers, Green Peppers, Tomatoes, Red Onions, Barbecue Sauce|L   |20.75|1       |2015-01-06|2023-06-14 18:50:38|\n",
      "+--------------------------+--------+-----------------------------------------------------------------------------------+----+-----+--------+----------+-------------------+\n",
      "only showing top 20 rows\n",
      "\n"
     ]
    }
   ],
   "source": [
    "dfPizza = dfPizzaAll.join(dfPizzaOrdersAll,dfPizzaAll.pizza_id == dfPizzaOrdersAll.pizza_id, \"left\" )\n",
    "dfPizza = dfPizza.select(col(\"name\").alias(\"Name\"), \n",
    "                col(\"category\").alias(\"Category\"),\n",
    "                col(\"ingredients\").alias(\"Ingredients\"),\n",
    "                col(\"size\").alias(\"Size\"),\n",
    "                col(\"price\").alias(\"Price\"),\n",
    "                col(\"quantity\").alias(\"Quantity\"),\n",
    "                col(\"date\").alias(\"Date\"),\n",
    "                col(\"time\").alias(\"Time\"))\n",
    "\n",
    "dfPizza.show(truncate=False)\n"
   ]
  },
  {
   "attachments": {},
   "cell_type": "markdown",
   "id": "7e3a7741",
   "metadata": {},
   "source": [
    "# Data Cleaning"
   ]
  },
  {
   "attachments": {},
   "cell_type": "markdown",
   "id": "129b5c77",
   "metadata": {},
   "source": [
    "### Looking for null values"
   ]
  },
  {
   "cell_type": "code",
   "execution_count": 64,
   "id": "892c2730",
   "metadata": {},
   "outputs": [
    {
     "name": "stdout",
     "output_type": "stream",
     "text": [
      "+----+--------+-----------+----+-----+--------+\n",
      "|Name|Category|Ingredients|Size|Price|Quantity|\n",
      "+----+--------+-----------+----+-----+--------+\n",
      "|   0|       0|          0|   0|    0|       5|\n",
      "+----+--------+-----------+----+-----+--------+\n",
      "\n"
     ]
    }
   ],
   "source": [
    "dfPizzaNull = dfPizza.select(\"Name\", \"Category\", \"Ingredients\", \"Size\", \"Price\", \"Quantity\")\n",
    "\n",
    "dfPizzaNull.select([count(when(isnan(c) | col(c).isNull(), c)).alias(c) for c in dfPizzaNull.columns]\n",
    "   ).show()"
   ]
  },
  {
   "attachments": {},
   "cell_type": "markdown",
   "id": "daac4ee0",
   "metadata": {},
   "source": [
    "##### There are a few Null values in Quantity, but it means that there were no orders for these pizza"
   ]
  },
  {
   "cell_type": "code",
   "execution_count": 65,
   "id": "e323ea28",
   "metadata": {},
   "outputs": [
    {
     "name": "stdout",
     "output_type": "stream",
     "text": [
      "+--------------------+--------+--------------------+----+-----+--------+----+----+\n",
      "|                Name|Category|         Ingredients|Size|Price|Quantity|Date|Time|\n",
      "+--------------------+--------+--------------------+----+-----+--------+----+----+\n",
      "|The Four Cheese P...|  Veggie|Ricotta Cheese, G...|   S|11.75|    null|null|null|\n",
      "|  The Big Meat Pizza| Classic|Bacon, Pepperoni,...|   L| 20.5|    null|null|null|\n",
      "|The Five Cheese P...|  Veggie|Mozzarella Cheese...|   S| 12.5|    null|null|null|\n",
      "|  The Big Meat Pizza| Classic|Bacon, Pepperoni,...|   M| 16.0|    null|null|null|\n",
      "|The Five Cheese P...|  Veggie|Mozzarella Cheese...|   M| 15.5|    null|null|null|\n",
      "+--------------------+--------+--------------------+----+-----+--------+----+----+\n",
      "\n"
     ]
    }
   ],
   "source": [
    "dfPizza.filter(col(\"Quantity\").isNull()).show()"
   ]
  },
  {
   "attachments": {},
   "cell_type": "markdown",
   "id": "16b1ae4e",
   "metadata": {},
   "source": [
    "### Dealing with duplicate values"
   ]
  },
  {
   "cell_type": "code",
   "execution_count": 66,
   "id": "a4de4b70",
   "metadata": {},
   "outputs": [
    {
     "name": "stdout",
     "output_type": "stream",
     "text": [
      "Counting rows 48625\n"
     ]
    }
   ],
   "source": [
    "print(\"Counting rows {}\".format(dfPizza.count()))"
   ]
  },
  {
   "cell_type": "code",
   "execution_count": 67,
   "id": "6f5dc300",
   "metadata": {},
   "outputs": [
    {
     "name": "stdout",
     "output_type": "stream",
     "text": [
      "+----+--------+-----------+----+-----+--------+----+----+-----+\n",
      "|Name|Category|Ingredients|Size|Price|Quantity|Date|Time|count|\n",
      "+----+--------+-----------+----+-----+--------+----+----+-----+\n",
      "+----+--------+-----------+----+-----+--------+----+----+-----+\n",
      "\n"
     ]
    }
   ],
   "source": [
    "dfPizzaDuplicates = dfPizza.groupBy(dfPizza.columns).count().filter(col(\"count\") > 1)\n",
    "dfPizzaDuplicates.show()"
   ]
  },
  {
   "attachments": {},
   "cell_type": "markdown",
   "id": "9bd51ea1",
   "metadata": {},
   "source": [
    "### Browsing for distinct values in each column"
   ]
  },
  {
   "cell_type": "code",
   "execution_count": 68,
   "id": "aff9f1d2",
   "metadata": {},
   "outputs": [
    {
     "name": "stdout",
     "output_type": "stream",
     "text": [
      "Counting distinct rows 48625\n"
     ]
    }
   ],
   "source": [
    "print(\"Counting distinct rows {}\".format(dfPizza.distinct().count()))"
   ]
  },
  {
   "cell_type": "code",
   "execution_count": 69,
   "id": "de0e39f0",
   "metadata": {},
   "outputs": [
    {
     "name": "stdout",
     "output_type": "stream",
     "text": [
      "+----+--------+-----------+----+-----+--------+----+-----+\n",
      "|Name|Category|Ingredients|Size|Price|Quantity|Date| Time|\n",
      "+----+--------+-----------+----+-----+--------+----+-----+\n",
      "|  32|       4|         32|   5|   27|       4| 358|16382|\n",
      "+----+--------+-----------+----+-----+--------+----+-----+\n",
      "\n"
     ]
    }
   ],
   "source": [
    "dfPizza.agg(*(countDistinct(col(c)).alias(c) for c in dfPizza.columns)).show()"
   ]
  },
  {
   "attachments": {},
   "cell_type": "markdown",
   "id": "ec03a939",
   "metadata": {},
   "source": [
    "### Columns"
   ]
  },
  {
   "cell_type": "code",
   "execution_count": 70,
   "id": "69cc3c9e",
   "metadata": {},
   "outputs": [
    {
     "name": "stdout",
     "output_type": "stream",
     "text": [
      "There are 8 columns in the DataFrame and their names are ['Name', 'Category', 'Ingredients', 'Size', 'Price', 'Quantity', 'Date', 'Time']\n"
     ]
    }
   ],
   "source": [
    "print(\"There are {} columns in the DataFrame and their names are {}\".format(len(dfPizza.columns),\n",
    "                                                                              dfPizza.columns))"
   ]
  },
  {
   "attachments": {},
   "cell_type": "markdown",
   "id": "62cd0490",
   "metadata": {},
   "source": [
    "### Datatypes"
   ]
  },
  {
   "cell_type": "code",
   "execution_count": 71,
   "id": "bfddd5d5",
   "metadata": {},
   "outputs": [
    {
     "name": "stdout",
     "output_type": "stream",
     "text": [
      "root\n",
      " |-- Name: string (nullable = true)\n",
      " |-- Category: string (nullable = true)\n",
      " |-- Ingredients: string (nullable = true)\n",
      " |-- Size: string (nullable = true)\n",
      " |-- Price: double (nullable = true)\n",
      " |-- Quantity: integer (nullable = true)\n",
      " |-- Date: date (nullable = true)\n",
      " |-- Time: timestamp (nullable = true)\n",
      "\n"
     ]
    }
   ],
   "source": [
    "dfPizza.printSchema()"
   ]
  },
  {
   "cell_type": "code",
   "execution_count": 72,
   "id": "9758335e",
   "metadata": {},
   "outputs": [],
   "source": [
    "dfPizza = dfPizza.withColumn(\"Price\",col(\"Price\").cast(DecimalType(18,2)))"
   ]
  },
  {
   "attachments": {},
   "cell_type": "markdown",
   "id": "d0217720",
   "metadata": {},
   "source": [
    "### Summary"
   ]
  },
  {
   "cell_type": "code",
   "execution_count": 73,
   "id": "6748f28c",
   "metadata": {},
   "outputs": [
    {
     "name": "stdout",
     "output_type": "stream",
     "text": [
      "+-------+-----------------+\n",
      "|summary|            Price|\n",
      "+-------+-----------------+\n",
      "|  count|            48625|\n",
      "|   mean|        16.494004|\n",
      "| stddev|3.621761197368334|\n",
      "|    min|             9.75|\n",
      "|    max|            35.95|\n",
      "+-------+-----------------+\n",
      "\n"
     ]
    }
   ],
   "source": [
    "dfPizza.describe(\"Price\").show()"
   ]
  },
  {
   "cell_type": "code",
   "execution_count": 74,
   "id": "759e8058",
   "metadata": {},
   "outputs": [
    {
     "data": {
      "text/plain": [
       "[('Name', 'string'),\n",
       " ('Category', 'string'),\n",
       " ('Ingredients', 'string'),\n",
       " ('Size', 'string'),\n",
       " ('Price', 'decimal(18,2)'),\n",
       " ('Quantity', 'int'),\n",
       " ('Date', 'date'),\n",
       " ('Time', 'timestamp')]"
      ]
     },
     "execution_count": 74,
     "metadata": {},
     "output_type": "execute_result"
    }
   ],
   "source": [
    "dfPizza.dtypes"
   ]
  },
  {
   "cell_type": "code",
   "execution_count": 75,
   "id": "639cef85",
   "metadata": {},
   "outputs": [
    {
     "name": "stdout",
     "output_type": "stream",
     "text": [
      "Shape of DataFrame: 48625, 8 \n"
     ]
    }
   ],
   "source": [
    "print(\"Shape of DataFrame: {}, {} \".format(dfPizza.count(),\n",
    "                                          len(dfPizza.columns)))"
   ]
  },
  {
   "attachments": {},
   "cell_type": "markdown",
   "id": "f7e36737",
   "metadata": {},
   "source": [
    "# Data Analysis"
   ]
  },
  {
   "attachments": {},
   "cell_type": "markdown",
   "id": "1efc0349",
   "metadata": {},
   "source": [
    "### Creating Total Amount"
   ]
  },
  {
   "cell_type": "code",
   "execution_count": 76,
   "id": "db0568f8",
   "metadata": {},
   "outputs": [
    {
     "name": "stdout",
     "output_type": "stream",
     "text": [
      "+-------------------------+--------+-----------------------------------------------------------------------+----+-----+--------+------------+----------+-------------------+\n",
      "|Name                     |Category|Ingredients                                                            |Size|Price|Quantity|Total Amount|Date      |Time               |\n",
      "+-------------------------+--------+-----------------------------------------------------------------------+----+-----+--------+------------+----------+-------------------+\n",
      "|The Italian Supreme Pizza|Supreme |Calabrese Salami, Capocollo, Tomatoes, Red Onions, Green Olives, Garlic|S   |12.50|1       |12.50       |2015-12-30|2023-06-14 12:45:20|\n",
      "|The Italian Supreme Pizza|Supreme |Calabrese Salami, Capocollo, Tomatoes, Red Onions, Green Olives, Garlic|S   |12.50|1       |12.50       |2015-12-27|2023-06-14 16:03:36|\n",
      "|The Italian Supreme Pizza|Supreme |Calabrese Salami, Capocollo, Tomatoes, Red Onions, Green Olives, Garlic|S   |12.50|1       |12.50       |2015-12-24|2023-06-14 21:09:48|\n",
      "|The Italian Supreme Pizza|Supreme |Calabrese Salami, Capocollo, Tomatoes, Red Onions, Green Olives, Garlic|S   |12.50|1       |12.50       |2015-12-23|2023-06-14 19:37:02|\n",
      "|The Italian Supreme Pizza|Supreme |Calabrese Salami, Capocollo, Tomatoes, Red Onions, Green Olives, Garlic|S   |12.50|1       |12.50       |2015-12-20|2023-06-14 16:36:49|\n",
      "|The Italian Supreme Pizza|Supreme |Calabrese Salami, Capocollo, Tomatoes, Red Onions, Green Olives, Garlic|S   |12.50|1       |12.50       |2015-12-16|2023-06-14 20:39:32|\n",
      "|The Italian Supreme Pizza|Supreme |Calabrese Salami, Capocollo, Tomatoes, Red Onions, Green Olives, Garlic|S   |12.50|1       |12.50       |2015-12-13|2023-06-14 19:56:40|\n",
      "|The Italian Supreme Pizza|Supreme |Calabrese Salami, Capocollo, Tomatoes, Red Onions, Green Olives, Garlic|S   |12.50|1       |12.50       |2015-12-13|2023-06-14 14:39:07|\n",
      "|The Italian Supreme Pizza|Supreme |Calabrese Salami, Capocollo, Tomatoes, Red Onions, Green Olives, Garlic|S   |12.50|1       |12.50       |2015-12-12|2023-06-14 21:30:34|\n",
      "|The Italian Supreme Pizza|Supreme |Calabrese Salami, Capocollo, Tomatoes, Red Onions, Green Olives, Garlic|S   |12.50|1       |12.50       |2015-12-09|2023-06-14 12:10:52|\n",
      "|The Italian Supreme Pizza|Supreme |Calabrese Salami, Capocollo, Tomatoes, Red Onions, Green Olives, Garlic|S   |12.50|1       |12.50       |2015-12-08|2023-06-14 13:08:48|\n",
      "|The Italian Supreme Pizza|Supreme |Calabrese Salami, Capocollo, Tomatoes, Red Onions, Green Olives, Garlic|S   |12.50|1       |12.50       |2015-12-06|2023-06-14 19:58:59|\n",
      "|The Italian Supreme Pizza|Supreme |Calabrese Salami, Capocollo, Tomatoes, Red Onions, Green Olives, Garlic|S   |12.50|1       |12.50       |2015-11-29|2023-06-14 17:55:56|\n",
      "|The Italian Supreme Pizza|Supreme |Calabrese Salami, Capocollo, Tomatoes, Red Onions, Green Olives, Garlic|S   |12.50|1       |12.50       |2015-11-29|2023-06-14 17:08:29|\n",
      "|The Italian Supreme Pizza|Supreme |Calabrese Salami, Capocollo, Tomatoes, Red Onions, Green Olives, Garlic|S   |12.50|1       |12.50       |2015-11-28|2023-06-14 17:21:24|\n",
      "|The Italian Supreme Pizza|Supreme |Calabrese Salami, Capocollo, Tomatoes, Red Onions, Green Olives, Garlic|S   |12.50|1       |12.50       |2015-11-24|2023-06-14 16:47:49|\n",
      "|The Italian Supreme Pizza|Supreme |Calabrese Salami, Capocollo, Tomatoes, Red Onions, Green Olives, Garlic|S   |12.50|1       |12.50       |2015-11-21|2023-06-14 14:40:50|\n",
      "|The Italian Supreme Pizza|Supreme |Calabrese Salami, Capocollo, Tomatoes, Red Onions, Green Olives, Garlic|S   |12.50|1       |12.50       |2015-11-15|2023-06-14 20:58:00|\n",
      "|The Italian Supreme Pizza|Supreme |Calabrese Salami, Capocollo, Tomatoes, Red Onions, Green Olives, Garlic|S   |12.50|1       |12.50       |2015-11-13|2023-06-14 20:49:55|\n",
      "|The Italian Supreme Pizza|Supreme |Calabrese Salami, Capocollo, Tomatoes, Red Onions, Green Olives, Garlic|S   |12.50|1       |12.50       |2015-11-13|2023-06-14 18:36:46|\n",
      "+-------------------------+--------+-----------------------------------------------------------------------+----+-----+--------+------------+----------+-------------------+\n",
      "only showing top 20 rows\n",
      "\n"
     ]
    }
   ],
   "source": [
    "def CreateMultpiplication(x, y):\n",
    "    return x * y\n",
    "\n",
    "dfPizza = dfPizza.withColumn(\"Total Amount\",CreateMultpiplication(col(\"Quantity\"),col(\"Price\")) )\n",
    "dfPizza = dfPizza.select('Name',\n",
    " 'Category',\n",
    " 'Ingredients',\n",
    " 'Size',\n",
    " 'Price',\n",
    " 'Quantity',\n",
    " 'Total Amount',\n",
    " 'Date',\n",
    " 'Time')\n",
    "\n",
    "dfPizza.show(truncate=False)"
   ]
  },
  {
   "attachments": {},
   "cell_type": "markdown",
   "id": "21bfcbf9",
   "metadata": {},
   "source": [
    "### Creating upper case of Category"
   ]
  },
  {
   "cell_type": "code",
   "execution_count": 77,
   "id": "59a72862",
   "metadata": {},
   "outputs": [
    {
     "name": "stdout",
     "output_type": "stream",
     "text": [
      "+--------------------------+--------+-----------------------------------------------------------------------------------+----+-----+--------+------------+----------+-------------------+\n",
      "|Name                      |Category|Ingredients                                                                        |Size|Price|Quantity|Total Amount|Date      |Time               |\n",
      "+--------------------------+--------+-----------------------------------------------------------------------------------+----+-----+--------+------------+----------+-------------------+\n",
      "|The Barbecue Chicken Pizza|CHICKEN |Barbecued Chicken, Red Peppers, Green Peppers, Tomatoes, Red Onions, Barbecue Sauce|L   |20.75|2       |41.50       |2015-12-31|2023-06-14 19:05:04|\n",
      "|The Barbecue Chicken Pizza|CHICKEN |Barbecued Chicken, Red Peppers, Green Peppers, Tomatoes, Red Onions, Barbecue Sauce|L   |20.75|1       |20.75       |2015-12-31|2023-06-14 18:52:10|\n",
      "|The Barbecue Chicken Pizza|CHICKEN |Barbecued Chicken, Red Peppers, Green Peppers, Tomatoes, Red Onions, Barbecue Sauce|L   |20.75|1       |20.75       |2015-12-31|2023-06-14 18:38:38|\n",
      "|The Barbecue Chicken Pizza|CHICKEN |Barbecued Chicken, Red Peppers, Green Peppers, Tomatoes, Red Onions, Barbecue Sauce|L   |20.75|1       |20.75       |2015-12-31|2023-06-14 18:18:30|\n",
      "|The Barbecue Chicken Pizza|CHICKEN |Barbecued Chicken, Red Peppers, Green Peppers, Tomatoes, Red Onions, Barbecue Sauce|L   |20.75|1       |20.75       |2015-12-30|2023-06-14 20:12:27|\n",
      "|The Barbecue Chicken Pizza|CHICKEN |Barbecued Chicken, Red Peppers, Green Peppers, Tomatoes, Red Onions, Barbecue Sauce|L   |20.75|1       |20.75       |2015-12-29|2023-06-14 13:43:53|\n",
      "|The Barbecue Chicken Pizza|CHICKEN |Barbecued Chicken, Red Peppers, Green Peppers, Tomatoes, Red Onions, Barbecue Sauce|L   |20.75|1       |20.75       |2015-12-27|2023-06-14 12:48:05|\n",
      "|The Barbecue Chicken Pizza|CHICKEN |Barbecued Chicken, Red Peppers, Green Peppers, Tomatoes, Red Onions, Barbecue Sauce|L   |20.75|1       |20.75       |2015-12-26|2023-06-14 20:07:54|\n",
      "|The Barbecue Chicken Pizza|CHICKEN |Barbecued Chicken, Red Peppers, Green Peppers, Tomatoes, Red Onions, Barbecue Sauce|L   |20.75|1       |20.75       |2015-12-26|2023-06-14 15:25:45|\n",
      "|The Barbecue Chicken Pizza|CHICKEN |Barbecued Chicken, Red Peppers, Green Peppers, Tomatoes, Red Onions, Barbecue Sauce|L   |20.75|1       |20.75       |2015-12-26|2023-06-14 14:41:05|\n",
      "|The Barbecue Chicken Pizza|CHICKEN |Barbecued Chicken, Red Peppers, Green Peppers, Tomatoes, Red Onions, Barbecue Sauce|L   |20.75|1       |20.75       |2015-12-24|2023-06-14 20:58:44|\n",
      "|The Barbecue Chicken Pizza|CHICKEN |Barbecued Chicken, Red Peppers, Green Peppers, Tomatoes, Red Onions, Barbecue Sauce|L   |20.75|1       |20.75       |2015-12-24|2023-06-14 18:53:52|\n",
      "|The Barbecue Chicken Pizza|CHICKEN |Barbecued Chicken, Red Peppers, Green Peppers, Tomatoes, Red Onions, Barbecue Sauce|L   |20.75|1       |20.75       |2015-12-24|2023-06-14 15:08:38|\n",
      "|The Barbecue Chicken Pizza|CHICKEN |Barbecued Chicken, Red Peppers, Green Peppers, Tomatoes, Red Onions, Barbecue Sauce|L   |20.75|1       |20.75       |2015-12-23|2023-06-14 17:52:04|\n",
      "|The Barbecue Chicken Pizza|CHICKEN |Barbecued Chicken, Red Peppers, Green Peppers, Tomatoes, Red Onions, Barbecue Sauce|L   |20.75|1       |20.75       |2015-12-23|2023-06-14 15:30:43|\n",
      "|The Barbecue Chicken Pizza|CHICKEN |Barbecued Chicken, Red Peppers, Green Peppers, Tomatoes, Red Onions, Barbecue Sauce|L   |20.75|1       |20.75       |2015-12-23|2023-06-14 11:42:50|\n",
      "|The Barbecue Chicken Pizza|CHICKEN |Barbecued Chicken, Red Peppers, Green Peppers, Tomatoes, Red Onions, Barbecue Sauce|L   |20.75|1       |20.75       |2015-12-22|2023-06-14 13:17:55|\n",
      "|The Barbecue Chicken Pizza|CHICKEN |Barbecued Chicken, Red Peppers, Green Peppers, Tomatoes, Red Onions, Barbecue Sauce|L   |20.75|1       |20.75       |2015-12-21|2023-06-14 22:16:13|\n",
      "|The Barbecue Chicken Pizza|CHICKEN |Barbecued Chicken, Red Peppers, Green Peppers, Tomatoes, Red Onions, Barbecue Sauce|L   |20.75|1       |20.75       |2015-12-21|2023-06-14 18:51:54|\n",
      "|The Barbecue Chicken Pizza|CHICKEN |Barbecued Chicken, Red Peppers, Green Peppers, Tomatoes, Red Onions, Barbecue Sauce|L   |20.75|1       |20.75       |2015-12-21|2023-06-14 17:09:32|\n",
      "+--------------------------+--------+-----------------------------------------------------------------------------------+----+-----+--------+------------+----------+-------------------+\n",
      "only showing top 20 rows\n",
      "\n"
     ]
    }
   ],
   "source": [
    "def upperCase(str):\n",
    "    return str.upper()\n",
    "\n",
    "upperCaseUDF = udf(lambda z:upperCase(z), StringType())\n",
    "\n",
    "dfPizza = dfPizza.withColumn(\"Category\",upperCaseUDF(col(\"Category\")))\n",
    "dfPizza.show(truncate=False)"
   ]
  },
  {
   "attachments": {},
   "cell_type": "markdown",
   "id": "b7a1a848",
   "metadata": {},
   "source": [
    "### Summing of Total Amount by Category and Pizza Name"
   ]
  },
  {
   "cell_type": "code",
   "execution_count": 78,
   "id": "f062b0c1",
   "metadata": {},
   "outputs": [
    {
     "name": "stdout",
     "output_type": "stream",
     "text": [
      "+--------+------------+\n",
      "|Category|Total Amount|\n",
      "+--------+------------+\n",
      "|CLASSIC |220053.10   |\n",
      "|SUPREME |208197.00   |\n",
      "|CHICKEN |195919.50   |\n",
      "|VEGGIE  |193690.45   |\n",
      "+--------+------------+\n",
      "\n"
     ]
    }
   ],
   "source": [
    "dfPizzaCategoryByTotalAmount = dfPizza.groupBy(\"Category\").sum(\"Total Amount\").orderBy(desc(\"sum(Total Amount)\"))\n",
    "dfPizzaCategoryByTotalAmount.select(\"Category\",col(\"sum(Total Amount)\").alias(\"Total Amount\")).show(truncate=False)"
   ]
  },
  {
   "cell_type": "code",
   "execution_count": 79,
   "id": "9b170e9a",
   "metadata": {},
   "outputs": [
    {
     "name": "stdout",
     "output_type": "stream",
     "text": [
      "+---------------------------------+------------+-------+\n",
      "|Name                             |Total Amount|Ranking|\n",
      "+---------------------------------+------------+-------+\n",
      "|The Thai Chicken Pizza           |43434.25    |1      |\n",
      "|The Barbecue Chicken Pizza       |42768.00    |2      |\n",
      "|The California Chicken Pizza     |41409.50    |3      |\n",
      "|The Classic Deluxe Pizza         |38180.50    |4      |\n",
      "|The Spicy Italian Pizza          |34831.25    |5      |\n",
      "|The Southwest Chicken Pizza      |34705.75    |6      |\n",
      "|The Italian Supreme Pizza        |33476.75    |7      |\n",
      "|The Hawaiian Pizza               |32273.25    |8      |\n",
      "|The Four Cheese Pizza            |32265.70    |9      |\n",
      "|The Sicilian Pizza               |30940.50    |10     |\n",
      "|The Pepperoni Pizza              |30161.75    |11     |\n",
      "|The Greek Pizza                  |28454.10    |12     |\n",
      "|The Mexicana Pizza               |26780.75    |13     |\n",
      "|The Five Cheese Pizza            |26066.50    |14     |\n",
      "|The Pepper Salami Pizza          |25529.00    |15     |\n",
      "|The Italian Capocollo Pizza      |25094.00    |16     |\n",
      "|The Vegetables + Vegetables Pizza|24374.75    |17     |\n",
      "|The Prosciutto and Arugula Pizza |24193.25    |18     |\n",
      "|The Napolitana Pizza             |24087.00    |19     |\n",
      "|The Spinach and Feta Pizza       |23271.25    |20     |\n",
      "+---------------------------------+------------+-------+\n",
      "only showing top 20 rows\n",
      "\n"
     ]
    }
   ],
   "source": [
    "dfPizzaPizzaNameByTotalAmount = dfPizza.groupBy(\"Name\").sum(\"Total Amount\")\n",
    "dfPizzaPizzaNameByTotalAmount = dfPizzaPizzaNameByTotalAmount.select(\"Name\",col(\"sum(Total Amount)\").alias(\"Total Amount\"))\n",
    "windowSpec = Window.orderBy(desc(\"Total Amount\"))\n",
    "dfPizzaPizzaNameByTotalAmount.withColumn(\"Ranking\", row_number().over(windowSpec)).show(truncate=False)"
   ]
  },
  {
   "attachments": {},
   "cell_type": "markdown",
   "id": "736d8899",
   "metadata": {},
   "source": [
    "### Grouping of Pizza Name "
   ]
  },
  {
   "cell_type": "code",
   "execution_count": 80,
   "id": "5cceecf2",
   "metadata": {},
   "outputs": [
    {
     "name": "stdout",
     "output_type": "stream",
     "text": [
      "+---------------------------------+------------+--------+\n",
      "|Name                             |Total Amount|Grouping|\n",
      "+---------------------------------+------------+--------+\n",
      "|The Thai Chicken Pizza           |43434.25    |1       |\n",
      "|The Barbecue Chicken Pizza       |42768.00    |1       |\n",
      "|The California Chicken Pizza     |41409.50    |1       |\n",
      "|The Classic Deluxe Pizza         |38180.50    |1       |\n",
      "|The Spicy Italian Pizza          |34831.25    |1       |\n",
      "|The Southwest Chicken Pizza      |34705.75    |1       |\n",
      "|The Italian Supreme Pizza        |33476.75    |1       |\n",
      "|The Hawaiian Pizza               |32273.25    |2       |\n",
      "|The Four Cheese Pizza            |32265.70    |2       |\n",
      "|The Sicilian Pizza               |30940.50    |2       |\n",
      "|The Pepperoni Pizza              |30161.75    |2       |\n",
      "|The Greek Pizza                  |28454.10    |2       |\n",
      "|The Mexicana Pizza               |26780.75    |2       |\n",
      "|The Five Cheese Pizza            |26066.50    |2       |\n",
      "|The Pepper Salami Pizza          |25529.00    |3       |\n",
      "|The Italian Capocollo Pizza      |25094.00    |3       |\n",
      "|The Vegetables + Vegetables Pizza|24374.75    |3       |\n",
      "|The Prosciutto and Arugula Pizza |24193.25    |3       |\n",
      "|The Napolitana Pizza             |24087.00    |3       |\n",
      "|The Spinach and Feta Pizza       |23271.25    |3       |\n",
      "+---------------------------------+------------+--------+\n",
      "only showing top 20 rows\n",
      "\n"
     ]
    }
   ],
   "source": [
    "dfPizzaPizzaNameByTotalAmount.withColumn(\"Grouping\",ntile(5).over(windowSpec)).show(truncate=False)\n",
    "\n",
    "dfPizzaPizzaNameByTotalAmountGrouping =  dfPizzaPizzaNameByTotalAmount.withColumn(\"Grouping\",ntile(5).over(windowSpec))\n"
   ]
  },
  {
   "cell_type": "code",
   "execution_count": 81,
   "id": "bd96102f",
   "metadata": {},
   "outputs": [
    {
     "name": "stdout",
     "output_type": "stream",
     "text": [
      "+----------------------------+------------+--------+\n",
      "|Name                        |Total Amount|Grouping|\n",
      "+----------------------------+------------+--------+\n",
      "|The Thai Chicken Pizza      |43434.25    |1       |\n",
      "|The Barbecue Chicken Pizza  |42768.00    |1       |\n",
      "|The California Chicken Pizza|41409.50    |1       |\n",
      "|The Classic Deluxe Pizza    |38180.50    |1       |\n",
      "|The Spicy Italian Pizza     |34831.25    |1       |\n",
      "|The Southwest Chicken Pizza |34705.75    |1       |\n",
      "|The Italian Supreme Pizza   |33476.75    |1       |\n",
      "+----------------------------+------------+--------+\n",
      "\n"
     ]
    }
   ],
   "source": [
    "dfPizzaPizzaNameByTotalAmountGrouping.filter(dfPizzaPizzaNameByTotalAmountGrouping[\"Grouping\"] == 1).show(truncate=False)"
   ]
  },
  {
   "cell_type": "code",
   "execution_count": 82,
   "id": "880b61ef",
   "metadata": {},
   "outputs": [
    {
     "name": "stdout",
     "output_type": "stream",
     "text": [
      "+-------------------------+------------+--------+\n",
      "|Name                     |Total Amount|Grouping|\n",
      "+-------------------------+------------+--------+\n",
      "|The Calabrese Pizza      |15934.25    |5       |\n",
      "|The Spinach Pesto Pizza  |15596.00    |5       |\n",
      "|The Mediterranean Pizza  |15360.50    |5       |\n",
      "|The Spinach Supreme Pizza|15277.75    |5       |\n",
      "|The Green Garden Pizza   |13955.75    |5       |\n",
      "|The Brie Carre Pizza     |11588.50    |5       |\n",
      "+-------------------------+------------+--------+\n",
      "\n"
     ]
    }
   ],
   "source": [
    "dfPizzaPizzaNameByTotalAmountGrouping.filter(dfPizzaPizzaNameByTotalAmountGrouping[\"Grouping\"] == 5).show(truncate=False)"
   ]
  },
  {
   "attachments": {},
   "cell_type": "markdown",
   "id": "78d2a698",
   "metadata": {},
   "source": [
    "### Running Total by Month"
   ]
  },
  {
   "cell_type": "code",
   "execution_count": 83,
   "id": "3b26802e",
   "metadata": {},
   "outputs": [
    {
     "name": "stdout",
     "output_type": "stream",
     "text": [
      "+----+-----+------------+\n",
      "|Year|Month|Total Amount|\n",
      "+----+-----+------------+\n",
      "|2015|1    |69793.30    |\n",
      "|2015|2    |65159.60    |\n",
      "|2015|3    |70397.10    |\n",
      "|2015|4    |68736.80    |\n",
      "|2015|5    |71402.75    |\n",
      "|2015|6    |68230.20    |\n",
      "|2015|7    |72557.90    |\n",
      "|2015|8    |68278.25    |\n",
      "|2015|9    |64180.05    |\n",
      "|2015|10   |64027.60    |\n",
      "|2015|11   |70395.35    |\n",
      "|2015|12   |64701.15    |\n",
      "+----+-----+------------+\n",
      "\n"
     ]
    }
   ],
   "source": [
    "dfPizzaGrouping = dfPizza.select(year(col(\"Date\")),\n",
    "               month(col(\"Date\")),\n",
    "               col(\"Total Amount\"))\n",
    "\n",
    "\n",
    "dfPizzaGrouping = dfPizzaGrouping.groupBy(\"year(Date)\",\"month(Date)\").sum(\"Total Amount\")\n",
    "dfPizzaGrouping = dfPizzaGrouping.na.drop()\n",
    "dfPizzaGrouping = dfPizzaGrouping.select(col(\"year(Date)\").alias(\"Year\"),\n",
    "                       col(\"month(Date)\").alias(\"Month\"),\n",
    "                       col(\"sum(Total Amount)\").alias(\"Total Amount\"))\n",
    "\n",
    "dfPizzaGrouping.orderBy(\"Month\").show(truncate=False)\n"
   ]
  },
  {
   "cell_type": "code",
   "execution_count": 84,
   "id": "9efeb68f",
   "metadata": {},
   "outputs": [
    {
     "name": "stdout",
     "output_type": "stream",
     "text": [
      "+----------+------------+--------+--------+--------+---------------+\n",
      "|Month-Year|Total Amount|Lag     |Diff    |Lead    |Cummluative Sum|\n",
      "+----------+------------+--------+--------+--------+---------------+\n",
      "|1-2015    |69793.30    |0.00    |69793.30|65159.60|69793.30       |\n",
      "|2-2015    |65159.60    |69793.30|-4633.70|70397.10|134952.90      |\n",
      "|3-2015    |70397.10    |65159.60|5237.50 |68736.80|205350.00      |\n",
      "|4-2015    |68736.80    |70397.10|-1660.30|71402.75|274086.80      |\n",
      "|5-2015    |71402.75    |68736.80|2665.95 |68230.20|345489.55      |\n",
      "|6-2015    |68230.20    |71402.75|-3172.55|72557.90|413719.75      |\n",
      "|7-2015    |72557.90    |68230.20|4327.70 |68278.25|486277.65      |\n",
      "|8-2015    |68278.25    |72557.90|-4279.65|64180.05|554555.90      |\n",
      "|9-2015    |64180.05    |68278.25|-4098.20|64027.60|618735.95      |\n",
      "|10-2015   |64027.60    |64180.05|-152.45 |70395.35|682763.55      |\n",
      "|11-2015   |70395.35    |64027.60|6367.75 |64701.15|753158.90      |\n",
      "|12-2015   |64701.15    |70395.35|-5694.20|0.00    |817860.05      |\n",
      "+----------+------------+--------+--------+--------+---------------+\n",
      "\n"
     ]
    }
   ],
   "source": [
    "windowSpec = Window.partitionBy().orderBy(\"Month\")\n",
    "windowval = (Window.partitionBy().orderBy(\"Month\").rangeBetween(Window.unboundedPreceding,0))\n",
    "\n",
    "dfPizzaGrouping = dfPizzaGrouping.select(\"Year\",\n",
    "                                         \"Month\",\n",
    "                                         concat_ws(\"-\",col(\"Month\"),col(\"Year\")).alias(\"Month-Year\"),\n",
    "                                         \"Total Amount\")\n",
    "dfPizzaGrouping = dfPizzaGrouping.withColumn(\"Lag\", lag(col(\"Total Amount\"), offset=1, default=0).over(windowSpec))\n",
    "dfPizzaGrouping = dfPizzaGrouping.withColumn(\"Diff\",\n",
    "                                             when(isnull(col(\"Total Amount\") - col(\"Lag\")),0)\n",
    "                                                  .otherwise(col(\"Total Amount\") - col(\"Lag\")))\n",
    "dfPizzaGrouping = dfPizzaGrouping.withColumn(\"Lead\", lead(col(\"Total Amount\"), offset=1,default = 0).over(windowSpec))\n",
    "dfPizzaGrouping = dfPizzaGrouping.withColumn(\"Cummluative Sum\", sum(col(\"Total Amount\")).over(windowval))\n",
    "\n",
    "dfPizzaGrouping.select(\"Month-Year\",\n",
    "                       \"Total Amount\",\n",
    "                       \"Lag\",\n",
    "                       \"Diff\",\n",
    "                       \"Lead\",\n",
    "                       \"Cummluative Sum\").show(truncate=False )\n",
    "\n",
    "\n"
   ]
  },
  {
   "attachments": {},
   "cell_type": "markdown",
   "id": "1bb42055",
   "metadata": {},
   "source": [
    "### The quantity of orders in terms of Pizza and its size"
   ]
  },
  {
   "cell_type": "code",
   "execution_count": 85,
   "id": "8ed47b57",
   "metadata": {},
   "outputs": [
    {
     "name": "stdout",
     "output_type": "stream",
     "text": [
      "+------------------------------------------+------------------+\n",
      "|Name                                      |Quantity of Orders|\n",
      "+------------------------------------------+------------------+\n",
      "|The Classic Deluxe Pizza                  |2416              |\n",
      "|The Barbecue Chicken Pizza                |2372              |\n",
      "|The Hawaiian Pizza                        |2370              |\n",
      "|The Pepperoni Pizza                       |2369              |\n",
      "|The Thai Chicken Pizza                    |2315              |\n",
      "|The California Chicken Pizza              |2302              |\n",
      "|The Spicy Italian Pizza                   |1887              |\n",
      "|The Sicilian Pizza                        |1887              |\n",
      "|The Southwest Chicken Pizza               |1885              |\n",
      "|The Four Cheese Pizza                     |1850              |\n",
      "|The Italian Supreme Pizza                 |1849              |\n",
      "|The Big Meat Pizza                        |1811              |\n",
      "|The Vegetables + Vegetables Pizza         |1510              |\n",
      "|The Mexicana Pizza                        |1456              |\n",
      "|The Napolitana Pizza                      |1451              |\n",
      "|The Spinach and Feta Pizza                |1432              |\n",
      "|The Prosciutto and Arugula Pizza          |1428              |\n",
      "|The Pepper Salami Pizza                   |1422              |\n",
      "|The Italian Capocollo Pizza               |1414              |\n",
      "|The Greek Pizza                           |1406              |\n",
      "|The Five Cheese Pizza                     |1359              |\n",
      "|The Pepperoni, Mushroom, and Peppers Pizza|1342              |\n",
      "|The Green Garden Pizza                    |987               |\n",
      "|The Chicken Alfredo Pizza                 |980               |\n",
      "|The Italian Vegetables Pizza              |975               |\n",
      "|The Chicken Pesto Pizza                   |961               |\n",
      "|The Soppressata Pizza                     |957               |\n",
      "|The Spinach Pesto Pizza                   |957               |\n",
      "|The Spinach Supreme Pizza                 |940               |\n",
      "|The Calabrese Pizza                       |927               |\n",
      "|The Mediterranean Pizza                   |923               |\n",
      "|The Brie Carre Pizza                      |480               |\n",
      "+------------------------------------------+------------------+\n",
      "\n"
     ]
    }
   ],
   "source": [
    "dfOrderedPizza = dfPizza.na.drop()\n",
    "\n",
    "dfOrderedPizza = dfOrderedPizza.groupBy(\"Name\").count()\n",
    "\n",
    "dfOrderedPizza.select(\"Name\",col(\"Count\").alias(\"Quantity of Orders\")).orderBy(desc(\"count\")).show(dfOrderedPizza.count(), False)\n"
   ]
  },
  {
   "cell_type": "code",
   "execution_count": 86,
   "id": "b2ca231b",
   "metadata": {},
   "outputs": [
    {
     "name": "stdout",
     "output_type": "stream",
     "text": [
      "+----+------------------+\n",
      "|Size|Quantity of Orders|\n",
      "+----+------------------+\n",
      "|L   |18527             |\n",
      "|M   |15387             |\n",
      "|S   |14139             |\n",
      "|XL  |544               |\n",
      "|XXL |28                |\n",
      "+----+------------------+\n",
      "\n"
     ]
    }
   ],
   "source": [
    "dfPizzaSize = dfPizza.groupBy(\"Size\").count()\n",
    "\n",
    "dfPizzaSize.select(\"Size\", col(\"count\").alias(\"Quantity of Orders\")).orderBy(desc(\"Quantity of Orders\")).show(truncate=False)\n",
    "\n",
    "\n"
   ]
  },
  {
   "attachments": {},
   "cell_type": "markdown",
   "id": "e8494331",
   "metadata": {},
   "source": [
    "### Quantity of orders in a day and which pizza was ordered most of the time"
   ]
  },
  {
   "cell_type": "code",
   "execution_count": 87,
   "id": "967e91d7",
   "metadata": {},
   "outputs": [
    {
     "name": "stdout",
     "output_type": "stream",
     "text": [
      "+---+------------------+\n",
      "|Day|Quantity of Orders|\n",
      "+---+------------------+\n",
      "|1  |1782              |\n",
      "|2  |1624              |\n",
      "|3  |1660              |\n",
      "|4  |1773              |\n",
      "|5  |1427              |\n",
      "|6  |1673              |\n",
      "|7  |1647              |\n",
      "|8  |1646              |\n",
      "|9  |1656              |\n",
      "|10 |1601              |\n",
      "|11 |1655              |\n",
      "|12 |1443              |\n",
      "|13 |1643              |\n",
      "|14 |1643              |\n",
      "|15 |1844              |\n",
      "|16 |1609              |\n",
      "|17 |1649              |\n",
      "|18 |1589              |\n",
      "|19 |1463              |\n",
      "|20 |1650              |\n",
      "|21 |1560              |\n",
      "|22 |1484              |\n",
      "|23 |1595              |\n",
      "|24 |1546              |\n",
      "|25 |1245              |\n",
      "|26 |1504              |\n",
      "|27 |1763              |\n",
      "|28 |1450              |\n",
      "|29 |1361              |\n",
      "|30 |1439              |\n",
      "|31 |996               |\n",
      "+---+------------------+\n",
      "\n"
     ]
    }
   ],
   "source": [
    "dfPizzaWithoutTime  = dfPizza.select('Name',\n",
    " 'Category',\n",
    " 'Ingredients',\n",
    " 'Size',\n",
    " 'Price',\n",
    " 'Quantity',\n",
    " 'Total Amount',\n",
    " 'Date')\n",
    "\n",
    "dfPizzaDayMonthYear = dfPizzaWithoutTime.withColumn(\"Day\", dayofmonth(col(\"Date\"))) \\\n",
    "        .withColumn(\"Month\", month(col(\"Date\"))) \\\n",
    "        .withColumn(\"Year\", year(col(\"Date\")))\n",
    "\n",
    "dfPizzaDayMonthYear = dfPizzaDayMonthYear.na.drop()\n",
    "\n",
    "dfPizzaDayMonthYearQuantity = dfPizzaDayMonthYear.groupBy(\"Day\").count().orderBy(\"Day\")\n",
    "\n",
    "dfPizzaDayMonthYearQuantity.select(\"Day\", col(\"count\").alias(\"Quantity of Orders\")).show(dfPizzaDayMonthYearQuantity.count(), False)"
   ]
  },
  {
   "cell_type": "code",
   "execution_count": 88,
   "id": "a2367a5d",
   "metadata": {},
   "outputs": [
    {
     "name": "stdout",
     "output_type": "stream",
     "text": [
      "+---+--------------------+------------------+\n",
      "|Day|                Name|Quantity of Orders|\n",
      "+---+--------------------+------------------+\n",
      "|  1|The Spicy Italian...|                58|\n",
      "|  1|The Italian Capoc...|                59|\n",
      "|  1|The Brie Carre Pizza|                11|\n",
      "|  1|The Classic Delux...|                94|\n",
      "|  1|  The Big Meat Pizza|                55|\n",
      "|  1|  The Mexicana Pizza|                45|\n",
      "|  1|The Italian Veget...|                32|\n",
      "|  1|The Spinach and F...|                51|\n",
      "|  1|The Five Cheese P...|                59|\n",
      "|  1|The Italian Supre...|                85|\n",
      "|  1|The Chicken Pesto...|                32|\n",
      "|  1|The California Ch...|                75|\n",
      "|  1|The Mediterranean...|                31|\n",
      "|  1| The Pepperoni Pizza|                86|\n",
      "|  1|The Southwest Chi...|                78|\n",
      "|  1|  The Hawaiian Pizza|                81|\n",
      "|  1|     The Greek Pizza|                47|\n",
      "|  1|The Chicken Alfre...|                27|\n",
      "|  1|The Napolitana Pizza|                53|\n",
      "|  1|The Pepperoni, Mu...|                57|\n",
      "|  1|The Soppressata P...|                26|\n",
      "|  1|The Spinach Pesto...|                38|\n",
      "|  1|The Thai Chicken ...|                77|\n",
      "|  1| The Calabrese Pizza|                44|\n",
      "|  1|The Pepper Salami...|                55|\n",
      "|  1|  The Sicilian Pizza|                70|\n",
      "|  1|The Barbecue Chic...|                94|\n",
      "|  1|The Four Cheese P...|                69|\n",
      "|  1|The Vegetables + ...|                53|\n",
      "|  1|The Prosciutto an...|                54|\n",
      "+---+--------------------+------------------+\n",
      "only showing top 30 rows\n",
      "\n"
     ]
    }
   ],
   "source": [
    "dfPizzaDayNameQuantity = dfPizzaDayMonthYear.groupBy(\"Day\",\"Name\").count().orderBy(\"Day\")\n",
    "\n",
    "\n",
    "dfPizzaDayNameQuantity.select(\"Day\",\"Name\",col(\"count\").alias(\"Quantity of Orders\")).show(30)"
   ]
  },
  {
   "attachments": {},
   "cell_type": "markdown",
   "id": "9b644455",
   "metadata": {},
   "source": [
    "### Total Amount of Pizza in each day"
   ]
  },
  {
   "cell_type": "code",
   "execution_count": 89,
   "id": "d99feec2",
   "metadata": {},
   "outputs": [
    {
     "name": "stdout",
     "output_type": "stream",
     "text": [
      "+---+------------+\n",
      "|Day|Total Amount|\n",
      "+---+------------+\n",
      "|1  |29608.55    |\n",
      "|2  |27495.40    |\n",
      "|3  |27993.15    |\n",
      "|4  |29675.65    |\n",
      "|5  |23988.40    |\n",
      "|6  |28097.45    |\n",
      "|7  |27636.40    |\n",
      "|8  |27976.90    |\n",
      "|9  |27963.90    |\n",
      "|10 |26967.95    |\n",
      "|11 |27756.20    |\n",
      "|12 |24169.85    |\n",
      "|13 |27665.10    |\n",
      "|14 |27727.25    |\n",
      "|15 |30588.90    |\n",
      "|16 |26890.35    |\n",
      "|17 |27969.25    |\n",
      "|18 |26913.70    |\n",
      "|19 |24755.70    |\n",
      "|20 |27811.20    |\n",
      "|21 |26028.70    |\n",
      "|22 |25004.80    |\n",
      "|23 |27137.05    |\n",
      "|24 |26098.60    |\n",
      "|25 |20875.80    |\n",
      "|26 |25247.35    |\n",
      "|27 |29655.95    |\n",
      "|28 |24154.85    |\n",
      "|29 |23045.40    |\n",
      "|30 |24230.60    |\n",
      "|31 |16729.70    |\n",
      "+---+------------+\n",
      "\n"
     ]
    }
   ],
   "source": [
    "dfPizzaTotalAmountEachDay = dfPizzaDayMonthYear.groupBy(\"Day\").sum(\"Total Amount\").orderBy(\"Day\")\n",
    "\n",
    "dfPizzaTotalAmountEachDay.select(\"Day\",col(\"sum(Total Amount)\").alias(\"Total Amount\")).show(dfPizzaTotalAmountEachDay.count(), False)"
   ]
  },
  {
   "cell_type": "code",
   "execution_count": 90,
   "id": "14f7858f",
   "metadata": {},
   "outputs": [
    {
     "name": "stdout",
     "output_type": "stream",
     "text": [
      "+---+--------------------+------------+\n",
      "|Day|                Name|Total Amount|\n",
      "+---+--------------------+------------+\n",
      "|  1|The Spicy Italian...|     1049.50|\n",
      "|  1|The Italian Capoc...|     1022.50|\n",
      "|  1|The Brie Carre Pizza|      260.15|\n",
      "|  1|The Classic Delux...|     1490.00|\n",
      "|  1|  The Big Meat Pizza|      708.00|\n",
      "|  1|  The Mexicana Pizza|      876.25|\n",
      "|  1|The Italian Veget...|      529.50|\n",
      "|  1|The Spinach and F...|      840.00|\n",
      "|  1|The Five Cheese P...|     1128.50|\n",
      "|  1|The Italian Supre...|     1522.25|\n",
      "|  1|The Chicken Pesto...|      576.75|\n",
      "|  1|The California Ch...|     1320.25|\n",
      "|  1|The Mediterranean...|      535.25|\n",
      "|  1| The Pepperoni Pizza|     1105.75|\n",
      "|  1|The Southwest Chi...|     1402.50|\n",
      "|  1|  The Hawaiian Pizza|     1076.25|\n",
      "|  1|     The Greek Pizza|      933.50|\n",
      "|  1|The Chicken Alfre...|      473.00|\n",
      "|  1|The Napolitana Pizza|      835.50|\n",
      "|  1|The Pepperoni, Mu...|      775.00|\n",
      "|  1|The Soppressata P...|      448.00|\n",
      "|  1|The Spinach Pesto...|      560.50|\n",
      "|  1|The Thai Chicken ...|     1458.50|\n",
      "|  1| The Calabrese Pizza|      771.50|\n",
      "|  1|The Pepper Salami...|      957.75|\n",
      "|  1|  The Sicilian Pizza|     1145.75|\n",
      "|  1|The Barbecue Chic...|     1662.50|\n",
      "|  1|The Four Cheese P...|     1182.90|\n",
      "|  1|The Vegetables + ...|      823.50|\n",
      "|  1|The Prosciutto an...|      903.50|\n",
      "+---+--------------------+------------+\n",
      "only showing top 30 rows\n",
      "\n"
     ]
    }
   ],
   "source": [
    "dfPizzaDayNameTotalAmount = dfPizzaDayMonthYear.groupBy(\"Day\",\"Name\").sum(\"Total Amount\").orderBy(\"Day\")\n",
    "\n",
    "dfPizzaDayNameTotalAmount.select(\"Day\",\"Name\",col(\"sum(Total Amount)\").alias(\"Total Amount\")).show(30)"
   ]
  },
  {
   "attachments": {},
   "cell_type": "markdown",
   "id": "7397c528",
   "metadata": {},
   "source": [
    "### Looking for the greatest value of these and minimum and which day"
   ]
  },
  {
   "attachments": {},
   "cell_type": "markdown",
   "id": "ccc69e98",
   "metadata": {},
   "source": [
    "### Counting orders in each month in the name of month"
   ]
  },
  {
   "cell_type": "code",
   "execution_count": 91,
   "id": "41a32413",
   "metadata": {},
   "outputs": [
    {
     "name": "stdout",
     "output_type": "stream",
     "text": [
      "+---------+------------------+\n",
      "|    Month|Quantity of Orders|\n",
      "+---------+------------------+\n",
      "|  January|              4156|\n",
      "| February|              3892|\n",
      "|    March|              4186|\n",
      "|    April|              4067|\n",
      "|      May|              4239|\n",
      "|     June|              4025|\n",
      "|     July|              4301|\n",
      "|   August|              4094|\n",
      "|September|              3819|\n",
      "|  October|              3797|\n",
      "| November|              4185|\n",
      "| December|              3859|\n",
      "+---------+------------------+\n",
      "\n"
     ]
    }
   ],
   "source": [
    "dfPizzaMonthName = dfPizza.withColumn(\"Month Name\",date_format(\"date\", \"MMMM\")).withColumn(\"Month\", month(col(\"Date\")))\n",
    "dfPizzaMonthName = dfPizzaMonthName.na.drop()\n",
    "\n",
    "dfPizzaMonthName = dfPizzaMonthName.groupBy(\"Month Name\",\"Month\").count().orderBy(\"Month\")\n",
    "\n",
    "dfPizzaMonthName.select(col(\"Month Name\").alias(\"Month\"),col(\"count\").alias(\"Quantity of Orders\")).show()"
   ]
  },
  {
   "attachments": {},
   "cell_type": "markdown",
   "id": "b3682409",
   "metadata": {},
   "source": [
    "#### Ideas in the future:"
   ]
  },
  {
   "cell_type": "code",
   "execution_count": 92,
   "id": "20128b4d",
   "metadata": {},
   "outputs": [],
   "source": [
    "#from pyspark.sql import functions as F\n",
    "\n",
    "\n",
    "#df2 = dfPizza.select(\"Ingredients\", split(\"Ingredients\", \", \").alias('col2'))\n",
    "\n",
    "#df2.show(truncate=False)\n",
    "#df_sizes = df2.select(F.size('col2').alias('col2'))\n",
    "#df_max = df_sizes.agg(F.max('col2'))\n",
    "#nb_columns = df_max.collect()[0][0]\n",
    "\n",
    "#df_result = df2.select('Ingredients', *[df2['col2'][i] for i in range(nb_columns)])\n",
    "#df_result.show(truncate=False)"
   ]
  },
  {
   "cell_type": "code",
   "execution_count": 93,
   "id": "978e0555",
   "metadata": {},
   "outputs": [],
   "source": [
    "#If you don't know the number of columns:\n",
    "#df_sizes = df2.select(F.size('col2').alias('col2'))\n",
    "#df_max = df_sizes.agg(F.max('col2'))\n",
    "#nb_columns = df_max.collect()[0][0]\n",
    "\n",
    "#df_result = df2.select('col1', *[df2['col2'][i] for i in range(nb_columns)])\n",
    "#df_result.show()\n",
    "#from pyspark.sql.functions import *"
   ]
  },
  {
   "attachments": {},
   "cell_type": "markdown",
   "id": "e83792fd",
   "metadata": {},
   "source": []
  },
  {
   "attachments": {},
   "cell_type": "markdown",
   "id": "573e75f5",
   "metadata": {},
   "source": []
  },
  {
   "cell_type": "code",
   "execution_count": 94,
   "id": "6d81f023",
   "metadata": {},
   "outputs": [],
   "source": [
    "#Things to be considered in next project\n",
    "# dealing with these https://www.datasciencemadesimple.com/get-month-year-and-quarter-from-date-in-pyspark/, \n",
    "# https://www.datasciencemadesimple.com/get-day-of-month-day-of-year-day-of-week-from-date-in-pyspark/\n",
    "#consdering day of week? https://www.datasciencemadesimple.com/get-day-of-month-day-of-year-day-of-week-from-date-in-pyspark/\n",
    "# browsing all materials that I have so as to select!!\n",
    "## thinking what should be done with pizza without orders\n",
    "# thinking about one day - sales amount in one day - the orders of quantity in one day - workig on it\n",
    "## in which month the quantity of orders of pizza are the greatest and which pizza are ordered most!\n",
    "## how many pizzas were ordered based on size - prices of each pizza , total amount by pizza \n",
    "## using UDF (put  example and remove digit at the beginning) & analytical functions\n",
    "#Looking for values with only one ingredient for example salami using wildcard\n",
    "# using pandas and look for spicy pizza or ingredients\n",
    "#case when with size and is null where it is not available\n",
    "#https://sparkbyexamples.com/pyspark/pyspark-groupby-explained-with-example/\n",
    "# https://sparkbyexamples.com/pyspark/pyspark-window-functions/\n",
    "# https://sparkbyexamples.com/pyspark/pyspark-udf-user-defined-function/ \n",
    "# Considering next transformations to be used\n",
    "# max and min of each borough \n",
    "## using pandas / pivot\n",
    "# using inspirations to run this project from .doc files \n",
    "# https://pub.towardsai.net/exploratory-data-analysis-eda-using-pyspark-b43e71fcec9f\n",
    "#https://dev.to/kinyungu_denis/apache-pyspark-for-data-engineering-3phi"
   ]
  }
 ],
 "metadata": {
  "kernelspec": {
   "display_name": "Python 3 (ipykernel)",
   "language": "python",
   "name": "python3"
  },
  "language_info": {
   "codemirror_mode": {
    "name": "ipython",
    "version": 3
   },
   "file_extension": ".py",
   "mimetype": "text/x-python",
   "name": "python",
   "nbconvert_exporter": "python",
   "pygments_lexer": "ipython3",
   "version": "3.11.3"
  }
 },
 "nbformat": 4,
 "nbformat_minor": 5
}
