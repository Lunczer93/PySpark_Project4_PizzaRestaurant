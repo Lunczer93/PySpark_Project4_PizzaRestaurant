{
 "cells": [
  {
   "attachments": {},
   "cell_type": "markdown",
   "id": "b023cdbd",
   "metadata": {},
   "source": [
    "# Importing libraries"
   ]
  },
  {
   "cell_type": "code",
   "execution_count": 1,
   "id": "ab2baf11",
   "metadata": {},
   "outputs": [],
   "source": [
    "import os\n",
    "import sys\n",
    "import glob\n",
    "os.environ[\"PYARROW_IGNORE_TIMEZONE\"] = \"1\"\n",
    "os.environ['PYSPARK_PYTHON'] = sys.executable\n",
    "os.environ['PYSPARK_DRIVER_PYTHON'] = sys.executable"
   ]
  },
  {
   "cell_type": "code",
   "execution_count": 2,
   "id": "63ff700b",
   "metadata": {},
   "outputs": [],
   "source": [
    "from pyspark.sql import SparkSession,functions, Window\n",
    "from pyspark.sql.functions import *\n",
    "from pyspark.sql.types import *\n",
    "import pyspark.pandas as ps\n"
   ]
  },
  {
   "attachments": {},
   "cell_type": "markdown",
   "id": "f3edf6de",
   "metadata": {},
   "source": [
    "# Starting Spark Session and Creating a Spark Session Called Pizza"
   ]
  },
  {
   "cell_type": "code",
   "execution_count": 3,
   "id": "0b247c07",
   "metadata": {},
   "outputs": [],
   "source": [
    "spark = SparkSession.builder \\\n",
    "        .master(\"local[1]\") \\\n",
    "        .appName(\"PizzaRestaurant\") \\\n",
    "        .config(\"spark.some.config.option\", \"config-value\") \\\n",
    "        .enableHiveSupport() \\\n",
    "        .getOrCreate()"
   ]
  },
  {
   "cell_type": "code",
   "execution_count": 4,
   "id": "79e9c2cb",
   "metadata": {},
   "outputs": [
    {
     "data": {
      "text/html": [
       "\n",
       "            <div>\n",
       "                <p><b>SparkSession - hive</b></p>\n",
       "                \n",
       "        <div>\n",
       "            <p><b>SparkContext</b></p>\n",
       "\n",
       "            <p><a href=\"http://POL-8625NG3.SIIPOLSKA.PL:4040\">Spark UI</a></p>\n",
       "\n",
       "            <dl>\n",
       "              <dt>Version</dt>\n",
       "                <dd><code>v3.4.0</code></dd>\n",
       "              <dt>Master</dt>\n",
       "                <dd><code>local[1]</code></dd>\n",
       "              <dt>AppName</dt>\n",
       "                <dd><code>PizzaRestaurant</code></dd>\n",
       "            </dl>\n",
       "        </div>\n",
       "        \n",
       "            </div>\n",
       "        "
      ],
      "text/plain": [
       "<pyspark.sql.session.SparkSession at 0x16cd7f29d50>"
      ]
     },
     "execution_count": 4,
     "metadata": {},
     "output_type": "execute_result"
    }
   ],
   "source": [
    "spark"
   ]
  },
  {
   "attachments": {},
   "cell_type": "markdown",
   "id": "eaafe855",
   "metadata": {},
   "source": [
    "# Browsing .csv PizzaRestaurant files"
   ]
  },
  {
   "cell_type": "code",
   "execution_count": 5,
   "id": "1e6fa78f",
   "metadata": {},
   "outputs": [
    {
     "name": "stdout",
     "output_type": "stream",
     "text": [
      "The file D:\\My commercial projects\\PySpark\\Project 4 PySpark\\Pizza Place Sales exists\n",
      "\n",
      "File names: D:\\My commercial projects\\PySpark\\Project 4 PySpark\\Pizza Place Sales\\orders.csv\n",
      "\n",
      "File names: D:\\My commercial projects\\PySpark\\Project 4 PySpark\\Pizza Place Sales\\order_details.csv\n",
      "\n",
      "File names: D:\\My commercial projects\\PySpark\\Project 4 PySpark\\Pizza Place Sales\\pizzas.csv\n",
      "\n",
      "File names: D:\\My commercial projects\\PySpark\\Project 4 PySpark\\Pizza Place Sales\\pizza_types.csv\n"
     ]
    }
   ],
   "source": [
    "path = r\"D:\\My commercial projects\\PySpark\\Project 4 PySpark\\Pizza Place Sales\"\n",
    "\n",
    "\n",
    "if os.path.exists(path):\n",
    "    print(f'The file {path} exists')\n",
    "else: \n",
    "    print(f\"The file {path} does not exist \")\n",
    "\n",
    "filenames = glob.glob(path + '\\*.csv')\n",
    "\n",
    "for file in filenames:\n",
    "    print(\"\\nFile names:\", file)\n"
   ]
  },
  {
   "attachments": {},
   "cell_type": "markdown",
   "id": "e4097c21",
   "metadata": {},
   "source": [
    "# Reading csv files into Spark DataFrames"
   ]
  },
  {
   "cell_type": "code",
   "execution_count": 6,
   "id": "a1ddb85f",
   "metadata": {},
   "outputs": [],
   "source": [
    "PathOrders = 'D:\\My commercial projects\\PySpark\\Project 4 PySpark\\Pizza Place Sales\\orders.csv'\n",
    "PathOrderDetails = 'D:\\My commercial projects\\PySpark\\Project 4 PySpark\\Pizza Place Sales\\order_details.csv'\n",
    "PathPizzas = 'D:\\My commercial projects\\PySpark\\Project 4 PySpark\\Pizza Place Sales\\pizzas.csv'\n",
    "PathPizzaTypes = 'D:\\My commercial projects\\PySpark\\Project 4 PySpark\\Pizza Place Sales\\pizza_types.csv'\n",
    "\n",
    "dfPizzaOrders = spark.read.csv(PathOrders, header=True, inferSchema=True)\n",
    "dfPizzaOrderDetails = spark.read.csv(PathOrderDetails, header=True, inferSchema=True)\n",
    "dfPizzas = spark.read.csv(PathPizzas, header=True, inferSchema=True)\n",
    "dfPizzaTypes = spark.read.csv(PathPizzaTypes, header=True, inferSchema=True)\n"
   ]
  },
  {
   "attachments": {},
   "cell_type": "markdown",
   "id": "0c99fedd",
   "metadata": {},
   "source": [
    "# Data Exploration"
   ]
  },
  {
   "cell_type": "code",
   "execution_count": 7,
   "id": "f019f9cc",
   "metadata": {},
   "outputs": [
    {
     "name": "stdout",
     "output_type": "stream",
     "text": [
      "+--------+----------+-------------------+\n",
      "|order_id|date      |time               |\n",
      "+--------+----------+-------------------+\n",
      "|1       |2015-01-01|2023-06-15 11:38:36|\n",
      "|2       |2015-01-01|2023-06-15 11:57:40|\n",
      "|3       |2015-01-01|2023-06-15 12:12:28|\n",
      "|4       |2015-01-01|2023-06-15 12:16:31|\n",
      "|5       |2015-01-01|2023-06-15 12:21:30|\n",
      "|6       |2015-01-01|2023-06-15 12:29:36|\n",
      "|7       |2015-01-01|2023-06-15 12:50:37|\n",
      "|8       |2015-01-01|2023-06-15 12:51:37|\n",
      "|9       |2015-01-01|2023-06-15 12:52:01|\n",
      "|10      |2015-01-01|2023-06-15 13:00:15|\n",
      "|11      |2015-01-01|2023-06-15 13:02:59|\n",
      "|12      |2015-01-01|2023-06-15 13:04:41|\n",
      "|13      |2015-01-01|2023-06-15 13:11:55|\n",
      "|14      |2015-01-01|2023-06-15 13:14:19|\n",
      "|15      |2015-01-01|2023-06-15 13:33:00|\n",
      "|16      |2015-01-01|2023-06-15 13:34:07|\n",
      "|17      |2015-01-01|2023-06-15 13:53:00|\n",
      "|18      |2015-01-01|2023-06-15 13:57:08|\n",
      "|19      |2015-01-01|2023-06-15 13:59:09|\n",
      "|20      |2015-01-01|2023-06-15 14:03:08|\n",
      "+--------+----------+-------------------+\n",
      "only showing top 20 rows\n",
      "\n"
     ]
    }
   ],
   "source": [
    "dfPizzaOrders.show(truncate=False)"
   ]
  },
  {
   "cell_type": "code",
   "execution_count": 8,
   "id": "0acfee9b",
   "metadata": {},
   "outputs": [
    {
     "name": "stdout",
     "output_type": "stream",
     "text": [
      "+----------------+--------+--------------+--------+\n",
      "|order_details_id|order_id|pizza_id      |quantity|\n",
      "+----------------+--------+--------------+--------+\n",
      "|1               |1       |hawaiian_m    |1       |\n",
      "|2               |2       |classic_dlx_m |1       |\n",
      "|3               |2       |five_cheese_l |1       |\n",
      "|4               |2       |ital_supr_l   |1       |\n",
      "|5               |2       |mexicana_m    |1       |\n",
      "|6               |2       |thai_ckn_l    |1       |\n",
      "|7               |3       |ital_supr_m   |1       |\n",
      "|8               |3       |prsc_argla_l  |1       |\n",
      "|9               |4       |ital_supr_m   |1       |\n",
      "|10              |5       |ital_supr_m   |1       |\n",
      "|11              |6       |bbq_ckn_s     |1       |\n",
      "|12              |6       |the_greek_s   |1       |\n",
      "|13              |7       |spinach_supr_s|1       |\n",
      "|14              |8       |spinach_supr_s|1       |\n",
      "|15              |9       |classic_dlx_s |1       |\n",
      "|16              |9       |green_garden_s|1       |\n",
      "|17              |9       |ital_cpcllo_l |1       |\n",
      "|18              |9       |ital_supr_l   |1       |\n",
      "|19              |9       |ital_supr_s   |1       |\n",
      "|20              |9       |mexicana_s    |1       |\n",
      "+----------------+--------+--------------+--------+\n",
      "only showing top 20 rows\n",
      "\n"
     ]
    }
   ],
   "source": [
    "dfPizzaOrderDetails.show(truncate=False)"
   ]
  },
  {
   "cell_type": "code",
   "execution_count": 9,
   "id": "2d6e4176",
   "metadata": {},
   "outputs": [
    {
     "name": "stdout",
     "output_type": "stream",
     "text": [
      "+-------------+-------------+----+-----+\n",
      "|pizza_id     |pizza_type_id|size|price|\n",
      "+-------------+-------------+----+-----+\n",
      "|bbq_ckn_s    |bbq_ckn      |S   |12.75|\n",
      "|bbq_ckn_m    |bbq_ckn      |M   |16.75|\n",
      "|bbq_ckn_l    |bbq_ckn      |L   |20.75|\n",
      "|cali_ckn_s   |cali_ckn     |S   |12.75|\n",
      "|cali_ckn_m   |cali_ckn     |M   |16.75|\n",
      "|cali_ckn_l   |cali_ckn     |L   |20.75|\n",
      "|ckn_alfredo_s|ckn_alfredo  |S   |12.75|\n",
      "|ckn_alfredo_m|ckn_alfredo  |M   |16.75|\n",
      "|ckn_alfredo_l|ckn_alfredo  |L   |20.75|\n",
      "|ckn_pesto_s  |ckn_pesto    |S   |12.75|\n",
      "|ckn_pesto_m  |ckn_pesto    |M   |16.75|\n",
      "|ckn_pesto_l  |ckn_pesto    |L   |20.75|\n",
      "|southw_ckn_s |southw_ckn   |S   |12.75|\n",
      "|southw_ckn_m |southw_ckn   |M   |16.75|\n",
      "|southw_ckn_l |southw_ckn   |L   |20.75|\n",
      "|thai_ckn_s   |thai_ckn     |S   |12.75|\n",
      "|thai_ckn_m   |thai_ckn     |M   |16.75|\n",
      "|thai_ckn_l   |thai_ckn     |L   |20.75|\n",
      "|big_meat_s   |big_meat     |S   |12.0 |\n",
      "|big_meat_m   |big_meat     |M   |16.0 |\n",
      "+-------------+-------------+----+-----+\n",
      "only showing top 20 rows\n",
      "\n"
     ]
    }
   ],
   "source": [
    "dfPizzas.show(truncate=False)"
   ]
  },
  {
   "cell_type": "code",
   "execution_count": 10,
   "id": "c696c975",
   "metadata": {},
   "outputs": [
    {
     "name": "stdout",
     "output_type": "stream",
     "text": [
      "+-------------+------------------------------------------+--------+--------------------------------------------------------------------------------------------+\n",
      "|pizza_type_id|name                                      |category|ingredients                                                                                 |\n",
      "+-------------+------------------------------------------+--------+--------------------------------------------------------------------------------------------+\n",
      "|bbq_ckn      |The Barbecue Chicken Pizza                |Chicken |Barbecued Chicken, Red Peppers, Green Peppers, Tomatoes, Red Onions, Barbecue Sauce         |\n",
      "|cali_ckn     |The California Chicken Pizza              |Chicken |Chicken, Artichoke, Spinach, Garlic, Jalapeno Peppers, Fontina Cheese, Gouda Cheese         |\n",
      "|ckn_alfredo  |The Chicken Alfredo Pizza                 |Chicken |Chicken, Red Onions, Red Peppers, Mushrooms, Asiago Cheese, Alfredo Sauce                   |\n",
      "|ckn_pesto    |The Chicken Pesto Pizza                   |Chicken |Chicken, Tomatoes, Red Peppers, Spinach, Garlic, Pesto Sauce                                |\n",
      "|southw_ckn   |The Southwest Chicken Pizza               |Chicken |Chicken, Tomatoes, Red Peppers, Red Onions, Jalapeno Peppers, Corn, Cilantro, Chipotle Sauce|\n",
      "|thai_ckn     |The Thai Chicken Pizza                    |Chicken |Chicken, Pineapple, Tomatoes, Red Peppers, Thai Sweet Chilli Sauce                          |\n",
      "|big_meat     |The Big Meat Pizza                        |Classic |Bacon, Pepperoni, Italian Sausage, Chorizo Sausage                                          |\n",
      "|classic_dlx  |The Classic Deluxe Pizza                  |Classic |Pepperoni, Mushrooms, Red Onions, Red Peppers, Bacon                                        |\n",
      "|hawaiian     |The Hawaiian Pizza                        |Classic |Sliced Ham, Pineapple, Mozzarella Cheese                                                    |\n",
      "|ital_cpcllo  |The Italian Capocollo Pizza               |Classic |Capocollo, Red Peppers, Tomatoes, Goat Cheese, Garlic, Oregano                              |\n",
      "|napolitana   |The Napolitana Pizza                      |Classic |Tomatoes, Anchovies, Green Olives, Red Onions, Garlic                                       |\n",
      "|pep_msh_pep  |The Pepperoni, Mushroom, and Peppers Pizza|Classic |Pepperoni, Mushrooms, Green Peppers                                                         |\n",
      "|pepperoni    |The Pepperoni Pizza                       |Classic |Mozzarella Cheese, Pepperoni                                                                |\n",
      "|the_greek    |The Greek Pizza                           |Classic |Kalamata Olives, Feta Cheese, Tomatoes, Garlic, Beef Chuck Roast, Red Onions                |\n",
      "|brie_carre   |The Brie Carre Pizza                      |Supreme |Brie Carre Cheese, Prosciutto, Caramelized Onions, Pears, Thyme, Garlic                     |\n",
      "|calabrese    |The Calabrese Pizza                       |Supreme |�Nduja Salami, Pancetta, Tomatoes, Red Onions, Friggitello Peppers, Garlic                  |\n",
      "|ital_supr    |The Italian Supreme Pizza                 |Supreme |Calabrese Salami, Capocollo, Tomatoes, Red Onions, Green Olives, Garlic                     |\n",
      "|peppr_salami |The Pepper Salami Pizza                   |Supreme |Genoa Salami, Capocollo, Pepperoni, Tomatoes, Asiago Cheese, Garlic                         |\n",
      "|prsc_argla   |The Prosciutto and Arugula Pizza          |Supreme |Prosciutto di San Daniele, Arugula, Mozzarella Cheese                                       |\n",
      "|sicilian     |The Sicilian Pizza                        |Supreme |Coarse Sicilian Salami, Tomatoes, Green Olives, Luganega Sausage, Onions, Garlic            |\n",
      "+-------------+------------------------------------------+--------+--------------------------------------------------------------------------------------------+\n",
      "only showing top 20 rows\n",
      "\n"
     ]
    }
   ],
   "source": [
    "dfPizzaTypes.show(truncate=False)"
   ]
  },
  {
   "attachments": {},
   "cell_type": "markdown",
   "id": "6b039cb0",
   "metadata": {},
   "source": [
    "# Combining DataFrames"
   ]
  },
  {
   "cell_type": "code",
   "execution_count": 11,
   "id": "688ec221",
   "metadata": {},
   "outputs": [
    {
     "name": "stdout",
     "output_type": "stream",
     "text": [
      "+--------+----------+-------------------+----------------+--------+--------------+--------+\n",
      "|order_id|date      |time               |order_details_id|order_id|pizza_id      |quantity|\n",
      "+--------+----------+-------------------+----------------+--------+--------------+--------+\n",
      "|1       |2015-01-01|2023-06-15 11:38:36|1               |1       |hawaiian_m    |1       |\n",
      "|2       |2015-01-01|2023-06-15 11:57:40|2               |2       |classic_dlx_m |1       |\n",
      "|2       |2015-01-01|2023-06-15 11:57:40|3               |2       |five_cheese_l |1       |\n",
      "|2       |2015-01-01|2023-06-15 11:57:40|4               |2       |ital_supr_l   |1       |\n",
      "|2       |2015-01-01|2023-06-15 11:57:40|5               |2       |mexicana_m    |1       |\n",
      "|2       |2015-01-01|2023-06-15 11:57:40|6               |2       |thai_ckn_l    |1       |\n",
      "|3       |2015-01-01|2023-06-15 12:12:28|7               |3       |ital_supr_m   |1       |\n",
      "|3       |2015-01-01|2023-06-15 12:12:28|8               |3       |prsc_argla_l  |1       |\n",
      "|4       |2015-01-01|2023-06-15 12:16:31|9               |4       |ital_supr_m   |1       |\n",
      "|5       |2015-01-01|2023-06-15 12:21:30|10              |5       |ital_supr_m   |1       |\n",
      "|6       |2015-01-01|2023-06-15 12:29:36|11              |6       |bbq_ckn_s     |1       |\n",
      "|6       |2015-01-01|2023-06-15 12:29:36|12              |6       |the_greek_s   |1       |\n",
      "|7       |2015-01-01|2023-06-15 12:50:37|13              |7       |spinach_supr_s|1       |\n",
      "|8       |2015-01-01|2023-06-15 12:51:37|14              |8       |spinach_supr_s|1       |\n",
      "|9       |2015-01-01|2023-06-15 12:52:01|15              |9       |classic_dlx_s |1       |\n",
      "|9       |2015-01-01|2023-06-15 12:52:01|16              |9       |green_garden_s|1       |\n",
      "|9       |2015-01-01|2023-06-15 12:52:01|17              |9       |ital_cpcllo_l |1       |\n",
      "|9       |2015-01-01|2023-06-15 12:52:01|18              |9       |ital_supr_l   |1       |\n",
      "|9       |2015-01-01|2023-06-15 12:52:01|19              |9       |ital_supr_s   |1       |\n",
      "|9       |2015-01-01|2023-06-15 12:52:01|20              |9       |mexicana_s    |1       |\n",
      "+--------+----------+-------------------+----------------+--------+--------------+--------+\n",
      "only showing top 20 rows\n",
      "\n"
     ]
    }
   ],
   "source": [
    "dfPizzaOrdersAll = dfPizzaOrders.join(dfPizzaOrderDetails,dfPizzaOrders.order_id == dfPizzaOrderDetails.order_id, \"inner\" )\n",
    "dfPizzaOrdersAll.show(truncate=False)"
   ]
  },
  {
   "cell_type": "code",
   "execution_count": 12,
   "id": "93c7fc0f",
   "metadata": {},
   "outputs": [
    {
     "name": "stdout",
     "output_type": "stream",
     "text": [
      "+--------------+--------+----------+-------------------+\n",
      "|      pizza_id|quantity|      date|               time|\n",
      "+--------------+--------+----------+-------------------+\n",
      "|    hawaiian_m|       1|2015-01-01|2023-06-15 11:38:36|\n",
      "| classic_dlx_m|       1|2015-01-01|2023-06-15 11:57:40|\n",
      "| five_cheese_l|       1|2015-01-01|2023-06-15 11:57:40|\n",
      "|   ital_supr_l|       1|2015-01-01|2023-06-15 11:57:40|\n",
      "|    mexicana_m|       1|2015-01-01|2023-06-15 11:57:40|\n",
      "|    thai_ckn_l|       1|2015-01-01|2023-06-15 11:57:40|\n",
      "|   ital_supr_m|       1|2015-01-01|2023-06-15 12:12:28|\n",
      "|  prsc_argla_l|       1|2015-01-01|2023-06-15 12:12:28|\n",
      "|   ital_supr_m|       1|2015-01-01|2023-06-15 12:16:31|\n",
      "|   ital_supr_m|       1|2015-01-01|2023-06-15 12:21:30|\n",
      "|     bbq_ckn_s|       1|2015-01-01|2023-06-15 12:29:36|\n",
      "|   the_greek_s|       1|2015-01-01|2023-06-15 12:29:36|\n",
      "|spinach_supr_s|       1|2015-01-01|2023-06-15 12:50:37|\n",
      "|spinach_supr_s|       1|2015-01-01|2023-06-15 12:51:37|\n",
      "| classic_dlx_s|       1|2015-01-01|2023-06-15 12:52:01|\n",
      "|green_garden_s|       1|2015-01-01|2023-06-15 12:52:01|\n",
      "| ital_cpcllo_l|       1|2015-01-01|2023-06-15 12:52:01|\n",
      "|   ital_supr_l|       1|2015-01-01|2023-06-15 12:52:01|\n",
      "|   ital_supr_s|       1|2015-01-01|2023-06-15 12:52:01|\n",
      "|    mexicana_s|       1|2015-01-01|2023-06-15 12:52:01|\n",
      "+--------------+--------+----------+-------------------+\n",
      "only showing top 20 rows\n",
      "\n"
     ]
    }
   ],
   "source": [
    "dfPizzaOrdersAll = dfPizzaOrdersAll.select(\"pizza_id\",\"quantity\",\"date\",\"time\")\n",
    "dfPizzaOrdersAll.show()"
   ]
  },
  {
   "cell_type": "code",
   "execution_count": 13,
   "id": "18380592",
   "metadata": {},
   "outputs": [
    {
     "name": "stdout",
     "output_type": "stream",
     "text": [
      "+-------------+----+-----+--------------------+--------+--------------------+\n",
      "|     pizza_id|size|price|                name|category|         ingredients|\n",
      "+-------------+----+-----+--------------------+--------+--------------------+\n",
      "|    bbq_ckn_l|   L|20.75|The Barbecue Chic...| Chicken|Barbecued Chicken...|\n",
      "|    bbq_ckn_m|   M|16.75|The Barbecue Chic...| Chicken|Barbecued Chicken...|\n",
      "|    bbq_ckn_s|   S|12.75|The Barbecue Chic...| Chicken|Barbecued Chicken...|\n",
      "|   cali_ckn_l|   L|20.75|The California Ch...| Chicken|Chicken, Artichok...|\n",
      "|   cali_ckn_m|   M|16.75|The California Ch...| Chicken|Chicken, Artichok...|\n",
      "|   cali_ckn_s|   S|12.75|The California Ch...| Chicken|Chicken, Artichok...|\n",
      "|ckn_alfredo_l|   L|20.75|The Chicken Alfre...| Chicken|Chicken, Red Onio...|\n",
      "|ckn_alfredo_m|   M|16.75|The Chicken Alfre...| Chicken|Chicken, Red Onio...|\n",
      "|ckn_alfredo_s|   S|12.75|The Chicken Alfre...| Chicken|Chicken, Red Onio...|\n",
      "|  ckn_pesto_l|   L|20.75|The Chicken Pesto...| Chicken|Chicken, Tomatoes...|\n",
      "|  ckn_pesto_m|   M|16.75|The Chicken Pesto...| Chicken|Chicken, Tomatoes...|\n",
      "|  ckn_pesto_s|   S|12.75|The Chicken Pesto...| Chicken|Chicken, Tomatoes...|\n",
      "| southw_ckn_l|   L|20.75|The Southwest Chi...| Chicken|Chicken, Tomatoes...|\n",
      "| southw_ckn_m|   M|16.75|The Southwest Chi...| Chicken|Chicken, Tomatoes...|\n",
      "| southw_ckn_s|   S|12.75|The Southwest Chi...| Chicken|Chicken, Tomatoes...|\n",
      "|   thai_ckn_l|   L|20.75|The Thai Chicken ...| Chicken|Chicken, Pineappl...|\n",
      "|   thai_ckn_m|   M|16.75|The Thai Chicken ...| Chicken|Chicken, Pineappl...|\n",
      "|   thai_ckn_s|   S|12.75|The Thai Chicken ...| Chicken|Chicken, Pineappl...|\n",
      "|   big_meat_l|   L| 20.5|  The Big Meat Pizza| Classic|Bacon, Pepperoni,...|\n",
      "|   big_meat_m|   M| 16.0|  The Big Meat Pizza| Classic|Bacon, Pepperoni,...|\n",
      "+-------------+----+-----+--------------------+--------+--------------------+\n",
      "only showing top 20 rows\n",
      "\n"
     ]
    }
   ],
   "source": [
    "dfPizzaAll = dfPizzas.join(dfPizzaTypes,dfPizzas.pizza_type_id == dfPizzaTypes.pizza_type_id, \"inner\" )\n",
    "dfPizzaAll = dfPizzaAll.select(\"pizza_id\",\"size\",\"price\",\"name\",\"category\",\"ingredients\")\n",
    "dfPizzaAll.show()\n"
   ]
  },
  {
   "cell_type": "code",
   "execution_count": 14,
   "id": "547df98a",
   "metadata": {},
   "outputs": [
    {
     "name": "stdout",
     "output_type": "stream",
     "text": [
      "+--------------------------+--------+-----------------------------------------------------------------------------------+----+-----+--------+----------+-------------------+\n",
      "|Name                      |Category|Ingredients                                                                        |Size|Price|Quantity|Date      |Time               |\n",
      "+--------------------------+--------+-----------------------------------------------------------------------------------+----+-----+--------+----------+-------------------+\n",
      "|The Barbecue Chicken Pizza|Chicken |Barbecued Chicken, Red Peppers, Green Peppers, Tomatoes, Red Onions, Barbecue Sauce|L   |20.75|1       |2015-01-01|2023-06-15 13:02:59|\n",
      "|The Barbecue Chicken Pizza|Chicken |Barbecued Chicken, Red Peppers, Green Peppers, Tomatoes, Red Onions, Barbecue Sauce|L   |20.75|1       |2015-01-01|2023-06-15 13:53:00|\n",
      "|The Barbecue Chicken Pizza|Chicken |Barbecued Chicken, Red Peppers, Green Peppers, Tomatoes, Red Onions, Barbecue Sauce|L   |20.75|1       |2015-01-01|2023-06-15 15:11:17|\n",
      "|The Barbecue Chicken Pizza|Chicken |Barbecued Chicken, Red Peppers, Green Peppers, Tomatoes, Red Onions, Barbecue Sauce|L   |20.75|1       |2015-01-01|2023-06-15 15:54:08|\n",
      "|The Barbecue Chicken Pizza|Chicken |Barbecued Chicken, Red Peppers, Green Peppers, Tomatoes, Red Onions, Barbecue Sauce|L   |20.75|1       |2015-01-01|2023-06-15 18:48:28|\n",
      "|The Barbecue Chicken Pizza|Chicken |Barbecued Chicken, Red Peppers, Green Peppers, Tomatoes, Red Onions, Barbecue Sauce|L   |20.75|1       |2015-01-01|2023-06-15 22:12:13|\n",
      "|The Barbecue Chicken Pizza|Chicken |Barbecued Chicken, Red Peppers, Green Peppers, Tomatoes, Red Onions, Barbecue Sauce|L   |20.75|2       |2015-01-02|2023-06-15 15:14:43|\n",
      "|The Barbecue Chicken Pizza|Chicken |Barbecued Chicken, Red Peppers, Green Peppers, Tomatoes, Red Onions, Barbecue Sauce|L   |20.75|1       |2015-01-02|2023-06-15 22:00:17|\n",
      "|The Barbecue Chicken Pizza|Chicken |Barbecued Chicken, Red Peppers, Green Peppers, Tomatoes, Red Onions, Barbecue Sauce|L   |20.75|1       |2015-01-03|2023-06-15 17:00:49|\n",
      "|The Barbecue Chicken Pizza|Chicken |Barbecued Chicken, Red Peppers, Green Peppers, Tomatoes, Red Onions, Barbecue Sauce|L   |20.75|1       |2015-01-03|2023-06-15 20:14:23|\n",
      "|The Barbecue Chicken Pizza|Chicken |Barbecued Chicken, Red Peppers, Green Peppers, Tomatoes, Red Onions, Barbecue Sauce|L   |20.75|1       |2015-01-03|2023-06-15 21:25:20|\n",
      "|The Barbecue Chicken Pizza|Chicken |Barbecued Chicken, Red Peppers, Green Peppers, Tomatoes, Red Onions, Barbecue Sauce|L   |20.75|1       |2015-01-04|2023-06-15 12:12:05|\n",
      "|The Barbecue Chicken Pizza|Chicken |Barbecued Chicken, Red Peppers, Green Peppers, Tomatoes, Red Onions, Barbecue Sauce|L   |20.75|1       |2015-01-04|2023-06-15 14:42:01|\n",
      "|The Barbecue Chicken Pizza|Chicken |Barbecued Chicken, Red Peppers, Green Peppers, Tomatoes, Red Onions, Barbecue Sauce|L   |20.75|1       |2015-01-04|2023-06-15 16:41:48|\n",
      "|The Barbecue Chicken Pizza|Chicken |Barbecued Chicken, Red Peppers, Green Peppers, Tomatoes, Red Onions, Barbecue Sauce|L   |20.75|1       |2015-01-04|2023-06-15 20:28:41|\n",
      "|The Barbecue Chicken Pizza|Chicken |Barbecued Chicken, Red Peppers, Green Peppers, Tomatoes, Red Onions, Barbecue Sauce|L   |20.75|1       |2015-01-04|2023-06-15 21:06:16|\n",
      "|The Barbecue Chicken Pizza|Chicken |Barbecued Chicken, Red Peppers, Green Peppers, Tomatoes, Red Onions, Barbecue Sauce|L   |20.75|1       |2015-01-04|2023-06-15 22:22:13|\n",
      "|The Barbecue Chicken Pizza|Chicken |Barbecued Chicken, Red Peppers, Green Peppers, Tomatoes, Red Onions, Barbecue Sauce|L   |20.75|1       |2015-01-05|2023-06-15 17:44:39|\n",
      "|The Barbecue Chicken Pizza|Chicken |Barbecued Chicken, Red Peppers, Green Peppers, Tomatoes, Red Onions, Barbecue Sauce|L   |20.75|1       |2015-01-06|2023-06-15 17:59:48|\n",
      "|The Barbecue Chicken Pizza|Chicken |Barbecued Chicken, Red Peppers, Green Peppers, Tomatoes, Red Onions, Barbecue Sauce|L   |20.75|1       |2015-01-06|2023-06-15 18:50:38|\n",
      "+--------------------------+--------+-----------------------------------------------------------------------------------+----+-----+--------+----------+-------------------+\n",
      "only showing top 20 rows\n",
      "\n"
     ]
    }
   ],
   "source": [
    "dfPizza = dfPizzaAll.join(dfPizzaOrdersAll,dfPizzaAll.pizza_id == dfPizzaOrdersAll.pizza_id, \"left\" )\n",
    "dfPizza = dfPizza.select(col(\"name\").alias(\"Name\"), \n",
    "                col(\"category\").alias(\"Category\"),\n",
    "                col(\"ingredients\").alias(\"Ingredients\"),\n",
    "                col(\"size\").alias(\"Size\"),\n",
    "                col(\"price\").alias(\"Price\"),\n",
    "                col(\"quantity\").alias(\"Quantity\"),\n",
    "                col(\"date\").alias(\"Date\"),\n",
    "                col(\"time\").alias(\"Time\"))\n",
    "\n",
    "dfPizza.show(truncate=False)\n"
   ]
  },
  {
   "attachments": {},
   "cell_type": "markdown",
   "id": "7e3a7741",
   "metadata": {},
   "source": [
    "# Data Cleaning"
   ]
  },
  {
   "attachments": {},
   "cell_type": "markdown",
   "id": "129b5c77",
   "metadata": {},
   "source": [
    "### Looking for null values"
   ]
  },
  {
   "cell_type": "code",
   "execution_count": 15,
   "id": "892c2730",
   "metadata": {},
   "outputs": [
    {
     "name": "stdout",
     "output_type": "stream",
     "text": [
      "+----+--------+-----------+----+-----+--------+\n",
      "|Name|Category|Ingredients|Size|Price|Quantity|\n",
      "+----+--------+-----------+----+-----+--------+\n",
      "|   0|       0|          0|   0|    0|       5|\n",
      "+----+--------+-----------+----+-----+--------+\n",
      "\n"
     ]
    }
   ],
   "source": [
    "dfPizzaNull = dfPizza.select(\"Name\", \"Category\", \"Ingredients\", \"Size\", \"Price\", \"Quantity\")\n",
    "\n",
    "dfPizzaNull.select([count(when(isnan(c) | col(c).isNull(), c)).alias(c) for c in dfPizzaNull.columns]\n",
    "   ).show()"
   ]
  },
  {
   "attachments": {},
   "cell_type": "markdown",
   "id": "daac4ee0",
   "metadata": {},
   "source": [
    "##### There are a few Null values in Quantity, but it means that there were no orders for these pizza"
   ]
  },
  {
   "cell_type": "code",
   "execution_count": 16,
   "id": "e323ea28",
   "metadata": {},
   "outputs": [
    {
     "name": "stdout",
     "output_type": "stream",
     "text": [
      "+--------------------+--------+--------------------+----+-----+--------+----+----+\n",
      "|                Name|Category|         Ingredients|Size|Price|Quantity|Date|Time|\n",
      "+--------------------+--------+--------------------+----+-----+--------+----+----+\n",
      "|The Four Cheese P...|  Veggie|Ricotta Cheese, G...|   S|11.75|    null|null|null|\n",
      "|  The Big Meat Pizza| Classic|Bacon, Pepperoni,...|   L| 20.5|    null|null|null|\n",
      "|The Five Cheese P...|  Veggie|Mozzarella Cheese...|   S| 12.5|    null|null|null|\n",
      "|  The Big Meat Pizza| Classic|Bacon, Pepperoni,...|   M| 16.0|    null|null|null|\n",
      "|The Five Cheese P...|  Veggie|Mozzarella Cheese...|   M| 15.5|    null|null|null|\n",
      "+--------------------+--------+--------------------+----+-----+--------+----+----+\n",
      "\n"
     ]
    }
   ],
   "source": [
    "dfPizza.filter(col(\"Quantity\").isNull()).show()"
   ]
  },
  {
   "attachments": {},
   "cell_type": "markdown",
   "id": "16b1ae4e",
   "metadata": {},
   "source": [
    "### Dealing with duplicate values"
   ]
  },
  {
   "cell_type": "code",
   "execution_count": 17,
   "id": "a4de4b70",
   "metadata": {},
   "outputs": [
    {
     "name": "stdout",
     "output_type": "stream",
     "text": [
      "Counting rows 48625\n"
     ]
    }
   ],
   "source": [
    "print(\"Counting rows {}\".format(dfPizza.count()))"
   ]
  },
  {
   "cell_type": "code",
   "execution_count": 18,
   "id": "6f5dc300",
   "metadata": {},
   "outputs": [
    {
     "name": "stdout",
     "output_type": "stream",
     "text": [
      "+----+--------+-----------+----+-----+--------+----+----+-----+\n",
      "|Name|Category|Ingredients|Size|Price|Quantity|Date|Time|count|\n",
      "+----+--------+-----------+----+-----+--------+----+----+-----+\n",
      "+----+--------+-----------+----+-----+--------+----+----+-----+\n",
      "\n"
     ]
    }
   ],
   "source": [
    "dfPizzaDuplicates = dfPizza.groupBy(dfPizza.columns).count().filter(col(\"count\") > 1)\n",
    "dfPizzaDuplicates.show()"
   ]
  },
  {
   "attachments": {},
   "cell_type": "markdown",
   "id": "9bd51ea1",
   "metadata": {},
   "source": [
    "### Browsing for distinct values in each column"
   ]
  },
  {
   "cell_type": "code",
   "execution_count": 19,
   "id": "aff9f1d2",
   "metadata": {},
   "outputs": [
    {
     "name": "stdout",
     "output_type": "stream",
     "text": [
      "Counting distinct rows 48625\n"
     ]
    }
   ],
   "source": [
    "print(\"Counting distinct rows {}\".format(dfPizza.distinct().count()))"
   ]
  },
  {
   "cell_type": "code",
   "execution_count": 20,
   "id": "de0e39f0",
   "metadata": {},
   "outputs": [
    {
     "name": "stdout",
     "output_type": "stream",
     "text": [
      "+----+--------+-----------+----+-----+--------+----+-----+\n",
      "|Name|Category|Ingredients|Size|Price|Quantity|Date| Time|\n",
      "+----+--------+-----------+----+-----+--------+----+-----+\n",
      "|  32|       4|         32|   5|   27|       4| 358|16382|\n",
      "+----+--------+-----------+----+-----+--------+----+-----+\n",
      "\n"
     ]
    }
   ],
   "source": [
    "dfPizza.agg(*(countDistinct(col(c)).alias(c) for c in dfPizza.columns)).show()"
   ]
  },
  {
   "attachments": {},
   "cell_type": "markdown",
   "id": "ec03a939",
   "metadata": {},
   "source": [
    "### Columns"
   ]
  },
  {
   "cell_type": "code",
   "execution_count": 21,
   "id": "69cc3c9e",
   "metadata": {},
   "outputs": [
    {
     "name": "stdout",
     "output_type": "stream",
     "text": [
      "There are 8 columns in the DataFrame and their names are ['Name', 'Category', 'Ingredients', 'Size', 'Price', 'Quantity', 'Date', 'Time']\n"
     ]
    }
   ],
   "source": [
    "print(\"There are {} columns in the DataFrame and their names are {}\".format(len(dfPizza.columns),\n",
    "                                                                              dfPizza.columns))"
   ]
  },
  {
   "attachments": {},
   "cell_type": "markdown",
   "id": "62cd0490",
   "metadata": {},
   "source": [
    "### Datatypes"
   ]
  },
  {
   "cell_type": "code",
   "execution_count": 22,
   "id": "bfddd5d5",
   "metadata": {},
   "outputs": [
    {
     "name": "stdout",
     "output_type": "stream",
     "text": [
      "root\n",
      " |-- Name: string (nullable = true)\n",
      " |-- Category: string (nullable = true)\n",
      " |-- Ingredients: string (nullable = true)\n",
      " |-- Size: string (nullable = true)\n",
      " |-- Price: double (nullable = true)\n",
      " |-- Quantity: integer (nullable = true)\n",
      " |-- Date: date (nullable = true)\n",
      " |-- Time: timestamp (nullable = true)\n",
      "\n"
     ]
    }
   ],
   "source": [
    "dfPizza.printSchema()"
   ]
  },
  {
   "cell_type": "code",
   "execution_count": 23,
   "id": "9758335e",
   "metadata": {},
   "outputs": [],
   "source": [
    "dfPizza = dfPizza.withColumn(\"Price\",col(\"Price\").cast(DecimalType(18,2)))"
   ]
  },
  {
   "attachments": {},
   "cell_type": "markdown",
   "id": "d0217720",
   "metadata": {},
   "source": [
    "### Summary"
   ]
  },
  {
   "cell_type": "code",
   "execution_count": 24,
   "id": "6748f28c",
   "metadata": {},
   "outputs": [
    {
     "name": "stdout",
     "output_type": "stream",
     "text": [
      "+-------+-----------------+\n",
      "|summary|            Price|\n",
      "+-------+-----------------+\n",
      "|  count|            48625|\n",
      "|   mean|        16.494004|\n",
      "| stddev|3.621761197368334|\n",
      "|    min|             9.75|\n",
      "|    max|            35.95|\n",
      "+-------+-----------------+\n",
      "\n"
     ]
    }
   ],
   "source": [
    "dfPizza.describe(\"Price\").show()"
   ]
  },
  {
   "cell_type": "code",
   "execution_count": 25,
   "id": "759e8058",
   "metadata": {},
   "outputs": [
    {
     "data": {
      "text/plain": [
       "[('Name', 'string'),\n",
       " ('Category', 'string'),\n",
       " ('Ingredients', 'string'),\n",
       " ('Size', 'string'),\n",
       " ('Price', 'decimal(18,2)'),\n",
       " ('Quantity', 'int'),\n",
       " ('Date', 'date'),\n",
       " ('Time', 'timestamp')]"
      ]
     },
     "execution_count": 25,
     "metadata": {},
     "output_type": "execute_result"
    }
   ],
   "source": [
    "dfPizza.dtypes"
   ]
  },
  {
   "cell_type": "code",
   "execution_count": 26,
   "id": "639cef85",
   "metadata": {},
   "outputs": [
    {
     "name": "stdout",
     "output_type": "stream",
     "text": [
      "Shape of DataFrame: 48625, 8 \n"
     ]
    }
   ],
   "source": [
    "print(\"Shape of DataFrame: {}, {} \".format(dfPizza.count(),\n",
    "                                          len(dfPizza.columns)))"
   ]
  },
  {
   "attachments": {},
   "cell_type": "markdown",
   "id": "f7e36737",
   "metadata": {},
   "source": [
    "# Data Analysis"
   ]
  },
  {
   "attachments": {},
   "cell_type": "markdown",
   "id": "1efc0349",
   "metadata": {},
   "source": [
    "### Creating Total Amount"
   ]
  },
  {
   "cell_type": "code",
   "execution_count": 27,
   "id": "db0568f8",
   "metadata": {},
   "outputs": [
    {
     "name": "stdout",
     "output_type": "stream",
     "text": [
      "+-------------------------+--------+-----------------------------------------------------------------------+----+-----+--------+------------+----------+-------------------+\n",
      "|Name                     |Category|Ingredients                                                            |Size|Price|Quantity|Total Amount|Date      |Time               |\n",
      "+-------------------------+--------+-----------------------------------------------------------------------+----+-----+--------+------------+----------+-------------------+\n",
      "|The Italian Supreme Pizza|Supreme |Calabrese Salami, Capocollo, Tomatoes, Red Onions, Green Olives, Garlic|S   |12.50|1       |12.50       |2015-12-30|2023-06-15 12:45:20|\n",
      "|The Italian Supreme Pizza|Supreme |Calabrese Salami, Capocollo, Tomatoes, Red Onions, Green Olives, Garlic|S   |12.50|1       |12.50       |2015-12-27|2023-06-15 16:03:36|\n",
      "|The Italian Supreme Pizza|Supreme |Calabrese Salami, Capocollo, Tomatoes, Red Onions, Green Olives, Garlic|S   |12.50|1       |12.50       |2015-12-24|2023-06-15 21:09:48|\n",
      "|The Italian Supreme Pizza|Supreme |Calabrese Salami, Capocollo, Tomatoes, Red Onions, Green Olives, Garlic|S   |12.50|1       |12.50       |2015-12-23|2023-06-15 19:37:02|\n",
      "|The Italian Supreme Pizza|Supreme |Calabrese Salami, Capocollo, Tomatoes, Red Onions, Green Olives, Garlic|S   |12.50|1       |12.50       |2015-12-20|2023-06-15 16:36:49|\n",
      "|The Italian Supreme Pizza|Supreme |Calabrese Salami, Capocollo, Tomatoes, Red Onions, Green Olives, Garlic|S   |12.50|1       |12.50       |2015-12-16|2023-06-15 20:39:32|\n",
      "|The Italian Supreme Pizza|Supreme |Calabrese Salami, Capocollo, Tomatoes, Red Onions, Green Olives, Garlic|S   |12.50|1       |12.50       |2015-12-13|2023-06-15 19:56:40|\n",
      "|The Italian Supreme Pizza|Supreme |Calabrese Salami, Capocollo, Tomatoes, Red Onions, Green Olives, Garlic|S   |12.50|1       |12.50       |2015-12-13|2023-06-15 14:39:07|\n",
      "|The Italian Supreme Pizza|Supreme |Calabrese Salami, Capocollo, Tomatoes, Red Onions, Green Olives, Garlic|S   |12.50|1       |12.50       |2015-12-12|2023-06-15 21:30:34|\n",
      "|The Italian Supreme Pizza|Supreme |Calabrese Salami, Capocollo, Tomatoes, Red Onions, Green Olives, Garlic|S   |12.50|1       |12.50       |2015-12-09|2023-06-15 12:10:52|\n",
      "|The Italian Supreme Pizza|Supreme |Calabrese Salami, Capocollo, Tomatoes, Red Onions, Green Olives, Garlic|S   |12.50|1       |12.50       |2015-12-08|2023-06-15 13:08:48|\n",
      "|The Italian Supreme Pizza|Supreme |Calabrese Salami, Capocollo, Tomatoes, Red Onions, Green Olives, Garlic|S   |12.50|1       |12.50       |2015-12-06|2023-06-15 19:58:59|\n",
      "|The Italian Supreme Pizza|Supreme |Calabrese Salami, Capocollo, Tomatoes, Red Onions, Green Olives, Garlic|S   |12.50|1       |12.50       |2015-11-29|2023-06-15 17:55:56|\n",
      "|The Italian Supreme Pizza|Supreme |Calabrese Salami, Capocollo, Tomatoes, Red Onions, Green Olives, Garlic|S   |12.50|1       |12.50       |2015-11-29|2023-06-15 17:08:29|\n",
      "|The Italian Supreme Pizza|Supreme |Calabrese Salami, Capocollo, Tomatoes, Red Onions, Green Olives, Garlic|S   |12.50|1       |12.50       |2015-11-28|2023-06-15 17:21:24|\n",
      "|The Italian Supreme Pizza|Supreme |Calabrese Salami, Capocollo, Tomatoes, Red Onions, Green Olives, Garlic|S   |12.50|1       |12.50       |2015-11-24|2023-06-15 16:47:49|\n",
      "|The Italian Supreme Pizza|Supreme |Calabrese Salami, Capocollo, Tomatoes, Red Onions, Green Olives, Garlic|S   |12.50|1       |12.50       |2015-11-21|2023-06-15 14:40:50|\n",
      "|The Italian Supreme Pizza|Supreme |Calabrese Salami, Capocollo, Tomatoes, Red Onions, Green Olives, Garlic|S   |12.50|1       |12.50       |2015-11-15|2023-06-15 20:58:00|\n",
      "|The Italian Supreme Pizza|Supreme |Calabrese Salami, Capocollo, Tomatoes, Red Onions, Green Olives, Garlic|S   |12.50|1       |12.50       |2015-11-13|2023-06-15 20:49:55|\n",
      "|The Italian Supreme Pizza|Supreme |Calabrese Salami, Capocollo, Tomatoes, Red Onions, Green Olives, Garlic|S   |12.50|1       |12.50       |2015-11-13|2023-06-15 18:36:46|\n",
      "+-------------------------+--------+-----------------------------------------------------------------------+----+-----+--------+------------+----------+-------------------+\n",
      "only showing top 20 rows\n",
      "\n"
     ]
    }
   ],
   "source": [
    "def CreateMultpiplication(x, y):\n",
    "    return x * y\n",
    "\n",
    "dfPizza = dfPizza.withColumn(\"Total Amount\",CreateMultpiplication(col(\"Quantity\"),col(\"Price\")) )\n",
    "dfPizza = dfPizza.select('Name',\n",
    " 'Category',\n",
    " 'Ingredients',\n",
    " 'Size',\n",
    " 'Price',\n",
    " 'Quantity',\n",
    " 'Total Amount',\n",
    " 'Date',\n",
    " 'Time')\n",
    "\n",
    "dfPizza.show(truncate=False)"
   ]
  },
  {
   "attachments": {},
   "cell_type": "markdown",
   "id": "21bfcbf9",
   "metadata": {},
   "source": [
    "### Creating upper case of Category"
   ]
  },
  {
   "cell_type": "code",
   "execution_count": 28,
   "id": "59a72862",
   "metadata": {},
   "outputs": [
    {
     "name": "stdout",
     "output_type": "stream",
     "text": [
      "+--------------------------+--------+-----------------------------------------------------------------------------------+----+-----+--------+------------+----------+-------------------+\n",
      "|Name                      |Category|Ingredients                                                                        |Size|Price|Quantity|Total Amount|Date      |Time               |\n",
      "+--------------------------+--------+-----------------------------------------------------------------------------------+----+-----+--------+------------+----------+-------------------+\n",
      "|The Barbecue Chicken Pizza|CHICKEN |Barbecued Chicken, Red Peppers, Green Peppers, Tomatoes, Red Onions, Barbecue Sauce|L   |20.75|2       |41.50       |2015-12-31|2023-06-15 19:05:04|\n",
      "|The Barbecue Chicken Pizza|CHICKEN |Barbecued Chicken, Red Peppers, Green Peppers, Tomatoes, Red Onions, Barbecue Sauce|L   |20.75|1       |20.75       |2015-12-31|2023-06-15 18:52:10|\n",
      "|The Barbecue Chicken Pizza|CHICKEN |Barbecued Chicken, Red Peppers, Green Peppers, Tomatoes, Red Onions, Barbecue Sauce|L   |20.75|1       |20.75       |2015-12-31|2023-06-15 18:38:38|\n",
      "|The Barbecue Chicken Pizza|CHICKEN |Barbecued Chicken, Red Peppers, Green Peppers, Tomatoes, Red Onions, Barbecue Sauce|L   |20.75|1       |20.75       |2015-12-31|2023-06-15 18:18:30|\n",
      "|The Barbecue Chicken Pizza|CHICKEN |Barbecued Chicken, Red Peppers, Green Peppers, Tomatoes, Red Onions, Barbecue Sauce|L   |20.75|1       |20.75       |2015-12-30|2023-06-15 20:12:27|\n",
      "|The Barbecue Chicken Pizza|CHICKEN |Barbecued Chicken, Red Peppers, Green Peppers, Tomatoes, Red Onions, Barbecue Sauce|L   |20.75|1       |20.75       |2015-12-29|2023-06-15 13:43:53|\n",
      "|The Barbecue Chicken Pizza|CHICKEN |Barbecued Chicken, Red Peppers, Green Peppers, Tomatoes, Red Onions, Barbecue Sauce|L   |20.75|1       |20.75       |2015-12-27|2023-06-15 12:48:05|\n",
      "|The Barbecue Chicken Pizza|CHICKEN |Barbecued Chicken, Red Peppers, Green Peppers, Tomatoes, Red Onions, Barbecue Sauce|L   |20.75|1       |20.75       |2015-12-26|2023-06-15 20:07:54|\n",
      "|The Barbecue Chicken Pizza|CHICKEN |Barbecued Chicken, Red Peppers, Green Peppers, Tomatoes, Red Onions, Barbecue Sauce|L   |20.75|1       |20.75       |2015-12-26|2023-06-15 15:25:45|\n",
      "|The Barbecue Chicken Pizza|CHICKEN |Barbecued Chicken, Red Peppers, Green Peppers, Tomatoes, Red Onions, Barbecue Sauce|L   |20.75|1       |20.75       |2015-12-26|2023-06-15 14:41:05|\n",
      "|The Barbecue Chicken Pizza|CHICKEN |Barbecued Chicken, Red Peppers, Green Peppers, Tomatoes, Red Onions, Barbecue Sauce|L   |20.75|1       |20.75       |2015-12-24|2023-06-15 20:58:44|\n",
      "|The Barbecue Chicken Pizza|CHICKEN |Barbecued Chicken, Red Peppers, Green Peppers, Tomatoes, Red Onions, Barbecue Sauce|L   |20.75|1       |20.75       |2015-12-24|2023-06-15 18:53:52|\n",
      "|The Barbecue Chicken Pizza|CHICKEN |Barbecued Chicken, Red Peppers, Green Peppers, Tomatoes, Red Onions, Barbecue Sauce|L   |20.75|1       |20.75       |2015-12-24|2023-06-15 15:08:38|\n",
      "|The Barbecue Chicken Pizza|CHICKEN |Barbecued Chicken, Red Peppers, Green Peppers, Tomatoes, Red Onions, Barbecue Sauce|L   |20.75|1       |20.75       |2015-12-23|2023-06-15 17:52:04|\n",
      "|The Barbecue Chicken Pizza|CHICKEN |Barbecued Chicken, Red Peppers, Green Peppers, Tomatoes, Red Onions, Barbecue Sauce|L   |20.75|1       |20.75       |2015-12-23|2023-06-15 15:30:43|\n",
      "|The Barbecue Chicken Pizza|CHICKEN |Barbecued Chicken, Red Peppers, Green Peppers, Tomatoes, Red Onions, Barbecue Sauce|L   |20.75|1       |20.75       |2015-12-23|2023-06-15 11:42:50|\n",
      "|The Barbecue Chicken Pizza|CHICKEN |Barbecued Chicken, Red Peppers, Green Peppers, Tomatoes, Red Onions, Barbecue Sauce|L   |20.75|1       |20.75       |2015-12-22|2023-06-15 13:17:55|\n",
      "|The Barbecue Chicken Pizza|CHICKEN |Barbecued Chicken, Red Peppers, Green Peppers, Tomatoes, Red Onions, Barbecue Sauce|L   |20.75|1       |20.75       |2015-12-21|2023-06-15 22:16:13|\n",
      "|The Barbecue Chicken Pizza|CHICKEN |Barbecued Chicken, Red Peppers, Green Peppers, Tomatoes, Red Onions, Barbecue Sauce|L   |20.75|1       |20.75       |2015-12-21|2023-06-15 18:51:54|\n",
      "|The Barbecue Chicken Pizza|CHICKEN |Barbecued Chicken, Red Peppers, Green Peppers, Tomatoes, Red Onions, Barbecue Sauce|L   |20.75|1       |20.75       |2015-12-21|2023-06-15 17:09:32|\n",
      "+--------------------------+--------+-----------------------------------------------------------------------------------+----+-----+--------+------------+----------+-------------------+\n",
      "only showing top 20 rows\n",
      "\n"
     ]
    }
   ],
   "source": [
    "def upperCase(str):\n",
    "    return str.upper()\n",
    "\n",
    "upperCaseUDF = udf(lambda z:upperCase(z), StringType())\n",
    "\n",
    "dfPizza = dfPizza.withColumn(\"Category\",upperCaseUDF(col(\"Category\")))\n",
    "dfPizza.show(truncate=False)"
   ]
  },
  {
   "attachments": {},
   "cell_type": "markdown",
   "id": "b7a1a848",
   "metadata": {},
   "source": [
    "### Summing of Total Amount by Category and Pizza Name"
   ]
  },
  {
   "cell_type": "code",
   "execution_count": 29,
   "id": "f062b0c1",
   "metadata": {},
   "outputs": [
    {
     "name": "stdout",
     "output_type": "stream",
     "text": [
      "+--------+------------+\n",
      "|Category|Total Amount|\n",
      "+--------+------------+\n",
      "|CLASSIC |220053.10   |\n",
      "|SUPREME |208197.00   |\n",
      "|CHICKEN |195919.50   |\n",
      "|VEGGIE  |193690.45   |\n",
      "+--------+------------+\n",
      "\n"
     ]
    }
   ],
   "source": [
    "dfPizzaCategoryByTotalAmount = dfPizza.groupBy(\"Category\").sum(\"Total Amount\").orderBy(desc(\"sum(Total Amount)\"))\n",
    "dfPizzaCategoryByTotalAmount.select(\"Category\",col(\"sum(Total Amount)\").alias(\"Total Amount\")).show(truncate=False)"
   ]
  },
  {
   "cell_type": "code",
   "execution_count": 30,
   "id": "9b170e9a",
   "metadata": {},
   "outputs": [
    {
     "name": "stdout",
     "output_type": "stream",
     "text": [
      "+---------------------------------+------------+-------+\n",
      "|Name                             |Total Amount|Ranking|\n",
      "+---------------------------------+------------+-------+\n",
      "|The Thai Chicken Pizza           |43434.25    |1      |\n",
      "|The Barbecue Chicken Pizza       |42768.00    |2      |\n",
      "|The California Chicken Pizza     |41409.50    |3      |\n",
      "|The Classic Deluxe Pizza         |38180.50    |4      |\n",
      "|The Spicy Italian Pizza          |34831.25    |5      |\n",
      "|The Southwest Chicken Pizza      |34705.75    |6      |\n",
      "|The Italian Supreme Pizza        |33476.75    |7      |\n",
      "|The Hawaiian Pizza               |32273.25    |8      |\n",
      "|The Four Cheese Pizza            |32265.70    |9      |\n",
      "|The Sicilian Pizza               |30940.50    |10     |\n",
      "|The Pepperoni Pizza              |30161.75    |11     |\n",
      "|The Greek Pizza                  |28454.10    |12     |\n",
      "|The Mexicana Pizza               |26780.75    |13     |\n",
      "|The Five Cheese Pizza            |26066.50    |14     |\n",
      "|The Pepper Salami Pizza          |25529.00    |15     |\n",
      "|The Italian Capocollo Pizza      |25094.00    |16     |\n",
      "|The Vegetables + Vegetables Pizza|24374.75    |17     |\n",
      "|The Prosciutto and Arugula Pizza |24193.25    |18     |\n",
      "|The Napolitana Pizza             |24087.00    |19     |\n",
      "|The Spinach and Feta Pizza       |23271.25    |20     |\n",
      "+---------------------------------+------------+-------+\n",
      "only showing top 20 rows\n",
      "\n"
     ]
    }
   ],
   "source": [
    "dfPizzaPizzaNameByTotalAmount = dfPizza.groupBy(\"Name\").sum(\"Total Amount\")\n",
    "dfPizzaPizzaNameByTotalAmount = dfPizzaPizzaNameByTotalAmount.select(\"Name\",col(\"sum(Total Amount)\").alias(\"Total Amount\"))\n",
    "windowSpec = Window.orderBy(desc(\"Total Amount\"))\n",
    "dfPizzaPizzaNameByTotalAmount.withColumn(\"Ranking\", row_number().over(windowSpec)).show(truncate=False)"
   ]
  },
  {
   "attachments": {},
   "cell_type": "markdown",
   "id": "736d8899",
   "metadata": {},
   "source": [
    "### Grouping of Pizza Name "
   ]
  },
  {
   "cell_type": "code",
   "execution_count": 31,
   "id": "5cceecf2",
   "metadata": {},
   "outputs": [
    {
     "name": "stdout",
     "output_type": "stream",
     "text": [
      "+---------------------------------+------------+--------+\n",
      "|Name                             |Total Amount|Grouping|\n",
      "+---------------------------------+------------+--------+\n",
      "|The Thai Chicken Pizza           |43434.25    |1       |\n",
      "|The Barbecue Chicken Pizza       |42768.00    |1       |\n",
      "|The California Chicken Pizza     |41409.50    |1       |\n",
      "|The Classic Deluxe Pizza         |38180.50    |1       |\n",
      "|The Spicy Italian Pizza          |34831.25    |1       |\n",
      "|The Southwest Chicken Pizza      |34705.75    |1       |\n",
      "|The Italian Supreme Pizza        |33476.75    |1       |\n",
      "|The Hawaiian Pizza               |32273.25    |2       |\n",
      "|The Four Cheese Pizza            |32265.70    |2       |\n",
      "|The Sicilian Pizza               |30940.50    |2       |\n",
      "|The Pepperoni Pizza              |30161.75    |2       |\n",
      "|The Greek Pizza                  |28454.10    |2       |\n",
      "|The Mexicana Pizza               |26780.75    |2       |\n",
      "|The Five Cheese Pizza            |26066.50    |2       |\n",
      "|The Pepper Salami Pizza          |25529.00    |3       |\n",
      "|The Italian Capocollo Pizza      |25094.00    |3       |\n",
      "|The Vegetables + Vegetables Pizza|24374.75    |3       |\n",
      "|The Prosciutto and Arugula Pizza |24193.25    |3       |\n",
      "|The Napolitana Pizza             |24087.00    |3       |\n",
      "|The Spinach and Feta Pizza       |23271.25    |3       |\n",
      "+---------------------------------+------------+--------+\n",
      "only showing top 20 rows\n",
      "\n"
     ]
    }
   ],
   "source": [
    "dfPizzaPizzaNameByTotalAmount.withColumn(\"Grouping\",ntile(5).over(windowSpec)).show(truncate=False)\n",
    "\n",
    "dfPizzaPizzaNameByTotalAmountGrouping =  dfPizzaPizzaNameByTotalAmount.withColumn(\"Grouping\",ntile(5).over(windowSpec))\n"
   ]
  },
  {
   "cell_type": "code",
   "execution_count": 32,
   "id": "bd96102f",
   "metadata": {},
   "outputs": [
    {
     "name": "stdout",
     "output_type": "stream",
     "text": [
      "+----------------------------+------------+--------+\n",
      "|Name                        |Total Amount|Grouping|\n",
      "+----------------------------+------------+--------+\n",
      "|The Thai Chicken Pizza      |43434.25    |1       |\n",
      "|The Barbecue Chicken Pizza  |42768.00    |1       |\n",
      "|The California Chicken Pizza|41409.50    |1       |\n",
      "|The Classic Deluxe Pizza    |38180.50    |1       |\n",
      "|The Spicy Italian Pizza     |34831.25    |1       |\n",
      "|The Southwest Chicken Pizza |34705.75    |1       |\n",
      "|The Italian Supreme Pizza   |33476.75    |1       |\n",
      "+----------------------------+------------+--------+\n",
      "\n"
     ]
    }
   ],
   "source": [
    "dfPizzaPizzaNameByTotalAmountGrouping.filter(dfPizzaPizzaNameByTotalAmountGrouping[\"Grouping\"] == 1).show(truncate=False)"
   ]
  },
  {
   "cell_type": "code",
   "execution_count": 33,
   "id": "880b61ef",
   "metadata": {},
   "outputs": [
    {
     "name": "stdout",
     "output_type": "stream",
     "text": [
      "+-------------------------+------------+--------+\n",
      "|Name                     |Total Amount|Grouping|\n",
      "+-------------------------+------------+--------+\n",
      "|The Calabrese Pizza      |15934.25    |5       |\n",
      "|The Spinach Pesto Pizza  |15596.00    |5       |\n",
      "|The Mediterranean Pizza  |15360.50    |5       |\n",
      "|The Spinach Supreme Pizza|15277.75    |5       |\n",
      "|The Green Garden Pizza   |13955.75    |5       |\n",
      "|The Brie Carre Pizza     |11588.50    |5       |\n",
      "+-------------------------+------------+--------+\n",
      "\n"
     ]
    }
   ],
   "source": [
    "dfPizzaPizzaNameByTotalAmountGrouping.filter(dfPizzaPizzaNameByTotalAmountGrouping[\"Grouping\"] == 5).show(truncate=False)"
   ]
  },
  {
   "attachments": {},
   "cell_type": "markdown",
   "id": "78d2a698",
   "metadata": {},
   "source": [
    "### Running Total by Month"
   ]
  },
  {
   "cell_type": "code",
   "execution_count": 34,
   "id": "3b26802e",
   "metadata": {},
   "outputs": [
    {
     "name": "stdout",
     "output_type": "stream",
     "text": [
      "+----+-----+------------+\n",
      "|Year|Month|Total Amount|\n",
      "+----+-----+------------+\n",
      "|2015|1    |69793.30    |\n",
      "|2015|2    |65159.60    |\n",
      "|2015|3    |70397.10    |\n",
      "|2015|4    |68736.80    |\n",
      "|2015|5    |71402.75    |\n",
      "|2015|6    |68230.20    |\n",
      "|2015|7    |72557.90    |\n",
      "|2015|8    |68278.25    |\n",
      "|2015|9    |64180.05    |\n",
      "|2015|10   |64027.60    |\n",
      "|2015|11   |70395.35    |\n",
      "|2015|12   |64701.15    |\n",
      "+----+-----+------------+\n",
      "\n"
     ]
    }
   ],
   "source": [
    "dfPizzaGrouping = dfPizza.select(year(col(\"Date\")),\n",
    "               month(col(\"Date\")),\n",
    "               col(\"Total Amount\"))\n",
    "\n",
    "\n",
    "dfPizzaGrouping = dfPizzaGrouping.groupBy(\"year(Date)\",\"month(Date)\").sum(\"Total Amount\")\n",
    "dfPizzaGrouping = dfPizzaGrouping.na.drop()\n",
    "dfPizzaGrouping = dfPizzaGrouping.select(col(\"year(Date)\").alias(\"Year\"),\n",
    "                       col(\"month(Date)\").alias(\"Month\"),\n",
    "                       col(\"sum(Total Amount)\").alias(\"Total Amount\"))\n",
    "\n",
    "dfPizzaGrouping.orderBy(\"Month\").show(truncate=False)\n"
   ]
  },
  {
   "cell_type": "code",
   "execution_count": 35,
   "id": "9efeb68f",
   "metadata": {},
   "outputs": [
    {
     "name": "stdout",
     "output_type": "stream",
     "text": [
      "+----------+------------+--------+--------+--------+---------------+\n",
      "|Month-Year|Total Amount|Lag     |Diff    |Lead    |Cummluative Sum|\n",
      "+----------+------------+--------+--------+--------+---------------+\n",
      "|1-2015    |69793.30    |0.00    |69793.30|65159.60|69793.30       |\n",
      "|2-2015    |65159.60    |69793.30|-4633.70|70397.10|134952.90      |\n",
      "|3-2015    |70397.10    |65159.60|5237.50 |68736.80|205350.00      |\n",
      "|4-2015    |68736.80    |70397.10|-1660.30|71402.75|274086.80      |\n",
      "|5-2015    |71402.75    |68736.80|2665.95 |68230.20|345489.55      |\n",
      "|6-2015    |68230.20    |71402.75|-3172.55|72557.90|413719.75      |\n",
      "|7-2015    |72557.90    |68230.20|4327.70 |68278.25|486277.65      |\n",
      "|8-2015    |68278.25    |72557.90|-4279.65|64180.05|554555.90      |\n",
      "|9-2015    |64180.05    |68278.25|-4098.20|64027.60|618735.95      |\n",
      "|10-2015   |64027.60    |64180.05|-152.45 |70395.35|682763.55      |\n",
      "|11-2015   |70395.35    |64027.60|6367.75 |64701.15|753158.90      |\n",
      "|12-2015   |64701.15    |70395.35|-5694.20|0.00    |817860.05      |\n",
      "+----------+------------+--------+--------+--------+---------------+\n",
      "\n"
     ]
    }
   ],
   "source": [
    "windowSpec = Window.partitionBy().orderBy(\"Month\")\n",
    "windowval = (Window.partitionBy().orderBy(\"Month\").rangeBetween(Window.unboundedPreceding,0))\n",
    "\n",
    "dfPizzaGrouping = dfPizzaGrouping.select(\"Year\",\n",
    "                                         \"Month\",\n",
    "                                         concat_ws(\"-\",col(\"Month\"),col(\"Year\")).alias(\"Month-Year\"),\n",
    "                                         \"Total Amount\")\n",
    "dfPizzaGrouping = dfPizzaGrouping.withColumn(\"Lag\", lag(col(\"Total Amount\"), offset=1, default=0).over(windowSpec))\n",
    "dfPizzaGrouping = dfPizzaGrouping.withColumn(\"Diff\",\n",
    "                                             when(isnull(col(\"Total Amount\") - col(\"Lag\")),0)\n",
    "                                                  .otherwise(col(\"Total Amount\") - col(\"Lag\")))\n",
    "dfPizzaGrouping = dfPizzaGrouping.withColumn(\"Lead\", lead(col(\"Total Amount\"), offset=1,default = 0).over(windowSpec))\n",
    "dfPizzaGrouping = dfPizzaGrouping.withColumn(\"Cummluative Sum\", sum(col(\"Total Amount\")).over(windowval))\n",
    "\n",
    "dfPizzaGrouping.select(\"Month-Year\",\n",
    "                       \"Total Amount\",\n",
    "                       \"Lag\",\n",
    "                       \"Diff\",\n",
    "                       \"Lead\",\n",
    "                       \"Cummluative Sum\").show(truncate=False )\n",
    "\n",
    "\n"
   ]
  },
  {
   "attachments": {},
   "cell_type": "markdown",
   "id": "1bb42055",
   "metadata": {},
   "source": [
    "### The quantity of orders in terms of Pizza and its size"
   ]
  },
  {
   "cell_type": "code",
   "execution_count": 36,
   "id": "8ed47b57",
   "metadata": {},
   "outputs": [
    {
     "name": "stdout",
     "output_type": "stream",
     "text": [
      "+------------------------------------------+------------------+\n",
      "|Name                                      |Quantity of Orders|\n",
      "+------------------------------------------+------------------+\n",
      "|The Classic Deluxe Pizza                  |2416              |\n",
      "|The Barbecue Chicken Pizza                |2372              |\n",
      "|The Hawaiian Pizza                        |2370              |\n",
      "|The Pepperoni Pizza                       |2369              |\n",
      "|The Thai Chicken Pizza                    |2315              |\n",
      "|The California Chicken Pizza              |2302              |\n",
      "|The Spicy Italian Pizza                   |1887              |\n",
      "|The Sicilian Pizza                        |1887              |\n",
      "|The Southwest Chicken Pizza               |1885              |\n",
      "|The Four Cheese Pizza                     |1850              |\n",
      "|The Italian Supreme Pizza                 |1849              |\n",
      "|The Big Meat Pizza                        |1811              |\n",
      "|The Vegetables + Vegetables Pizza         |1510              |\n",
      "|The Mexicana Pizza                        |1456              |\n",
      "|The Napolitana Pizza                      |1451              |\n",
      "|The Spinach and Feta Pizza                |1432              |\n",
      "|The Prosciutto and Arugula Pizza          |1428              |\n",
      "|The Pepper Salami Pizza                   |1422              |\n",
      "|The Italian Capocollo Pizza               |1414              |\n",
      "|The Greek Pizza                           |1406              |\n",
      "|The Five Cheese Pizza                     |1359              |\n",
      "|The Pepperoni, Mushroom, and Peppers Pizza|1342              |\n",
      "|The Green Garden Pizza                    |987               |\n",
      "|The Chicken Alfredo Pizza                 |980               |\n",
      "|The Italian Vegetables Pizza              |975               |\n",
      "|The Chicken Pesto Pizza                   |961               |\n",
      "|The Soppressata Pizza                     |957               |\n",
      "|The Spinach Pesto Pizza                   |957               |\n",
      "|The Spinach Supreme Pizza                 |940               |\n",
      "|The Calabrese Pizza                       |927               |\n",
      "|The Mediterranean Pizza                   |923               |\n",
      "|The Brie Carre Pizza                      |480               |\n",
      "+------------------------------------------+------------------+\n",
      "\n"
     ]
    }
   ],
   "source": [
    "dfOrderedPizza = dfPizza.na.drop()\n",
    "\n",
    "dfOrderedPizza = dfOrderedPizza.groupBy(\"Name\").count()\n",
    "\n",
    "dfOrderedPizza = dfOrderedPizza.select(\"Name\",col(\"Count\").alias(\"Quantity of Orders\")).orderBy(desc(\"count\"))\n",
    "\n",
    "dfOrderedPizza.show(dfOrderedPizza.count(), False)\n"
   ]
  },
  {
   "cell_type": "code",
   "execution_count": 37,
   "id": "b2ca231b",
   "metadata": {},
   "outputs": [
    {
     "name": "stdout",
     "output_type": "stream",
     "text": [
      "+----+------------------+\n",
      "|Size|Quantity of Orders|\n",
      "+----+------------------+\n",
      "|L   |18527             |\n",
      "|M   |15387             |\n",
      "|S   |14139             |\n",
      "|XL  |544               |\n",
      "|XXL |28                |\n",
      "+----+------------------+\n",
      "\n"
     ]
    }
   ],
   "source": [
    "dfPizzaSize = dfPizza.groupBy(\"Size\").count()\n",
    "dfPizzaSize.na.drop()\n",
    "dfPizzaSize.select(\"Size\", col(\"count\").alias(\"Quantity of Orders\")).orderBy(desc(\"Quantity of Orders\")).show(truncate=False)\n",
    "\n",
    "\n"
   ]
  },
  {
   "attachments": {},
   "cell_type": "markdown",
   "id": "e8494331",
   "metadata": {},
   "source": [
    "### Quantity of orders in a day and which pizza was ordered most of the time"
   ]
  },
  {
   "cell_type": "code",
   "execution_count": 38,
   "id": "967e91d7",
   "metadata": {},
   "outputs": [
    {
     "name": "stdout",
     "output_type": "stream",
     "text": [
      "+---+----------+------------------+\n",
      "|Day|Month Name|Quantity of Orders|\n",
      "+---+----------+------------------+\n",
      "|1  |January   |161               |\n",
      "|2  |January   |160               |\n",
      "|3  |January   |154               |\n",
      "|4  |January   |106               |\n",
      "|5  |January   |121               |\n",
      "|6  |January   |144               |\n",
      "|7  |January   |133               |\n",
      "|8  |January   |171               |\n",
      "|9  |January   |123               |\n",
      "|10 |January   |145               |\n",
      "|11 |January   |114               |\n",
      "|12 |January   |118               |\n",
      "|13 |January   |117               |\n",
      "|14 |January   |144               |\n",
      "|15 |January   |123               |\n",
      "|16 |January   |155               |\n",
      "|17 |January   |122               |\n",
      "|18 |January   |119               |\n",
      "|19 |January   |139               |\n",
      "|20 |January   |139               |\n",
      "|21 |January   |127               |\n",
      "|22 |January   |155               |\n",
      "|23 |January   |149               |\n",
      "|24 |January   |142               |\n",
      "|25 |January   |101               |\n",
      "|26 |January   |113               |\n",
      "|27 |January   |149               |\n",
      "|28 |January   |116               |\n",
      "|29 |January   |115               |\n",
      "|30 |January   |138               |\n",
      "|31 |January   |143               |\n",
      "|1  |February  |188               |\n",
      "|2  |February  |143               |\n",
      "|3  |February  |153               |\n",
      "|4  |February  |135               |\n",
      "|5  |February  |132               |\n",
      "|6  |February  |152               |\n",
      "|7  |February  |135               |\n",
      "|8  |February  |122               |\n",
      "|9  |February  |134               |\n",
      "|10 |February  |122               |\n",
      "|11 |February  |152               |\n",
      "|12 |February  |127               |\n",
      "|13 |February  |160               |\n",
      "|14 |February  |137               |\n",
      "|15 |February  |128               |\n",
      "|16 |February  |118               |\n",
      "|17 |February  |128               |\n",
      "|18 |February  |160               |\n",
      "|19 |February  |122               |\n",
      "|20 |February  |169               |\n",
      "|21 |February  |124               |\n",
      "|22 |February  |93                |\n",
      "|23 |February  |125               |\n",
      "|24 |February  |132               |\n",
      "|25 |February  |141               |\n",
      "|26 |February  |136               |\n",
      "|27 |February  |171               |\n",
      "|28 |February  |153               |\n",
      "|1  |March     |99                |\n",
      "|2  |March     |138               |\n",
      "|3  |March     |133               |\n",
      "|4  |March     |144               |\n",
      "|5  |March     |140               |\n",
      "|6  |March     |145               |\n",
      "|7  |March     |139               |\n",
      "|8  |March     |132               |\n",
      "|9  |March     |136               |\n",
      "|10 |March     |142               |\n",
      "|11 |March     |132               |\n",
      "|12 |March     |115               |\n",
      "|13 |March     |173               |\n",
      "|14 |March     |122               |\n",
      "|15 |March     |124               |\n",
      "|16 |March     |140               |\n",
      "|17 |March     |176               |\n",
      "|18 |March     |119               |\n",
      "|19 |March     |143               |\n",
      "|20 |March     |148               |\n",
      "|21 |March     |134               |\n",
      "|22 |March     |76                |\n",
      "|23 |March     |131               |\n",
      "|24 |March     |128               |\n",
      "|25 |March     |115               |\n",
      "|26 |March     |136               |\n",
      "|27 |March     |167               |\n",
      "|28 |March     |138               |\n",
      "|29 |March     |129               |\n",
      "|30 |March     |133               |\n",
      "|31 |March     |159               |\n",
      "|1  |April     |133               |\n",
      "|2  |April     |144               |\n",
      "|3  |April     |154               |\n",
      "|4  |April     |162               |\n",
      "|5  |April     |116               |\n",
      "|6  |April     |153               |\n",
      "|7  |April     |136               |\n",
      "|8  |April     |131               |\n",
      "|9  |April     |121               |\n",
      "|10 |April     |142               |\n",
      "|11 |April     |150               |\n",
      "|12 |April     |116               |\n",
      "|13 |April     |143               |\n",
      "|14 |April     |141               |\n",
      "|15 |April     |155               |\n",
      "|16 |April     |125               |\n",
      "|17 |April     |161               |\n",
      "|18 |April     |135               |\n",
      "|19 |April     |92                |\n",
      "|20 |April     |148               |\n",
      "|21 |April     |130               |\n",
      "|22 |April     |132               |\n",
      "|23 |April     |137               |\n",
      "|24 |April     |171               |\n",
      "|25 |April     |125               |\n",
      "|26 |April     |110               |\n",
      "|27 |April     |133               |\n",
      "|28 |April     |101               |\n",
      "|29 |April     |107               |\n",
      "|30 |April     |163               |\n",
      "|1  |May       |152               |\n",
      "|2  |May       |149               |\n",
      "|3  |May       |113               |\n",
      "|4  |May       |138               |\n",
      "|5  |May       |105               |\n",
      "|6  |May       |138               |\n",
      "|7  |May       |125               |\n",
      "|8  |May       |177               |\n",
      "|9  |May       |140               |\n",
      "|10 |May       |140               |\n",
      "|11 |May       |141               |\n",
      "|12 |May       |140               |\n",
      "|13 |May       |137               |\n",
      "|14 |May       |157               |\n",
      "|15 |May       |205               |\n",
      "|16 |May       |141               |\n",
      "|17 |May       |106               |\n",
      "|18 |May       |132               |\n",
      "|19 |May       |114               |\n",
      "|20 |May       |137               |\n",
      "|21 |May       |122               |\n",
      "|22 |May       |150               |\n",
      "|23 |May       |141               |\n",
      "|24 |May       |130               |\n",
      "|25 |May       |122               |\n",
      "|26 |May       |114               |\n",
      "|27 |May       |123               |\n",
      "|28 |May       |118               |\n",
      "|29 |May       |180               |\n",
      "|30 |May       |144               |\n",
      "|31 |May       |108               |\n",
      "|1  |June      |180               |\n",
      "|2  |June      |146               |\n",
      "|3  |June      |112               |\n",
      "|4  |June      |137               |\n",
      "|5  |June      |158               |\n",
      "|6  |June      |133               |\n",
      "|7  |June      |117               |\n",
      "|8  |June      |129               |\n",
      "|9  |June      |145               |\n",
      "|10 |June      |116               |\n",
      "|11 |June      |152               |\n",
      "|12 |June      |129               |\n",
      "|13 |June      |150               |\n",
      "|14 |June      |110               |\n",
      "|15 |June      |150               |\n",
      "|16 |June      |113               |\n",
      "|17 |June      |124               |\n",
      "|18 |June      |114               |\n",
      "|19 |June      |167               |\n",
      "|20 |June      |124               |\n",
      "|21 |June      |114               |\n",
      "|22 |June      |137               |\n",
      "|23 |June      |123               |\n",
      "|24 |June      |136               |\n",
      "|25 |June      |144               |\n",
      "|26 |June      |161               |\n",
      "|27 |June      |167               |\n",
      "|28 |June      |93                |\n",
      "|29 |June      |118               |\n",
      "|30 |June      |126               |\n",
      "|1  |July      |134               |\n",
      "|2  |July      |135               |\n",
      "|3  |July      |207               |\n",
      "|4  |July      |233               |\n",
      "|5  |July      |95                |\n",
      "|6  |July      |128               |\n",
      "|7  |July      |136               |\n",
      "|8  |July      |139               |\n",
      "|9  |July      |133               |\n",
      "|10 |July      |144               |\n",
      "|11 |July      |124               |\n",
      "|12 |July      |128               |\n",
      "|13 |July      |122               |\n",
      "|14 |July      |117               |\n",
      "|15 |July      |152               |\n",
      "|16 |July      |141               |\n",
      "|17 |July      |185               |\n",
      "|18 |July      |128               |\n",
      "|19 |July      |118               |\n",
      "|20 |July      |144               |\n",
      "|21 |July      |117               |\n",
      "|22 |July      |133               |\n",
      "|23 |July      |133               |\n",
      "|24 |July      |188               |\n",
      "|25 |July      |134               |\n",
      "|26 |July      |108               |\n",
      "|27 |July      |126               |\n",
      "|28 |July      |130               |\n",
      "|29 |July      |115               |\n",
      "|30 |July      |143               |\n",
      "|31 |July      |131               |\n",
      "|1  |August    |150               |\n",
      "|2  |August    |110               |\n",
      "|3  |August    |114               |\n",
      "|4  |August    |121               |\n",
      "|5  |August    |127               |\n",
      "|6  |August    |132               |\n",
      "|7  |August    |155               |\n",
      "|8  |August    |165               |\n",
      "|9  |August    |124               |\n",
      "|10 |August    |124               |\n",
      "|11 |August    |134               |\n",
      "|12 |August    |143               |\n",
      "|13 |August    |130               |\n",
      "|14 |August    |185               |\n",
      "|15 |August    |139               |\n",
      "|16 |August    |126               |\n",
      "|17 |August    |156               |\n",
      "|18 |August    |127               |\n",
      "|19 |August    |133               |\n",
      "|20 |August    |115               |\n",
      "|21 |August    |161               |\n",
      "|22 |August    |145               |\n",
      "|23 |August    |101               |\n",
      "|24 |August    |105               |\n",
      "|25 |August    |112               |\n",
      "|26 |August    |133               |\n",
      "|27 |August    |125               |\n",
      "|28 |August    |161               |\n",
      "|29 |August    |122               |\n",
      "|30 |August    |94                |\n",
      "|31 |August    |125               |\n",
      "|1  |September |143               |\n",
      "|2  |September |110               |\n",
      "|3  |September |133               |\n",
      "|4  |September |178               |\n",
      "|5  |September |151               |\n",
      "|6  |September |91                |\n",
      "|7  |September |138               |\n",
      "|8  |September |131               |\n",
      "|9  |September |154               |\n",
      "|10 |September |146               |\n",
      "|11 |September |165               |\n",
      "|12 |September |155               |\n",
      "|13 |September |105               |\n",
      "|14 |September |128               |\n",
      "|15 |September |155               |\n",
      "|16 |September |134               |\n",
      "|17 |September |135               |\n",
      "|18 |September |160               |\n",
      "|19 |September |136               |\n",
      "|20 |September |105               |\n",
      "|21 |September |127               |\n",
      "|22 |September |127               |\n",
      "|23 |September |129               |\n",
      "|26 |September |137               |\n",
      "|27 |September |138               |\n",
      "|28 |September |119               |\n",
      "|29 |September |160               |\n",
      "|30 |September |129               |\n",
      "|1  |October   |190               |\n",
      "|2  |October   |121               |\n",
      "|3  |October   |142               |\n",
      "|4  |October   |125               |\n",
      "|6  |October   |132               |\n",
      "|7  |October   |130               |\n",
      "|8  |October   |115               |\n",
      "|9  |October   |144               |\n",
      "|10 |October   |140               |\n",
      "|11 |October   |114               |\n",
      "|13 |October   |141               |\n",
      "|14 |October   |131               |\n",
      "|15 |October   |258               |\n",
      "|16 |October   |148               |\n",
      "|17 |October   |133               |\n",
      "|18 |October   |100               |\n",
      "|20 |October   |152               |\n",
      "|21 |October   |147               |\n",
      "|22 |October   |143               |\n",
      "|23 |October   |154               |\n",
      "|24 |October   |156               |\n",
      "|25 |October   |110               |\n",
      "|27 |October   |118               |\n",
      "|28 |October   |103               |\n",
      "|29 |October   |127               |\n",
      "|30 |October   |164               |\n",
      "|31 |October   |159               |\n",
      "|1  |November  |123               |\n",
      "|2  |November  |137               |\n",
      "|3  |November  |112               |\n",
      "|4  |November  |121               |\n",
      "|5  |November  |124               |\n",
      "|6  |November  |185               |\n",
      "|7  |November  |156               |\n",
      "|8  |November  |125               |\n",
      "|9  |November  |146               |\n",
      "|10 |November  |122               |\n",
      "|11 |November  |116               |\n",
      "|12 |November  |147               |\n",
      "|13 |November  |139               |\n",
      "|14 |November  |140               |\n",
      "|15 |November  |113               |\n",
      "|16 |November  |135               |\n",
      "|17 |November  |113               |\n",
      "|18 |November  |121               |\n",
      "|19 |November  |161               |\n",
      "|20 |November  |147               |\n",
      "|21 |November  |129               |\n",
      "|22 |November  |82                |\n",
      "|23 |November  |142               |\n",
      "|24 |November  |129               |\n",
      "|25 |November  |141               |\n",
      "|26 |November  |261               |\n",
      "|27 |November  |259               |\n",
      "|28 |November  |116               |\n",
      "|29 |November  |111               |\n",
      "|30 |November  |132               |\n",
      "|1  |December  |129               |\n",
      "|2  |December  |131               |\n",
      "|3  |December  |133               |\n",
      "|4  |December  |173               |\n",
      "|5  |December  |158               |\n",
      "|6  |December  |140               |\n",
      "|7  |December  |147               |\n",
      "|8  |December  |109               |\n",
      "|9  |December  |156               |\n",
      "|10 |December  |118               |\n",
      "|11 |December  |161               |\n",
      "|12 |December  |125               |\n",
      "|13 |December  |126               |\n",
      "|14 |December  |131               |\n",
      "|15 |December  |142               |\n",
      "|16 |December  |133               |\n",
      "|17 |December  |110               |\n",
      "|18 |December  |174               |\n",
      "|19 |December  |138               |\n",
      "|20 |December  |122               |\n",
      "|21 |December  |128               |\n",
      "|22 |December  |111               |\n",
      "|23 |December  |130               |\n",
      "|24 |December  |129               |\n",
      "|26 |December  |95                |\n",
      "|27 |December  |87                |\n",
      "|28 |December  |102               |\n",
      "|29 |December  |77                |\n",
      "|30 |December  |73                |\n",
      "|31 |December  |171               |\n",
      "+---+----------+------------------+\n",
      "\n"
     ]
    }
   ],
   "source": [
    "dfPizzaWithoutTime  = dfPizza.select('Name',\n",
    " 'Category',\n",
    " 'Ingredients',\n",
    " 'Size',\n",
    " 'Price',\n",
    " 'Quantity',\n",
    " 'Total Amount',\n",
    " 'Date')\n",
    "\n",
    "dfPizzaDayMonthYear = dfPizzaWithoutTime.withColumn(\"Day\", dayofmonth(col(\"Date\"))) \\\n",
    "        .withColumn(\"Month\", month(col(\"Date\"))) \\\n",
    "        .withColumn(\"Month Name\",date_format(\"date\", \"MMMM\")) \\\n",
    "        .withColumn(\"Year\", year(col(\"Date\")))\n",
    "\n",
    "dfPizzaDayMonthYear = dfPizzaDayMonthYear.na.drop()\n",
    "\n",
    "dfPizzaDayMonthYearQuantity = dfPizzaDayMonthYear.groupBy(\"Day\",\"Month\",\"Month Name\").count().orderBy(\"Month\",\"Day\")\n",
    "\n",
    "dfPizzaDayMonthYearQuantity = dfPizzaDayMonthYearQuantity.select(\"Day\",\"Month Name\", col(\"count\").alias(\"Quantity of Orders\"))\n",
    "\n",
    "dfPizzaDayMonthYearQuantity.show(dfPizzaDayMonthYearQuantity.count(), False)"
   ]
  },
  {
   "cell_type": "code",
   "execution_count": 39,
   "id": "a2367a5d",
   "metadata": {},
   "outputs": [
    {
     "name": "stdout",
     "output_type": "stream",
     "text": [
      "+---+----------+--------------------+------------------+\n",
      "|Day|Month Name|                Name|Quantity of Orders|\n",
      "+---+----------+--------------------+------------------+\n",
      "|  1|   January|The Italian Veget...|                 2|\n",
      "|  1|   January|The Barbecue Chic...|                11|\n",
      "|  1|   January|The Pepper Salami...|                 4|\n",
      "|  1|   January| The Pepperoni Pizza|                 6|\n",
      "|  1|   January|The Vegetables + ...|                 3|\n",
      "|  1|   January|The Pepperoni, Mu...|                 6|\n",
      "|  1|   January|  The Sicilian Pizza|                 4|\n",
      "|  1|   January|The Mediterranean...|                 2|\n",
      "|  1|   January| The Calabrese Pizza|                 1|\n",
      "|  1|   January|The Soppressata P...|                 1|\n",
      "|  1|   January|The Chicken Pesto...|                 4|\n",
      "|  1|   January|  The Hawaiian Pizza|                 4|\n",
      "|  1|   January|The Napolitana Pizza|                 2|\n",
      "|  1|   January|The Southwest Chi...|                 7|\n",
      "|  1|   January|The Classic Delux...|                10|\n",
      "|  1|   January|The Thai Chicken ...|                 8|\n",
      "|  1|   January|The Spicy Italian...|                 5|\n",
      "|  1|   January|The Five Cheese P...|                 7|\n",
      "|  1|   January|     The Greek Pizza|                 5|\n",
      "|  1|   January|The California Ch...|                 4|\n",
      "|  1|   January|  The Mexicana Pizza|                 9|\n",
      "|  1|   January|The Spinach Pesto...|                 2|\n",
      "|  1|   January|The Chicken Alfre...|                 2|\n",
      "|  1|   January|  The Big Meat Pizza|                 5|\n",
      "|  1|   January|The Green Garden ...|                 7|\n",
      "|  1|   January|The Spinach and F...|                 2|\n",
      "|  1|   January|The Prosciutto an...|                 4|\n",
      "|  1|   January|The Spinach Supre...|                 5|\n",
      "|  1|   January|The Italian Capoc...|                 8|\n",
      "|  1|   January|The Four Cheese P...|                 6|\n",
      "+---+----------+--------------------+------------------+\n",
      "only showing top 30 rows\n",
      "\n"
     ]
    }
   ],
   "source": [
    "dfPizzaDayNameQuantity = dfPizzaDayMonthYear.groupBy(\"Day\",\"Month\",\"Month Name\",\"Name\").count().orderBy(\"Month\",\"Day\")\n",
    "\n",
    "\n",
    "dfPizzaDayNameQuantity = dfPizzaDayNameQuantity.select(\"Day\",\"Month Name\",\"Name\",col(\"count\").alias(\"Quantity of Orders\"))\n",
    "\n",
    "dfPizzaDayNameQuantity.show(30) "
   ]
  },
  {
   "attachments": {},
   "cell_type": "markdown",
   "id": "9b644455",
   "metadata": {},
   "source": [
    "### Total Amount of Pizza in each day"
   ]
  },
  {
   "cell_type": "code",
   "execution_count": 40,
   "id": "d99feec2",
   "metadata": {},
   "outputs": [
    {
     "name": "stdout",
     "output_type": "stream",
     "text": [
      "+---+----------+------------+\n",
      "|Day|Month Name|Total Amount|\n",
      "+---+----------+------------+\n",
      "|1  |January   |2713.85     |\n",
      "|2  |January   |2731.90     |\n",
      "|3  |January   |2662.40     |\n",
      "|4  |January   |1755.45     |\n",
      "|5  |January   |2065.95     |\n",
      "|6  |January   |2428.95     |\n",
      "|7  |January   |2202.20     |\n",
      "|8  |January   |2838.35     |\n",
      "|9  |January   |2127.35     |\n",
      "|10 |January   |2463.95     |\n",
      "|11 |January   |1872.30     |\n",
      "|12 |January   |1919.05     |\n",
      "|13 |January   |2049.60     |\n",
      "|14 |January   |2527.40     |\n",
      "|15 |January   |1984.80     |\n",
      "|16 |January   |2594.15     |\n",
      "|17 |January   |2064.10     |\n",
      "|18 |January   |1976.85     |\n",
      "|19 |January   |2387.15     |\n",
      "|20 |January   |2397.90     |\n",
      "|21 |January   |2040.55     |\n",
      "|22 |January   |2496.70     |\n",
      "|23 |January   |2423.70     |\n",
      "|24 |January   |2289.25     |\n",
      "|25 |January   |1617.55     |\n",
      "|26 |January   |1884.40     |\n",
      "|27 |January   |2528.05     |\n",
      "|28 |January   |2016.00     |\n",
      "|29 |January   |2045.30     |\n",
      "|30 |January   |2270.30     |\n",
      "|31 |January   |2417.85     |\n",
      "|1  |February  |3189.20     |\n",
      "|2  |February  |2328.60     |\n",
      "|3  |February  |2614.80     |\n",
      "|4  |February  |2233.90     |\n",
      "|5  |February  |2215.80     |\n",
      "|6  |February  |2509.95     |\n",
      "|7  |February  |2237.65     |\n",
      "|8  |February  |2035.00     |\n",
      "|9  |February  |2195.35     |\n",
      "|10 |February  |2056.50     |\n",
      "|11 |February  |2460.00     |\n",
      "|12 |February  |2158.80     |\n",
      "|13 |February  |2754.50     |\n",
      "|14 |February  |2319.15     |\n",
      "|15 |February  |2141.25     |\n",
      "|16 |February  |1968.80     |\n",
      "|17 |February  |2121.90     |\n",
      "|18 |February  |2642.85     |\n",
      "|19 |February  |2030.25     |\n",
      "|20 |February  |2891.15     |\n",
      "|21 |February  |2111.00     |\n",
      "|22 |February  |1579.95     |\n",
      "|23 |February  |2168.55     |\n",
      "|24 |February  |2194.55     |\n",
      "|25 |February  |2341.30     |\n",
      "|26 |February  |2261.30     |\n",
      "|27 |February  |2857.95     |\n",
      "|28 |February  |2539.60     |\n",
      "|1  |March     |1598.55     |\n",
      "|2  |March     |2379.05     |\n",
      "|3  |March     |2287.90     |\n",
      "|4  |March     |2444.30     |\n",
      "|5  |March     |2350.65     |\n",
      "|6  |March     |2513.95     |\n",
      "|7  |March     |2400.45     |\n",
      "|8  |March     |2188.15     |\n",
      "|9  |March     |2334.55     |\n",
      "|10 |March     |2388.70     |\n",
      "|11 |March     |2207.70     |\n",
      "|12 |March     |1994.90     |\n",
      "|13 |March     |2786.65     |\n",
      "|14 |March     |2039.45     |\n",
      "|15 |March     |2068.60     |\n",
      "|16 |March     |2295.05     |\n",
      "|17 |March     |2965.30     |\n",
      "|18 |March     |2075.40     |\n",
      "|19 |March     |2388.60     |\n",
      "|20 |March     |2461.25     |\n",
      "|21 |March     |2267.40     |\n",
      "|22 |March     |1259.25     |\n",
      "|23 |March     |2232.55     |\n",
      "|24 |March     |2162.30     |\n",
      "|25 |March     |1927.75     |\n",
      "|26 |March     |2215.50     |\n",
      "|27 |March     |2744.80     |\n",
      "|28 |March     |2252.10     |\n",
      "|29 |March     |2154.25     |\n",
      "|30 |March     |2255.45     |\n",
      "|31 |March     |2756.60     |\n",
      "|1  |April     |2176.85     |\n",
      "|2  |April     |2547.15     |\n",
      "|3  |April     |2538.20     |\n",
      "|4  |April     |2767.55     |\n",
      "|5  |April     |1909.85     |\n",
      "|6  |April     |2622.35     |\n",
      "|7  |April     |2234.25     |\n",
      "|8  |April     |2293.95     |\n",
      "|9  |April     |2047.30     |\n",
      "|10 |April     |2424.95     |\n",
      "|11 |April     |2543.75     |\n",
      "|12 |April     |1994.30     |\n",
      "|13 |April     |2496.20     |\n",
      "|14 |April     |2505.70     |\n",
      "|15 |April     |2578.85     |\n",
      "|16 |April     |2017.95     |\n",
      "|17 |April     |2675.65     |\n",
      "|18 |April     |2286.20     |\n",
      "|19 |April     |1527.95     |\n",
      "|20 |April     |2459.45     |\n",
      "|21 |April     |2213.15     |\n",
      "|22 |April     |2193.45     |\n",
      "|23 |April     |2426.15     |\n",
      "|24 |April     |2979.20     |\n",
      "|25 |April     |2089.20     |\n",
      "|26 |April     |1767.40     |\n",
      "|27 |April     |2180.80     |\n",
      "|28 |April     |1742.80     |\n",
      "|29 |April     |1828.75     |\n",
      "|30 |April     |2667.50     |\n",
      "|1  |May       |2571.95     |\n",
      "|2  |May       |2400.20     |\n",
      "|3  |May       |1832.25     |\n",
      "|4  |May       |2288.90     |\n",
      "|5  |May       |1713.60     |\n",
      "|6  |May       |2309.80     |\n",
      "|7  |May       |2228.85     |\n",
      "|8  |May       |3052.30     |\n",
      "|9  |May       |2368.40     |\n",
      "|10 |May       |2288.35     |\n",
      "|11 |May       |2388.05     |\n",
      "|12 |May       |2299.70     |\n",
      "|13 |May       |2261.80     |\n",
      "|14 |May       |2694.50     |\n",
      "|15 |May       |3386.15     |\n",
      "|16 |May       |2281.10     |\n",
      "|17 |May       |1828.40     |\n",
      "|18 |May       |2209.65     |\n",
      "|19 |May       |1987.00     |\n",
      "|20 |May       |2373.00     |\n",
      "|21 |May       |2062.55     |\n",
      "|22 |May       |2635.10     |\n",
      "|23 |May       |2444.15     |\n",
      "|24 |May       |2196.95     |\n",
      "|25 |May       |2104.40     |\n",
      "|26 |May       |1876.45     |\n",
      "|27 |May       |2097.00     |\n",
      "|28 |May       |2016.40     |\n",
      "|29 |May       |3001.20     |\n",
      "|30 |May       |2486.95     |\n",
      "|31 |May       |1717.65     |\n",
      "|1  |June      |3067.75     |\n",
      "|2  |June      |2449.95     |\n",
      "|3  |June      |1907.05     |\n",
      "|4  |June      |2283.60     |\n",
      "|5  |June      |2700.15     |\n",
      "|6  |June      |2280.95     |\n",
      "|7  |June      |1960.75     |\n",
      "|8  |June      |2264.95     |\n",
      "|9  |June      |2442.55     |\n",
      "|10 |June      |2019.40     |\n",
      "|11 |June      |2650.50     |\n",
      "|12 |June      |2138.60     |\n",
      "|13 |June      |2508.90     |\n",
      "|14 |June      |1859.00     |\n",
      "|15 |June      |2595.60     |\n",
      "|16 |June      |1898.30     |\n",
      "|17 |June      |2137.10     |\n",
      "|18 |June      |1984.50     |\n",
      "|19 |June      |2793.45     |\n",
      "|20 |June      |2060.60     |\n",
      "|21 |June      |1925.20     |\n",
      "|22 |June      |2319.30     |\n",
      "|23 |June      |2042.75     |\n",
      "|24 |June      |2327.50     |\n",
      "|25 |June      |2399.15     |\n",
      "|26 |June      |2745.50     |\n",
      "|27 |June      |2812.90     |\n",
      "|28 |June      |1569.70     |\n",
      "|29 |June      |1873.60     |\n",
      "|30 |June      |2210.95     |\n",
      "|1  |July      |2231.50     |\n",
      "|2  |July      |2294.80     |\n",
      "|3  |July      |3443.00     |\n",
      "|4  |July      |3864.20     |\n",
      "|5  |July      |1591.45     |\n",
      "|6  |July      |2116.90     |\n",
      "|7  |July      |2374.40     |\n",
      "|8  |July      |2396.05     |\n",
      "|9  |July      |2297.75     |\n",
      "|10 |July      |2432.40     |\n",
      "|11 |July      |2085.55     |\n",
      "|12 |July      |2185.65     |\n",
      "|13 |July      |2059.50     |\n",
      "|14 |July      |1956.50     |\n",
      "|15 |July      |2501.80     |\n",
      "|16 |July      |2463.90     |\n",
      "|17 |July      |3131.65     |\n",
      "|18 |July      |2122.20     |\n",
      "|19 |July      |2022.70     |\n",
      "|20 |July      |2501.00     |\n",
      "|21 |July      |2030.85     |\n",
      "|22 |July      |2292.10     |\n",
      "|23 |July      |2214.50     |\n",
      "|24 |July      |3204.40     |\n",
      "|25 |July      |2237.25     |\n",
      "|26 |July      |1871.55     |\n",
      "|27 |July      |2172.00     |\n",
      "|28 |July      |2094.55     |\n",
      "|29 |July      |1923.25     |\n",
      "|30 |July      |2349.15     |\n",
      "|31 |July      |2095.40     |\n",
      "|1  |August    |2440.55     |\n",
      "|2  |August    |1910.15     |\n",
      "|3  |August    |1982.25     |\n",
      "|4  |August    |2090.15     |\n",
      "|5  |August    |2094.85     |\n",
      "|6  |August    |2099.25     |\n",
      "|7  |August    |2626.40     |\n",
      "|8  |August    |2716.40     |\n",
      "|9  |August    |2002.65     |\n",
      "|10 |August    |2139.45     |\n",
      "|11 |August    |2290.00     |\n",
      "|12 |August    |2365.75     |\n",
      "|13 |August    |2074.15     |\n",
      "|14 |August    |3016.60     |\n",
      "|15 |August    |2252.35     |\n",
      "|16 |August    |2139.30     |\n",
      "|17 |August    |2626.00     |\n",
      "|18 |August    |2101.20     |\n",
      "|19 |August    |2332.95     |\n",
      "|20 |August    |1907.70     |\n",
      "|21 |August    |2601.40     |\n",
      "|22 |August    |2406.00     |\n",
      "|23 |August    |1701.60     |\n",
      "|24 |August    |1697.05     |\n",
      "|25 |August    |1958.90     |\n",
      "|26 |August    |2329.40     |\n",
      "|27 |August    |2117.65     |\n",
      "|28 |August    |2647.20     |\n",
      "|29 |August    |2035.00     |\n",
      "|30 |August    |1494.60     |\n",
      "|31 |August    |2081.35     |\n",
      "|1  |September |2352.85     |\n",
      "|2  |September |1865.55     |\n",
      "|3  |September |2252.60     |\n",
      "|4  |September |2960.95     |\n",
      "|5  |September |2537.80     |\n",
      "|6  |September |1491.65     |\n",
      "|7  |September |2283.35     |\n",
      "|8  |September |2249.50     |\n",
      "|9  |September |2580.10     |\n",
      "|10 |September |2415.85     |\n",
      "|11 |September |2761.90     |\n",
      "|12 |September |2588.15     |\n",
      "|13 |September |1838.15     |\n",
      "|14 |September |2165.25     |\n",
      "|15 |September |2550.20     |\n",
      "|16 |September |2185.25     |\n",
      "|17 |September |2242.05     |\n",
      "|18 |September |2721.55     |\n",
      "|19 |September |2286.55     |\n",
      "|20 |September |1829.00     |\n",
      "|21 |September |2131.45     |\n",
      "|22 |September |2170.40     |\n",
      "|23 |September |2163.00     |\n",
      "|26 |September |2246.85     |\n",
      "|27 |September |2314.70     |\n",
      "|28 |September |2035.30     |\n",
      "|29 |September |2762.05     |\n",
      "|30 |September |2198.05     |\n",
      "|1  |October   |3202.15     |\n",
      "|2  |October   |2074.85     |\n",
      "|3  |October   |2400.95     |\n",
      "|4  |October   |2142.20     |\n",
      "|6  |October   |2215.95     |\n",
      "|7  |October   |2092.35     |\n",
      "|8  |October   |1975.85     |\n",
      "|9  |October   |2512.60     |\n",
      "|10 |October   |2310.20     |\n",
      "|11 |October   |1916.25     |\n",
      "|13 |October   |2325.95     |\n",
      "|14 |October   |2146.35     |\n",
      "|15 |October   |4320.20     |\n",
      "|16 |October   |2555.10     |\n",
      "|17 |October   |2339.80     |\n",
      "|18 |October   |1795.30     |\n",
      "|20 |October   |2437.15     |\n",
      "|21 |October   |2460.50     |\n",
      "|22 |October   |2400.90     |\n",
      "|23 |October   |2610.65     |\n",
      "|24 |October   |2679.50     |\n",
      "|25 |October   |1837.05     |\n",
      "|27 |October   |1988.65     |\n",
      "|28 |October   |1635.95     |\n",
      "|29 |October   |2169.75     |\n",
      "|30 |October   |2736.60     |\n",
      "|31 |October   |2744.85     |\n",
      "|1  |November  |1986.65     |\n",
      "|2  |November  |2299.10     |\n",
      "|3  |November  |1828.55     |\n",
      "|4  |November  |1966.10     |\n",
      "|5  |November  |2180.35     |\n",
      "|6  |November  |3157.50     |\n",
      "|7  |November  |2580.95     |\n",
      "|8  |November  |2110.15     |\n",
      "|9  |November  |2483.75     |\n",
      "|10 |November  |2042.60     |\n",
      "|11 |November  |1946.20     |\n",
      "|12 |November  |2564.80     |\n",
      "|13 |November  |2264.55     |\n",
      "|14 |November  |2324.75     |\n",
      "|15 |November  |1821.65     |\n",
      "|16 |November  |2256.65     |\n",
      "|17 |November  |1956.55     |\n",
      "|18 |November  |2111.70     |\n",
      "|19 |November  |2694.90     |\n",
      "|20 |November  |2388.10     |\n",
      "|21 |November  |2083.95     |\n",
      "|22 |November  |1368.70     |\n",
      "|23 |November  |2465.15     |\n",
      "|24 |November  |2230.05     |\n",
      "|25 |November  |2363.25     |\n",
      "|26 |November  |4405.95     |\n",
      "|27 |November  |4422.45     |\n",
      "|28 |November  |1968.05     |\n",
      "|29 |November  |1899.00     |\n",
      "|30 |November  |2223.25     |\n",
      "|1  |December  |2076.70     |\n",
      "|2  |December  |2214.10     |\n",
      "|3  |December  |2243.20     |\n",
      "|4  |December  |2878.35     |\n",
      "|5  |December  |2627.95     |\n",
      "|6  |December  |2350.25     |\n",
      "|7  |December  |2414.80     |\n",
      "|8  |December  |1856.25     |\n",
      "|9  |December  |2571.55     |\n",
      "|10 |December  |1985.60     |\n",
      "|11 |December  |2634.00     |\n",
      "|12 |December  |1960.15     |\n",
      "|13 |December  |2245.15     |\n",
      "|14 |December  |2172.60     |\n",
      "|15 |December  |2387.45     |\n",
      "|16 |December  |2234.80     |\n",
      "|17 |December  |1880.75     |\n",
      "|18 |December  |2886.30     |\n",
      "|19 |December  |2304.20     |\n",
      "|20 |December  |2104.90     |\n",
      "|21 |December  |2100.70     |\n",
      "|22 |December  |1882.95     |\n",
      "|23 |December  |2244.30     |\n",
      "|24 |December  |2137.85     |\n",
      "|26 |December  |1643.05     |\n",
      "|27 |December  |1419.00     |\n",
      "|28 |December  |1637.20     |\n",
      "|29 |December  |1353.25     |\n",
      "|30 |December  |1337.80     |\n",
      "|31 |December  |2916.00     |\n",
      "+---+----------+------------+\n",
      "\n"
     ]
    }
   ],
   "source": [
    "dfPizzaTotalAmountEachDay = dfPizzaDayMonthYear.groupBy(\"Day\",\"Month\",\"Month Name\").sum(\"Total Amount\").orderBy(\"Month\",\"Day\")\n",
    "\n",
    "dfPizzaTotalAmountEachDay = dfPizzaTotalAmountEachDay.select(\"Day\",\"Month Name\",col(\"sum(Total Amount)\").alias(\"Total Amount\"))\n",
    "dfPizzaTotalAmountEachDay.show(dfPizzaTotalAmountEachDay.count(), False)"
   ]
  },
  {
   "cell_type": "code",
   "execution_count": 41,
   "id": "14f7858f",
   "metadata": {},
   "outputs": [
    {
     "name": "stdout",
     "output_type": "stream",
     "text": [
      "+---+----------+------------------------------------------+------------+\n",
      "|Day|Month Name|Name                                      |Total Amount|\n",
      "+---+----------+------------------------------------------+------------+\n",
      "|1  |January   |The Chicken Pesto Pizza                   |79.00       |\n",
      "|1  |January   |The Italian Supreme Pizza                 |269.00      |\n",
      "|1  |January   |The Hawaiian Pizza                        |50.75       |\n",
      "|1  |January   |The Barbecue Chicken Pizza                |204.25      |\n",
      "|1  |January   |The Napolitana Pizza                      |32.50       |\n",
      "|1  |January   |The Pepperoni Pizza                       |77.75       |\n",
      "|1  |January   |The Southwest Chicken Pizza               |125.25      |\n",
      "|1  |January   |The Pepperoni, Mushroom, and Peppers Pizza|82.50       |\n",
      "|1  |January   |The Classic Deluxe Pizza                  |156.50      |\n",
      "|1  |January   |The Mediterranean Pizza                   |52.25       |\n",
      "|1  |January   |The Thai Chicken Pizza                    |158.00      |\n",
      "|1  |January   |The Soppressata Pizza                     |20.75       |\n",
      "|1  |January   |The Spicy Italian Pizza                   |95.50       |\n",
      "|1  |January   |The Spinach Pesto Pizza                   |33.25       |\n",
      "|1  |January   |The Four Cheese Pizza                     |98.10       |\n",
      "|1  |January   |The Chicken Alfredo Pizza                 |29.50       |\n",
      "|1  |January   |The Pepper Salami Pizza                   |62.25       |\n",
      "|1  |January   |The Big Meat Pizza                        |60.00       |\n",
      "|1  |January   |The Sicilian Pizza                        |69.00       |\n",
      "|1  |January   |The Green Garden Pizza                    |96.25       |\n",
      "+---+----------+------------------------------------------+------------+\n",
      "only showing top 20 rows\n",
      "\n"
     ]
    }
   ],
   "source": [
    "dfPizzaDayNameTotalAmount = dfPizzaDayMonthYear.groupBy(\"Day\",\"Month\",\"Month Name\",\"Name\").sum(\"Total Amount\").orderBy(\"Month\",\"Day\")\n",
    "\n",
    "dfPizzaDayNameTotalAmount = dfPizzaDayNameTotalAmount.select(\"Day\",\"Month Name\",\"Name\",col(\"sum(Total Amount)\").alias(\"Total Amount\"))\n",
    "\n",
    "dfPizzaDayNameTotalAmount.show(truncate=False)"
   ]
  },
  {
   "attachments": {},
   "cell_type": "markdown",
   "id": "7397c528",
   "metadata": {},
   "source": [
    "### Looking for the greatest value of these and minimum and which day"
   ]
  },
  {
   "cell_type": "code",
   "execution_count": 42,
   "id": "563575e0",
   "metadata": {},
   "outputs": [
    {
     "name": "stdout",
     "output_type": "stream",
     "text": [
      "+---+----------+------------------------+------------+\n",
      "|Day|Month Name|Name                    |Total Amount|\n",
      "+---+----------+------------------------+------------+\n",
      "|27 |November  |The Classic Deluxe Pizza|322.00      |\n",
      "|17 |June      |The Pepperoni Pizza     |9.75        |\n",
      "|10 |December  |The Pepperoni Pizza     |9.75        |\n",
      "+---+----------+------------------------+------------+\n",
      "\n"
     ]
    }
   ],
   "source": [
    "MaxValueTotalAmount = dfPizzaDayNameTotalAmount.agg({\"Total Amount\": \"max\"}).collect()[0][0]\n",
    "MinValueTotalAmount = dfPizzaDayNameTotalAmount.agg({\"Total Amount\": \"min\"}).collect()[0][0]\n",
    "\n",
    "MaxTotalAmount = dfPizzaDayNameTotalAmount.filter(dfPizzaDayNameTotalAmount[\"Total Amount\"] == MaxValueTotalAmount)\n",
    "MinTotalAmount = dfPizzaDayNameTotalAmount.filter(dfPizzaDayNameTotalAmount[\"Total Amount\"] == MinValueTotalAmount)\n",
    "\n",
    "unionPizzaDayNameTotalAmount = MaxTotalAmount.union(MinTotalAmount)\n",
    "\n",
    "unionPizzaDayNameTotalAmount.show(truncate=False)\n"
   ]
  },
  {
   "cell_type": "code",
   "execution_count": 43,
   "id": "8f3453b2",
   "metadata": {},
   "outputs": [
    {
     "name": "stdout",
     "output_type": "stream",
     "text": [
      "+---+----------+------------------------------------------+------------------+\n",
      "|Day|Month Name|Name                                      |Quantity of Orders|\n",
      "+---+----------+------------------------------------------+------------------+\n",
      "|26 |November  |The Hawaiian Pizza                        |21                |\n",
      "|1  |January   |The Calabrese Pizza                       |1                 |\n",
      "|1  |January   |The Soppressata Pizza                     |1                 |\n",
      "|2  |January   |The Green Garden Pizza                    |1                 |\n",
      "|2  |January   |The Mediterranean Pizza                   |1                 |\n",
      "|2  |January   |The Chicken Alfredo Pizza                 |1                 |\n",
      "|2  |January   |The Pepperoni, Mushroom, and Peppers Pizza|1                 |\n",
      "|3  |January   |The Brie Carre Pizza                      |1                 |\n",
      "|3  |January   |The Soppressata Pizza                     |1                 |\n",
      "|3  |January   |The Green Garden Pizza                    |1                 |\n",
      "|3  |January   |The Calabrese Pizza                       |1                 |\n",
      "|4  |January   |The Pepper Salami Pizza                   |1                 |\n",
      "|4  |January   |The Vegetables + Vegetables Pizza         |1                 |\n",
      "|4  |January   |The Chicken Pesto Pizza                   |1                 |\n",
      "|4  |January   |The Southwest Chicken Pizza               |1                 |\n",
      "|5  |January   |The Chicken Pesto Pizza                   |1                 |\n",
      "|5  |January   |The Mediterranean Pizza                   |1                 |\n",
      "|6  |January   |The Napolitana Pizza                      |1                 |\n",
      "|6  |January   |The Brie Carre Pizza                      |1                 |\n",
      "|6  |January   |The Soppressata Pizza                     |1                 |\n",
      "+---+----------+------------------------------------------+------------------+\n",
      "only showing top 20 rows\n",
      "\n"
     ]
    }
   ],
   "source": [
    "MaxValueQty = dfPizzaDayNameQuantity.agg({\"Quantity of Orders\": \"max\"}).collect()[0][0]\n",
    "MinValueQty = dfPizzaDayNameQuantity.agg({\"Quantity of Orders\": \"min\"}).collect()[0][0]\n",
    "\n",
    "MaxQty = dfPizzaDayNameQuantity.filter(dfPizzaDayNameQuantity[\"Quantity of Orders\"] == MaxValueQty)\n",
    "MinQty = dfPizzaDayNameQuantity.filter(dfPizzaDayNameQuantity[\"Quantity of Orders\"] == MinValueQty)\n",
    "\n",
    "unionPizzaDayNameQty = MaxQty.union(MinQty)\n",
    "\n",
    "unionPizzaDayNameQty.show(truncate=False)\n",
    "\n"
   ]
  },
  {
   "cell_type": "code",
   "execution_count": 44,
   "id": "2a92e8ee",
   "metadata": {},
   "outputs": [
    {
     "name": "stdout",
     "output_type": "stream",
     "text": [
      "+------------------------+------------------+\n",
      "|Name                    |Quantity of Orders|\n",
      "+------------------------+------------------+\n",
      "|The Classic Deluxe Pizza|2416              |\n",
      "|The Brie Carre Pizza    |480               |\n",
      "+------------------------+------------------+\n",
      "\n"
     ]
    }
   ],
   "source": [
    "MaxQtyOrder = dfOrderedPizza.agg({\"Quantity of Orders\": \"max\"}).collect()[0][0]\n",
    "MinQtyOrder = dfOrderedPizza.agg({\"Quantity of Orders\": \"min\"}).collect()[0][0]\n",
    "\n",
    "MaxQty = dfOrderedPizza.filter(dfOrderedPizza[\"Quantity of Orders\"] == MaxQtyOrder)\n",
    "MinQty = dfOrderedPizza.filter(dfOrderedPizza[\"Quantity of Orders\"] == MinQtyOrder)\n",
    "\n",
    "unionPizzaQty = MaxQty.union(MinQty)\n",
    "\n",
    "unionPizzaQty.show(truncate=False)\n"
   ]
  },
  {
   "cell_type": "code",
   "execution_count": 45,
   "id": "2d9be29a",
   "metadata": {},
   "outputs": [
    {
     "name": "stdout",
     "output_type": "stream",
     "text": [
      "+----------------------+------------+\n",
      "|Name                  |Total Amount|\n",
      "+----------------------+------------+\n",
      "|The Thai Chicken Pizza|43434.25    |\n",
      "|The Brie Carre Pizza  |11588.50    |\n",
      "+----------------------+------------+\n",
      "\n"
     ]
    }
   ],
   "source": [
    "MaxTotalAmount = dfPizzaPizzaNameByTotalAmount.agg({\"Total Amount\": \"max\"}).collect()[0][0]\n",
    "MinTotalAmount = dfPizzaPizzaNameByTotalAmount.agg({\"Total Amount\": \"min\"}).collect()[0][0]\n",
    "\n",
    "MaxTA = dfPizzaPizzaNameByTotalAmount.filter(dfPizzaPizzaNameByTotalAmount[\"Total Amount\"] == MaxTotalAmount)\n",
    "MinTA = dfPizzaPizzaNameByTotalAmount.filter(dfPizzaPizzaNameByTotalAmount[\"Total Amount\"] == MinTotalAmount)\n",
    "\n",
    "unionPizzaTotalAmount = MaxTA.union(MinTA)\n",
    "\n",
    "unionPizzaTotalAmount.show(truncate=False)\n",
    "\n",
    "\n"
   ]
  },
  {
   "attachments": {},
   "cell_type": "markdown",
   "id": "ccc69e98",
   "metadata": {},
   "source": [
    "### Counting orders in each month in the name of month"
   ]
  },
  {
   "cell_type": "code",
   "execution_count": 46,
   "id": "41a32413",
   "metadata": {},
   "outputs": [
    {
     "name": "stdout",
     "output_type": "stream",
     "text": [
      "+---------+------------------+\n",
      "|Month    |Quantity of Orders|\n",
      "+---------+------------------+\n",
      "|January  |4156              |\n",
      "|February |3892              |\n",
      "|March    |4186              |\n",
      "|April    |4067              |\n",
      "|May      |4239              |\n",
      "|June     |4025              |\n",
      "|July     |4301              |\n",
      "|August   |4094              |\n",
      "|September|3819              |\n",
      "|October  |3797              |\n",
      "|November |4185              |\n",
      "|December |3859              |\n",
      "+---------+------------------+\n",
      "\n"
     ]
    }
   ],
   "source": [
    "dfPizzaMonthName = dfPizza.withColumn(\"Month Name\",date_format(\"date\", \"MMMM\")).withColumn(\"Month\", month(col(\"Date\")))\n",
    "dfPizzaMonthName = dfPizzaMonthName.na.drop()\n",
    "\n",
    "dfPizzaMonthName = dfPizzaMonthName.groupBy(\"Month Name\",\"Month\").count().orderBy(\"Month\")\n",
    "\n",
    "dfPizzaMonthName.select(col(\"Month Name\").alias(\"Month\"),col(\"count\").alias(\"Quantity of Orders\")).show(truncate=False)"
   ]
  },
  {
   "attachments": {},
   "cell_type": "markdown",
   "id": "babf9036",
   "metadata": {},
   "source": [
    "### Dealing with pizza without orders"
   ]
  },
  {
   "cell_type": "code",
   "execution_count": 47,
   "id": "06c6698e",
   "metadata": {},
   "outputs": [
    {
     "name": "stdout",
     "output_type": "stream",
     "text": [
      "+---------------------+--------+-------------------------------------------------------------------------------------------------+----+-----+--------+------------+----+----+\n",
      "|Name                 |Category|Ingredients                                                                                      |Size|Price|Quantity|Total Amount|Date|Time|\n",
      "+---------------------+--------+-------------------------------------------------------------------------------------------------+----+-----+--------+------------+----+----+\n",
      "|The Four Cheese Pizza|VEGGIE  |Ricotta Cheese, Gorgonzola Piccante Cheese, Mozzarella Cheese, Parmigiano Reggiano Cheese, Garlic|S   |11.75|null    |null        |null|null|\n",
      "|The Big Meat Pizza   |CLASSIC |Bacon, Pepperoni, Italian Sausage, Chorizo Sausage                                               |L   |20.50|null    |null        |null|null|\n",
      "|The Five Cheese Pizza|VEGGIE  |Mozzarella Cheese, Provolone Cheese, Smoked Gouda Cheese, Romano Cheese, Blue Cheese, Garlic     |S   |12.50|null    |null        |null|null|\n",
      "|The Big Meat Pizza   |CLASSIC |Bacon, Pepperoni, Italian Sausage, Chorizo Sausage                                               |M   |16.00|null    |null        |null|null|\n",
      "|The Five Cheese Pizza|VEGGIE  |Mozzarella Cheese, Provolone Cheese, Smoked Gouda Cheese, Romano Cheese, Blue Cheese, Garlic     |M   |15.50|null    |null        |null|null|\n",
      "+---------------------+--------+-------------------------------------------------------------------------------------------------+----+-----+--------+------------+----+----+\n",
      "\n"
     ]
    }
   ],
   "source": [
    "dfPizzaWithoutOrders = dfPizza.filter(dfPizza.Date.isNull())\n",
    "dfPizzaWithoutOrders.show(truncate=False)\n",
    "NamePizzaWithoutOrders = dfPizzaWithoutOrders.agg(collect_set(\"Name\")).collect()[0][0]\n",
    "CategoryPizzaWithoutOrders = dfPizzaWithoutOrders.agg(collect_set(\"Category\")).collect()[0][0]\n",
    "QuantityOfPizzaWithoutOrders = dfPizzaWithoutOrders.count()\n"
   ]
  },
  {
   "cell_type": "code",
   "execution_count": 48,
   "id": "c49fc1a7",
   "metadata": {},
   "outputs": [
    {
     "name": "stdout",
     "output_type": "stream",
     "text": [
      "The quantity of pizza without orders: 5\n",
      "The name of pizza without orders: ['The Big Meat Pizza', 'The Four Cheese Pizza', 'The Five Cheese Pizza']\n",
      "The category of pizza without orders: ['VEGGIE', 'CLASSIC']\n"
     ]
    }
   ],
   "source": [
    "print(f'The quantity of pizza without orders: {QuantityOfPizzaWithoutOrders}')\n",
    "print(f'The name of pizza without orders: {NamePizzaWithoutOrders}')\n",
    "print(f'The category of pizza without orders: {CategoryPizzaWithoutOrders}')"
   ]
  },
  {
   "attachments": {},
   "cell_type": "markdown",
   "id": "f4cf2fd9",
   "metadata": {},
   "source": [
    "### Calculating the quantity of orders and total amount regarding pizza in each month"
   ]
  },
  {
   "cell_type": "code",
   "execution_count": 49,
   "id": "0368fa18",
   "metadata": {},
   "outputs": [],
   "source": [
    "dfPizzaDayNameMonthYear = dfPizzaDayMonthYear.withColumn(\"Month Name\",date_format(\"date\", \"MMMM\"))\n",
    "dfPizzaMonthQty = dfPizzaDayNameMonthYear.groupBy(\"Name\",\"Month Name\",\"Month\").count()\n",
    "dfPizzaMonthTotalAmount = dfPizzaDayNameMonthYear.groupBy(\"Name\",\"Month Name\",\"Month\").sum(\"Total Amount\")\n",
    "\n"
   ]
  },
  {
   "attachments": {},
   "cell_type": "markdown",
   "id": "52196163",
   "metadata": {},
   "source": [
    "### Orders"
   ]
  },
  {
   "cell_type": "code",
   "execution_count": 50,
   "id": "58615372",
   "metadata": {},
   "outputs": [
    {
     "name": "stdout",
     "output_type": "stream",
     "text": [
      "+----------+---------------------------------+------------------+\n",
      "|Month Name|Name                             |Quantity of Orders|\n",
      "+----------+---------------------------------+------------------+\n",
      "|January   |The Spicy Italian Pizza          |147               |\n",
      "|January   |The Italian Supreme Pizza        |166               |\n",
      "|January   |The Vegetables + Vegetables Pizza|143               |\n",
      "|January   |The Sicilian Pizza               |186               |\n",
      "|January   |The Classic Deluxe Pizza         |189               |\n",
      "|January   |The Spinach and Feta Pizza       |123               |\n",
      "|January   |The California Chicken Pizza     |197               |\n",
      "|January   |The Thai Chicken Pizza           |197               |\n",
      "|January   |The Mediterranean Pizza          |66                |\n",
      "|January   |The Four Cheese Pizza            |153               |\n",
      "|January   |The Spinach Supreme Pizza        |87                |\n",
      "|January   |The Pepperoni Pizza              |235               |\n",
      "|January   |The Southwest Chicken Pizza      |135               |\n",
      "|January   |The Five Cheese Pizza            |134               |\n",
      "|January   |The Italian Vegetables Pizza     |100               |\n",
      "|January   |The Brie Carre Pizza             |34                |\n",
      "|January   |The Chicken Alfredo Pizza        |83                |\n",
      "|January   |The Green Garden Pizza           |74                |\n",
      "|January   |The Napolitana Pizza             |135               |\n",
      "|January   |The Prosciutto and Arugula Pizza |133               |\n",
      "+----------+---------------------------------+------------------+\n",
      "only showing top 20 rows\n",
      "\n"
     ]
    }
   ],
   "source": [
    "dfPizzaMonthNameQty = dfPizzaMonthQty.select(\"Month Name\",\n",
    "                        \"Name\",\n",
    "                        col(\"count\").alias(\"Quantity of Orders\")).orderBy(\"Month\")\n",
    "dfPizzaMonthNameQty.show(truncate=False)"
   ]
  },
  {
   "attachments": {},
   "cell_type": "markdown",
   "id": "5d8a8c57",
   "metadata": {},
   "source": [
    "### Ranking"
   ]
  },
  {
   "cell_type": "code",
   "execution_count": 51,
   "id": "e6f232e8",
   "metadata": {},
   "outputs": [
    {
     "name": "stdout",
     "output_type": "stream",
     "text": [
      "+----------+---------------------------------+------------------+-------+\n",
      "|Month Name|Name                             |Quantity of Orders|Ranking|\n",
      "+----------+---------------------------------+------------------+-------+\n",
      "|January   |The Pepperoni Pizza              |235               |1      |\n",
      "|January   |The Barbecue Chicken Pizza       |206               |2      |\n",
      "|January   |The California Chicken Pizza     |197               |3      |\n",
      "|January   |The Thai Chicken Pizza           |197               |4      |\n",
      "|January   |The Classic Deluxe Pizza         |189               |5      |\n",
      "|January   |The Sicilian Pizza               |186               |6      |\n",
      "|January   |The Hawaiian Pizza               |182               |7      |\n",
      "|January   |The Italian Supreme Pizza        |166               |8      |\n",
      "|January   |The Four Cheese Pizza            |153               |9      |\n",
      "|January   |The Spicy Italian Pizza          |147               |10     |\n",
      "|January   |The Big Meat Pizza               |146               |11     |\n",
      "|January   |The Vegetables + Vegetables Pizza|143               |12     |\n",
      "|January   |The Southwest Chicken Pizza      |135               |13     |\n",
      "|January   |The Napolitana Pizza             |135               |14     |\n",
      "|January   |The Five Cheese Pizza            |134               |15     |\n",
      "|January   |The Prosciutto and Arugula Pizza |133               |16     |\n",
      "|January   |The Mexicana Pizza               |129               |17     |\n",
      "|January   |The Greek Pizza                  |128               |18     |\n",
      "|January   |The Pepper Salami Pizza          |128               |19     |\n",
      "|January   |The Spinach and Feta Pizza       |123               |20     |\n",
      "+----------+---------------------------------+------------------+-------+\n",
      "only showing top 20 rows\n",
      "\n"
     ]
    }
   ],
   "source": [
    "windowSpec = Window.partitionBy(\"Month Name\").orderBy(desc(\"count\"))\n",
    "\n",
    "dfPizzaMonthQtyRanking= dfPizzaMonthQty.withColumn(\"Ranking\"\n",
    "                           ,row_number().over(windowSpec)).orderBy(\"Month\",\n",
    "                                                                   desc(\"count\"))\n",
    "\n",
    "dfPizzaMonthQtyRanking.select(\"Month Name\",\n",
    "                              \"Name\",\n",
    "                              col(\"count\").alias(\"Quantity of Orders\"),\n",
    "                              \"Ranking\").show(truncate=False)"
   ]
  },
  {
   "cell_type": "code",
   "execution_count": 52,
   "id": "5f34d870",
   "metadata": {},
   "outputs": [
    {
     "name": "stdout",
     "output_type": "stream",
     "text": [
      "+----------+----------------------------+------------------+-------+\n",
      "|Month Name|Name                        |Quantity of Orders|Ranking|\n",
      "+----------+----------------------------+------------------+-------+\n",
      "|January   |The Pepperoni Pizza         |235               |1      |\n",
      "|February  |The Pepperoni Pizza         |201               |1      |\n",
      "|March     |The Barbecue Chicken Pizza  |229               |1      |\n",
      "|April     |The Classic Deluxe Pizza    |214               |1      |\n",
      "|May       |The Pepperoni Pizza         |238               |1      |\n",
      "|June      |The California Chicken Pizza|216               |1      |\n",
      "|July      |The Pepperoni Pizza         |223               |1      |\n",
      "|August    |The California Chicken Pizza|225               |1      |\n",
      "|September |The Classic Deluxe Pizza    |201               |1      |\n",
      "|October   |The Classic Deluxe Pizza    |193               |1      |\n",
      "|November  |The Hawaiian Pizza          |219               |1      |\n",
      "|December  |The Hawaiian Pizza          |206               |1      |\n",
      "+----------+----------------------------+------------------+-------+\n",
      "\n"
     ]
    }
   ],
   "source": [
    "dfPizzaMonthQtyFirstRanking = dfPizzaMonthQtyRanking.select(\"Month Name\",\n",
    "                              \"Name\",\n",
    "                              col(\"count\").alias(\"Quantity of Orders\"),\n",
    "                              \"Ranking\")\n",
    "\n",
    "dfPizzaMonthQtyFirstRanking.filter(dfPizzaMonthQtyFirstRanking.Ranking == 1).show(truncate=False)"
   ]
  },
  {
   "attachments": {},
   "cell_type": "markdown",
   "id": "fbb960c3",
   "metadata": {},
   "source": [
    "### Maximum Quantity of Orders in month:"
   ]
  },
  {
   "cell_type": "code",
   "execution_count": 53,
   "id": "bd50dd25",
   "metadata": {},
   "outputs": [
    {
     "name": "stdout",
     "output_type": "stream",
     "text": [
      "+----------+-------------------+------------------+\n",
      "|Month Name|Name               |Quantity of Orders|\n",
      "+----------+-------------------+------------------+\n",
      "|May       |The Pepperoni Pizza|238               |\n",
      "+----------+-------------------+------------------+\n",
      "\n"
     ]
    }
   ],
   "source": [
    "MaxQtyOrder = dfPizzaMonthNameQty.agg({\"Quantity of Orders\": \"max\"}).collect()[0][0]\n",
    "\n",
    "dfPizzaMonthNameQty.filter(dfPizzaMonthNameQty[\"Quantity of Orders\"] == MaxQtyOrder).show(truncate=False)\n"
   ]
  },
  {
   "attachments": {},
   "cell_type": "markdown",
   "id": "a3ce6a08",
   "metadata": {},
   "source": [
    "### Total Amount"
   ]
  },
  {
   "cell_type": "code",
   "execution_count": 54,
   "id": "69d70a8a",
   "metadata": {},
   "outputs": [
    {
     "name": "stdout",
     "output_type": "stream",
     "text": [
      "+----------+---------------------------------+------------+\n",
      "|Month Name|Name                             |Total Amount|\n",
      "+----------+---------------------------------+------------+\n",
      "|January   |The Spicy Italian Pizza          |2762.00     |\n",
      "|January   |The Italian Supreme Pizza        |2954.75     |\n",
      "|January   |The Vegetables + Vegetables Pizza|2289.50     |\n",
      "|January   |The Sicilian Pizza               |2987.75     |\n",
      "|January   |The Classic Deluxe Pizza         |2941.50     |\n",
      "|January   |The Spinach and Feta Pizza       |2047.25     |\n",
      "|January   |The California Chicken Pizza     |3471.50     |\n",
      "|January   |The Thai Chicken Pizza           |3657.25     |\n",
      "|January   |The Mediterranean Pizza          |1147.50     |\n",
      "|January   |The Four Cheese Pizza            |2671.65     |\n",
      "|January   |The Spinach Supreme Pizza        |1357.00     |\n",
      "|January   |The Pepperoni Pizza              |3001.25     |\n",
      "|January   |The Southwest Chicken Pizza      |2495.50     |\n",
      "|January   |The Five Cheese Pizza            |2553.00     |\n",
      "|January   |The Italian Vegetables Pizza     |1653.50     |\n",
      "|January   |The Brie Carre Pizza             |827.75      |\n",
      "|January   |The Chicken Alfredo Pizza        |1456.50     |\n",
      "|January   |The Green Garden Pizza           |1065.50     |\n",
      "|January   |The Napolitana Pizza             |2306.50     |\n",
      "|January   |The Prosciutto and Arugula Pizza |2218.00     |\n",
      "+----------+---------------------------------+------------+\n",
      "only showing top 20 rows\n",
      "\n"
     ]
    }
   ],
   "source": [
    "dfPizzaMonthNameTotalAmount = dfPizzaMonthTotalAmount.select(\"Month Name\",\n",
    "                        \"Name\",\n",
    "                        col(\"sum(Total Amount)\").alias(\"Total Amount\")).orderBy(\"Month\")\n",
    "\n",
    "dfPizzaMonthNameTotalAmount.show(truncate=False)\n"
   ]
  },
  {
   "attachments": {},
   "cell_type": "markdown",
   "id": "af04958d",
   "metadata": {},
   "source": [
    "### Ranking"
   ]
  },
  {
   "cell_type": "code",
   "execution_count": 55,
   "id": "4dc9bc6d",
   "metadata": {},
   "outputs": [
    {
     "name": "stdout",
     "output_type": "stream",
     "text": [
      "+------------------------------------------+----------+-----+-----------------+\n",
      "|Name                                      |Month Name|Month|sum(Total Amount)|\n",
      "+------------------------------------------+----------+-----+-----------------+\n",
      "|The Spinach Supreme Pizza                 |September |9    |1116.25          |\n",
      "|The Italian Capocollo Pizza               |February  |2    |2079.00          |\n",
      "|The Sicilian Pizza                        |July      |7    |2473.75          |\n",
      "|The Chicken Pesto Pizza                   |November  |11   |1401.50          |\n",
      "|The Italian Vegetables Pizza              |August    |8    |1295.50          |\n",
      "|The Sicilian Pizza                        |April     |4    |2434.75          |\n",
      "|The Four Cheese Pizza                     |January   |1    |2671.65          |\n",
      "|The Spinach Supreme Pizza                 |March     |3    |1153.25          |\n",
      "|The Southwest Chicken Pizza               |June      |6    |2584.00          |\n",
      "|The Hawaiian Pizza                        |September |9    |2616.25          |\n",
      "|The Brie Carre Pizza                      |March     |3    |1087.90          |\n",
      "|The Big Meat Pizza                        |October   |10   |1812.00          |\n",
      "|The Pepper Salami Pizza                   |August    |8    |1894.25          |\n",
      "|The Pepperoni Pizza                       |April     |4    |2112.75          |\n",
      "|The Pepperoni, Mushroom, and Peppers Pizza|October   |10   |1474.00          |\n",
      "|The California Chicken Pizza              |September |9    |3088.75          |\n",
      "|The Prosciutto and Arugula Pizza          |June      |6    |1876.75          |\n",
      "|The Chicken Pesto Pizza                   |May       |5    |1379.25          |\n",
      "|The Italian Supreme Pizza                 |January   |1    |2954.75          |\n",
      "|The Spinach Pesto Pizza                   |February  |2    |1211.00          |\n",
      "+------------------------------------------+----------+-----+-----------------+\n",
      "only showing top 20 rows\n",
      "\n"
     ]
    }
   ],
   "source": [
    "dfPizzaMonthTotalAmount.show(truncate=False)"
   ]
  },
  {
   "cell_type": "code",
   "execution_count": 56,
   "id": "d58f952c",
   "metadata": {},
   "outputs": [
    {
     "name": "stdout",
     "output_type": "stream",
     "text": [
      "+----------+---------------------------------+------------+-------+\n",
      "|Month Name|Name                             |Total Amount|Ranking|\n",
      "+----------+---------------------------------+------------+-------+\n",
      "|January   |The Barbecue Chicken Pizza       |3770.25     |1      |\n",
      "|January   |The Thai Chicken Pizza           |3657.25     |2      |\n",
      "|January   |The California Chicken Pizza     |3471.50     |3      |\n",
      "|January   |The Pepperoni Pizza              |3001.25     |4      |\n",
      "|January   |The Sicilian Pizza               |2987.75     |5      |\n",
      "|January   |The Italian Supreme Pizza        |2954.75     |6      |\n",
      "|January   |The Classic Deluxe Pizza         |2941.50     |7      |\n",
      "|January   |The Spicy Italian Pizza          |2762.00     |8      |\n",
      "|January   |The Four Cheese Pizza            |2671.65     |9      |\n",
      "|January   |The Five Cheese Pizza            |2553.00     |10     |\n",
      "|January   |The Greek Pizza                  |2539.40     |11     |\n",
      "|January   |The Southwest Chicken Pizza      |2495.50     |12     |\n",
      "|January   |The Hawaiian Pizza               |2442.75     |13     |\n",
      "|January   |The Mexicana Pizza               |2358.25     |14     |\n",
      "|January   |The Pepper Salami Pizza          |2342.25     |15     |\n",
      "|January   |The Napolitana Pizza             |2306.50     |16     |\n",
      "|January   |The Vegetables + Vegetables Pizza|2289.50     |17     |\n",
      "|January   |The Prosciutto and Arugula Pizza |2218.00     |18     |\n",
      "|January   |The Italian Capocollo Pizza      |2153.00     |19     |\n",
      "|January   |The Spinach and Feta Pizza       |2047.25     |20     |\n",
      "+----------+---------------------------------+------------+-------+\n",
      "only showing top 20 rows\n",
      "\n"
     ]
    }
   ],
   "source": [
    "windowSpec = Window.partitionBy(\"Month Name\").orderBy(desc(\"sum(Total Amount)\"))\n",
    "\n",
    "dfPizzaMonthTotalAmountRanking= dfPizzaMonthTotalAmount.withColumn(\"Ranking\"\n",
    "                           ,row_number().over(windowSpec)).orderBy(\"Month\",\n",
    "                                                                   desc(\"sum(Total Amount)\"))\n",
    "\n",
    "dfPizzaMonthTotalAmountRanking.select(\"Month Name\",\n",
    "                                      \"Name\",\n",
    "                                      col(\"sum(Total Amount)\").alias(\"Total Amount\"),\n",
    "                                      \"Ranking\").show(truncate=False)"
   ]
  },
  {
   "cell_type": "code",
   "execution_count": 57,
   "id": "c61df9a4",
   "metadata": {},
   "outputs": [
    {
     "name": "stdout",
     "output_type": "stream",
     "text": [
      "+----------+----------------------------+------------+-------+\n",
      "|Month Name|Name                        |Total Amount|Ranking|\n",
      "+----------+----------------------------+------------+-------+\n",
      "|January   |The Barbecue Chicken Pizza  |3770.25     |1      |\n",
      "|February  |The California Chicken Pizza|3537.00     |1      |\n",
      "|March     |The Barbecue Chicken Pizza  |4049.25     |1      |\n",
      "|April     |The Barbecue Chicken Pizza  |3788.50     |1      |\n",
      "|May       |The Barbecue Chicken Pizza  |3953.50     |1      |\n",
      "|June      |The California Chicken Pizza|3870.50     |1      |\n",
      "|July      |The Thai Chicken Pizza      |4073.75     |1      |\n",
      "|August    |The California Chicken Pizza|3977.25     |1      |\n",
      "|September |The Thai Chicken Pizza      |3736.25     |1      |\n",
      "|October   |The Thai Chicken Pizza      |3503.25     |1      |\n",
      "|November  |The Barbecue Chicken Pizza  |3881.75     |1      |\n",
      "|December  |The Thai Chicken Pizza      |3813.00     |1      |\n",
      "+----------+----------------------------+------------+-------+\n",
      "\n"
     ]
    }
   ],
   "source": [
    "dfPizzaMonthTotalAmountFirstRanking = dfPizzaMonthTotalAmountRanking.select(\"Month Name\",\n",
    "                                      \"Name\",\n",
    "                                      col(\"sum(Total Amount)\").alias(\"Total Amount\"),\n",
    "                                      \"Ranking\")\n",
    "\n",
    "dfPizzaMonthTotalAmountFirstRanking.filter(dfPizzaMonthTotalAmountFirstRanking.Ranking == 1).show(truncate=False)"
   ]
  },
  {
   "attachments": {},
   "cell_type": "markdown",
   "id": "4e652aea",
   "metadata": {},
   "source": [
    "### Maximum Total Amount in month:"
   ]
  },
  {
   "cell_type": "code",
   "execution_count": 58,
   "id": "bef29a08",
   "metadata": {},
   "outputs": [
    {
     "name": "stdout",
     "output_type": "stream",
     "text": [
      "+----------+----------------------+------------+\n",
      "|Month Name|Name                  |Total Amount|\n",
      "+----------+----------------------+------------+\n",
      "|July      |The Thai Chicken Pizza|4073.75     |\n",
      "+----------+----------------------+------------+\n",
      "\n"
     ]
    }
   ],
   "source": [
    "MaxTotalAmount = dfPizzaMonthNameTotalAmount.agg({\"Total Amount\": \"max\"}).collect()[0][0]\n",
    "\n",
    "dfPizzaMonthNameTotalAmount.filter(dfPizzaMonthNameTotalAmount[\"Total Amount\"] == MaxTotalAmount).show(truncate=False)"
   ]
  },
  {
   "attachments": {},
   "cell_type": "markdown",
   "id": "e83792fd",
   "metadata": {},
   "source": []
  },
  {
   "attachments": {},
   "cell_type": "markdown",
   "id": "573e75f5",
   "metadata": {},
   "source": []
  },
  {
   "cell_type": "code",
   "execution_count": 59,
   "id": "6d81f023",
   "metadata": {},
   "outputs": [],
   "source": [
    "#Looking for values with only one ingredient for example salami using wildcard\n",
    "# Pizza without orders -> using case when\n",
    "#Things to be considered in next project\n",
    "# dealing with these https://www.datasciencemadesimple.com/get-month-year-and-quarter-from-date-in-pyspark/, \n",
    "# https://www.datasciencemadesimple.com/get-day-of-month-day-of-year-day-of-week-from-date-in-pyspark/\n",
    "#consdering day of week? https://www.datasciencemadesimple.com/get-day-of-month-day-of-year-day-of-week-from-date-in-pyspark/\n",
    "# browsing all materials that I have so as to select!!\n",
    "## using UDF (put  example and remove digit at the beginning) \n",
    "\n",
    "# using pandas and look for spicy pizza or ingredients\n",
    "#case when with size and is null where it is not available\n",
    "#https://sparkbyexamples.com/pyspark/pyspark-groupby-explained-with-example/\n",
    "# https://sparkbyexamples.com/pyspark/pyspark-window-functions/\n",
    "# https://sparkbyexamples.com/pyspark/pyspark-udf-user-defined-function/ \n",
    "# Considering next transformations to be used using inspirations to run this project from .doc files \n",
    "## using pandas / pivot\n",
    "# https://pub.towardsai.net/exploratory-data-analysis-eda-using-pyspark-b43e71fcec9f\n",
    "#https://dev.to/kinyungu_denis/apache-pyspark-for-data-engineering-3phi"
   ]
  }
 ],
 "metadata": {
  "kernelspec": {
   "display_name": "Python 3 (ipykernel)",
   "language": "python",
   "name": "python3"
  },
  "language_info": {
   "codemirror_mode": {
    "name": "ipython",
    "version": 3
   },
   "file_extension": ".py",
   "mimetype": "text/x-python",
   "name": "python",
   "nbconvert_exporter": "python",
   "pygments_lexer": "ipython3",
   "version": "3.11.3"
  }
 },
 "nbformat": 4,
 "nbformat_minor": 5
}
