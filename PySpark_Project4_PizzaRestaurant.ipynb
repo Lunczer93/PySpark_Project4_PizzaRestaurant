{
 "cells": [
  {
   "attachments": {},
   "cell_type": "markdown",
   "id": "b023cdbd",
   "metadata": {},
   "source": [
    "# Importing libraries"
   ]
  },
  {
   "cell_type": "code",
   "execution_count": 1,
   "id": "ab2baf11",
   "metadata": {},
   "outputs": [],
   "source": [
    "import os\n",
    "import sys\n",
    "import glob\n",
    "os.environ[\"PYARROW_IGNORE_TIMEZONE\"] = \"1\"\n",
    "os.environ['PYSPARK_PYTHON'] = sys.executable\n",
    "os.environ['PYSPARK_DRIVER_PYTHON'] = sys.executable"
   ]
  },
  {
   "cell_type": "code",
   "execution_count": 2,
   "id": "63ff700b",
   "metadata": {},
   "outputs": [],
   "source": [
    "from pyspark.sql import SparkSession,functions, Window\n",
    "from pyspark.sql.functions import *\n",
    "from pyspark.sql.types import *\n",
    "import pyspark.pandas as ps\n"
   ]
  },
  {
   "attachments": {},
   "cell_type": "markdown",
   "id": "f3edf6de",
   "metadata": {},
   "source": [
    "# Starting Spark Session and Creating a Spark Session Called Pizza"
   ]
  },
  {
   "cell_type": "code",
   "execution_count": 3,
   "id": "0b247c07",
   "metadata": {},
   "outputs": [],
   "source": [
    "spark = SparkSession.builder \\\n",
    "        .master(\"local[1]\") \\\n",
    "        .appName(\"PizzaRestaurant\") \\\n",
    "        .config(\"spark.some.config.option\", \"config-value\") \\\n",
    "        .enableHiveSupport() \\\n",
    "        .getOrCreate()"
   ]
  },
  {
   "cell_type": "code",
   "execution_count": 4,
   "id": "79e9c2cb",
   "metadata": {},
   "outputs": [
    {
     "data": {
      "text/html": [
       "\n",
       "            <div>\n",
       "                <p><b>SparkSession - hive</b></p>\n",
       "                \n",
       "        <div>\n",
       "            <p><b>SparkContext</b></p>\n",
       "\n",
       "            <p><a href=\"http://POL-8625NG3.SIIPOLSKA.PL:4040\">Spark UI</a></p>\n",
       "\n",
       "            <dl>\n",
       "              <dt>Version</dt>\n",
       "                <dd><code>v3.4.0</code></dd>\n",
       "              <dt>Master</dt>\n",
       "                <dd><code>local[1]</code></dd>\n",
       "              <dt>AppName</dt>\n",
       "                <dd><code>PizzaRestaurant</code></dd>\n",
       "            </dl>\n",
       "        </div>\n",
       "        \n",
       "            </div>\n",
       "        "
      ],
      "text/plain": [
       "<pyspark.sql.session.SparkSession at 0x1d2a5b51e50>"
      ]
     },
     "execution_count": 4,
     "metadata": {},
     "output_type": "execute_result"
    }
   ],
   "source": [
    "spark"
   ]
  },
  {
   "attachments": {},
   "cell_type": "markdown",
   "id": "eaafe855",
   "metadata": {},
   "source": [
    "# Browsing .csv PizzaRestaurant files"
   ]
  },
  {
   "cell_type": "code",
   "execution_count": 5,
   "id": "1e6fa78f",
   "metadata": {},
   "outputs": [
    {
     "name": "stdout",
     "output_type": "stream",
     "text": [
      "The file D:\\My commercial projects\\PySpark\\Project 4 PySpark\\Pizza Place Sales exists\n",
      "\n",
      "File names: D:\\My commercial projects\\PySpark\\Project 4 PySpark\\Pizza Place Sales\\orders.csv\n",
      "\n",
      "File names: D:\\My commercial projects\\PySpark\\Project 4 PySpark\\Pizza Place Sales\\order_details.csv\n",
      "\n",
      "File names: D:\\My commercial projects\\PySpark\\Project 4 PySpark\\Pizza Place Sales\\pizzas.csv\n",
      "\n",
      "File names: D:\\My commercial projects\\PySpark\\Project 4 PySpark\\Pizza Place Sales\\pizza_types.csv\n"
     ]
    }
   ],
   "source": [
    "path = r\"D:\\My commercial projects\\PySpark\\Project 4 PySpark\\Pizza Place Sales\"\n",
    "\n",
    "\n",
    "if os.path.exists(path):\n",
    "    print(f'The file {path} exists')\n",
    "else: \n",
    "    print(f\"The file {path} does not exist \")\n",
    "\n",
    "filenames = glob.glob(path + '\\*.csv')\n",
    "\n",
    "for file in filenames:\n",
    "    print(\"\\nFile names:\", file)\n"
   ]
  },
  {
   "attachments": {},
   "cell_type": "markdown",
   "id": "e4097c21",
   "metadata": {},
   "source": [
    "# Reading csv files into Spark DataFrames"
   ]
  },
  {
   "cell_type": "code",
   "execution_count": 6,
   "id": "a1ddb85f",
   "metadata": {},
   "outputs": [],
   "source": [
    "PathOrders = 'D:\\My commercial projects\\PySpark\\Project 4 PySpark\\Pizza Place Sales\\orders.csv'\n",
    "PathOrderDetails = 'D:\\My commercial projects\\PySpark\\Project 4 PySpark\\Pizza Place Sales\\order_details.csv'\n",
    "PathPizzas = 'D:\\My commercial projects\\PySpark\\Project 4 PySpark\\Pizza Place Sales\\pizzas.csv'\n",
    "PathPizzaTypes = 'D:\\My commercial projects\\PySpark\\Project 4 PySpark\\Pizza Place Sales\\pizza_types.csv'\n",
    "\n",
    "dfPizzaOrders = spark.read.csv(PathOrders, header=True, inferSchema=True)\n",
    "dfPizzaOrderDetails = spark.read.csv(PathOrderDetails, header=True, inferSchema=True)\n",
    "dfPizzas = spark.read.csv(PathPizzas, header=True, inferSchema=True)\n",
    "dfPizzaTypes = spark.read.csv(PathPizzaTypes, header=True, inferSchema=True)\n"
   ]
  },
  {
   "attachments": {},
   "cell_type": "markdown",
   "id": "0c99fedd",
   "metadata": {},
   "source": [
    "# Data Exploration"
   ]
  },
  {
   "cell_type": "code",
   "execution_count": 7,
   "id": "f019f9cc",
   "metadata": {},
   "outputs": [
    {
     "name": "stdout",
     "output_type": "stream",
     "text": [
      "+--------+----------+-------------------+\n",
      "|order_id|date      |time               |\n",
      "+--------+----------+-------------------+\n",
      "|1       |2015-01-01|2023-06-05 11:38:36|\n",
      "|2       |2015-01-01|2023-06-05 11:57:40|\n",
      "|3       |2015-01-01|2023-06-05 12:12:28|\n",
      "|4       |2015-01-01|2023-06-05 12:16:31|\n",
      "|5       |2015-01-01|2023-06-05 12:21:30|\n",
      "|6       |2015-01-01|2023-06-05 12:29:36|\n",
      "|7       |2015-01-01|2023-06-05 12:50:37|\n",
      "|8       |2015-01-01|2023-06-05 12:51:37|\n",
      "|9       |2015-01-01|2023-06-05 12:52:01|\n",
      "|10      |2015-01-01|2023-06-05 13:00:15|\n",
      "|11      |2015-01-01|2023-06-05 13:02:59|\n",
      "|12      |2015-01-01|2023-06-05 13:04:41|\n",
      "|13      |2015-01-01|2023-06-05 13:11:55|\n",
      "|14      |2015-01-01|2023-06-05 13:14:19|\n",
      "|15      |2015-01-01|2023-06-05 13:33:00|\n",
      "|16      |2015-01-01|2023-06-05 13:34:07|\n",
      "|17      |2015-01-01|2023-06-05 13:53:00|\n",
      "|18      |2015-01-01|2023-06-05 13:57:08|\n",
      "|19      |2015-01-01|2023-06-05 13:59:09|\n",
      "|20      |2015-01-01|2023-06-05 14:03:08|\n",
      "+--------+----------+-------------------+\n",
      "only showing top 20 rows\n",
      "\n"
     ]
    }
   ],
   "source": [
    "dfPizzaOrders.show(truncate=False)"
   ]
  },
  {
   "cell_type": "code",
   "execution_count": 8,
   "id": "0acfee9b",
   "metadata": {},
   "outputs": [
    {
     "name": "stdout",
     "output_type": "stream",
     "text": [
      "+----------------+--------+--------------+--------+\n",
      "|order_details_id|order_id|pizza_id      |quantity|\n",
      "+----------------+--------+--------------+--------+\n",
      "|1               |1       |hawaiian_m    |1       |\n",
      "|2               |2       |classic_dlx_m |1       |\n",
      "|3               |2       |five_cheese_l |1       |\n",
      "|4               |2       |ital_supr_l   |1       |\n",
      "|5               |2       |mexicana_m    |1       |\n",
      "|6               |2       |thai_ckn_l    |1       |\n",
      "|7               |3       |ital_supr_m   |1       |\n",
      "|8               |3       |prsc_argla_l  |1       |\n",
      "|9               |4       |ital_supr_m   |1       |\n",
      "|10              |5       |ital_supr_m   |1       |\n",
      "|11              |6       |bbq_ckn_s     |1       |\n",
      "|12              |6       |the_greek_s   |1       |\n",
      "|13              |7       |spinach_supr_s|1       |\n",
      "|14              |8       |spinach_supr_s|1       |\n",
      "|15              |9       |classic_dlx_s |1       |\n",
      "|16              |9       |green_garden_s|1       |\n",
      "|17              |9       |ital_cpcllo_l |1       |\n",
      "|18              |9       |ital_supr_l   |1       |\n",
      "|19              |9       |ital_supr_s   |1       |\n",
      "|20              |9       |mexicana_s    |1       |\n",
      "+----------------+--------+--------------+--------+\n",
      "only showing top 20 rows\n",
      "\n"
     ]
    }
   ],
   "source": [
    "dfPizzaOrderDetails.show(truncate=False)"
   ]
  },
  {
   "cell_type": "code",
   "execution_count": 9,
   "id": "2d6e4176",
   "metadata": {},
   "outputs": [
    {
     "name": "stdout",
     "output_type": "stream",
     "text": [
      "+-------------+-------------+----+-----+\n",
      "|pizza_id     |pizza_type_id|size|price|\n",
      "+-------------+-------------+----+-----+\n",
      "|bbq_ckn_s    |bbq_ckn      |S   |12.75|\n",
      "|bbq_ckn_m    |bbq_ckn      |M   |16.75|\n",
      "|bbq_ckn_l    |bbq_ckn      |L   |20.75|\n",
      "|cali_ckn_s   |cali_ckn     |S   |12.75|\n",
      "|cali_ckn_m   |cali_ckn     |M   |16.75|\n",
      "|cali_ckn_l   |cali_ckn     |L   |20.75|\n",
      "|ckn_alfredo_s|ckn_alfredo  |S   |12.75|\n",
      "|ckn_alfredo_m|ckn_alfredo  |M   |16.75|\n",
      "|ckn_alfredo_l|ckn_alfredo  |L   |20.75|\n",
      "|ckn_pesto_s  |ckn_pesto    |S   |12.75|\n",
      "|ckn_pesto_m  |ckn_pesto    |M   |16.75|\n",
      "|ckn_pesto_l  |ckn_pesto    |L   |20.75|\n",
      "|southw_ckn_s |southw_ckn   |S   |12.75|\n",
      "|southw_ckn_m |southw_ckn   |M   |16.75|\n",
      "|southw_ckn_l |southw_ckn   |L   |20.75|\n",
      "|thai_ckn_s   |thai_ckn     |S   |12.75|\n",
      "|thai_ckn_m   |thai_ckn     |M   |16.75|\n",
      "|thai_ckn_l   |thai_ckn     |L   |20.75|\n",
      "|big_meat_s   |big_meat     |S   |12.0 |\n",
      "|big_meat_m   |big_meat     |M   |16.0 |\n",
      "+-------------+-------------+----+-----+\n",
      "only showing top 20 rows\n",
      "\n"
     ]
    }
   ],
   "source": [
    "dfPizzas.show(truncate=False)"
   ]
  },
  {
   "cell_type": "code",
   "execution_count": 10,
   "id": "c696c975",
   "metadata": {},
   "outputs": [
    {
     "name": "stdout",
     "output_type": "stream",
     "text": [
      "+-------------+------------------------------------------+--------+--------------------------------------------------------------------------------------------+\n",
      "|pizza_type_id|name                                      |category|ingredients                                                                                 |\n",
      "+-------------+------------------------------------------+--------+--------------------------------------------------------------------------------------------+\n",
      "|bbq_ckn      |The Barbecue Chicken Pizza                |Chicken |Barbecued Chicken, Red Peppers, Green Peppers, Tomatoes, Red Onions, Barbecue Sauce         |\n",
      "|cali_ckn     |The California Chicken Pizza              |Chicken |Chicken, Artichoke, Spinach, Garlic, Jalapeno Peppers, Fontina Cheese, Gouda Cheese         |\n",
      "|ckn_alfredo  |The Chicken Alfredo Pizza                 |Chicken |Chicken, Red Onions, Red Peppers, Mushrooms, Asiago Cheese, Alfredo Sauce                   |\n",
      "|ckn_pesto    |The Chicken Pesto Pizza                   |Chicken |Chicken, Tomatoes, Red Peppers, Spinach, Garlic, Pesto Sauce                                |\n",
      "|southw_ckn   |The Southwest Chicken Pizza               |Chicken |Chicken, Tomatoes, Red Peppers, Red Onions, Jalapeno Peppers, Corn, Cilantro, Chipotle Sauce|\n",
      "|thai_ckn     |The Thai Chicken Pizza                    |Chicken |Chicken, Pineapple, Tomatoes, Red Peppers, Thai Sweet Chilli Sauce                          |\n",
      "|big_meat     |The Big Meat Pizza                        |Classic |Bacon, Pepperoni, Italian Sausage, Chorizo Sausage                                          |\n",
      "|classic_dlx  |The Classic Deluxe Pizza                  |Classic |Pepperoni, Mushrooms, Red Onions, Red Peppers, Bacon                                        |\n",
      "|hawaiian     |The Hawaiian Pizza                        |Classic |Sliced Ham, Pineapple, Mozzarella Cheese                                                    |\n",
      "|ital_cpcllo  |The Italian Capocollo Pizza               |Classic |Capocollo, Red Peppers, Tomatoes, Goat Cheese, Garlic, Oregano                              |\n",
      "|napolitana   |The Napolitana Pizza                      |Classic |Tomatoes, Anchovies, Green Olives, Red Onions, Garlic                                       |\n",
      "|pep_msh_pep  |The Pepperoni, Mushroom, and Peppers Pizza|Classic |Pepperoni, Mushrooms, Green Peppers                                                         |\n",
      "|pepperoni    |The Pepperoni Pizza                       |Classic |Mozzarella Cheese, Pepperoni                                                                |\n",
      "|the_greek    |The Greek Pizza                           |Classic |Kalamata Olives, Feta Cheese, Tomatoes, Garlic, Beef Chuck Roast, Red Onions                |\n",
      "|brie_carre   |The Brie Carre Pizza                      |Supreme |Brie Carre Cheese, Prosciutto, Caramelized Onions, Pears, Thyme, Garlic                     |\n",
      "|calabrese    |The Calabrese Pizza                       |Supreme |�Nduja Salami, Pancetta, Tomatoes, Red Onions, Friggitello Peppers, Garlic                  |\n",
      "|ital_supr    |The Italian Supreme Pizza                 |Supreme |Calabrese Salami, Capocollo, Tomatoes, Red Onions, Green Olives, Garlic                     |\n",
      "|peppr_salami |The Pepper Salami Pizza                   |Supreme |Genoa Salami, Capocollo, Pepperoni, Tomatoes, Asiago Cheese, Garlic                         |\n",
      "|prsc_argla   |The Prosciutto and Arugula Pizza          |Supreme |Prosciutto di San Daniele, Arugula, Mozzarella Cheese                                       |\n",
      "|sicilian     |The Sicilian Pizza                        |Supreme |Coarse Sicilian Salami, Tomatoes, Green Olives, Luganega Sausage, Onions, Garlic            |\n",
      "+-------------+------------------------------------------+--------+--------------------------------------------------------------------------------------------+\n",
      "only showing top 20 rows\n",
      "\n"
     ]
    }
   ],
   "source": [
    "dfPizzaTypes.show(truncate=False)"
   ]
  },
  {
   "attachments": {},
   "cell_type": "markdown",
   "id": "6b039cb0",
   "metadata": {},
   "source": [
    "# Combining DataFrames"
   ]
  },
  {
   "cell_type": "code",
   "execution_count": 11,
   "id": "688ec221",
   "metadata": {},
   "outputs": [
    {
     "name": "stdout",
     "output_type": "stream",
     "text": [
      "+--------+----------+-------------------+----------------+--------+--------------+--------+\n",
      "|order_id|date      |time               |order_details_id|order_id|pizza_id      |quantity|\n",
      "+--------+----------+-------------------+----------------+--------+--------------+--------+\n",
      "|1       |2015-01-01|2023-06-05 11:38:36|1               |1       |hawaiian_m    |1       |\n",
      "|2       |2015-01-01|2023-06-05 11:57:40|2               |2       |classic_dlx_m |1       |\n",
      "|2       |2015-01-01|2023-06-05 11:57:40|3               |2       |five_cheese_l |1       |\n",
      "|2       |2015-01-01|2023-06-05 11:57:40|4               |2       |ital_supr_l   |1       |\n",
      "|2       |2015-01-01|2023-06-05 11:57:40|5               |2       |mexicana_m    |1       |\n",
      "|2       |2015-01-01|2023-06-05 11:57:40|6               |2       |thai_ckn_l    |1       |\n",
      "|3       |2015-01-01|2023-06-05 12:12:28|7               |3       |ital_supr_m   |1       |\n",
      "|3       |2015-01-01|2023-06-05 12:12:28|8               |3       |prsc_argla_l  |1       |\n",
      "|4       |2015-01-01|2023-06-05 12:16:31|9               |4       |ital_supr_m   |1       |\n",
      "|5       |2015-01-01|2023-06-05 12:21:30|10              |5       |ital_supr_m   |1       |\n",
      "|6       |2015-01-01|2023-06-05 12:29:36|11              |6       |bbq_ckn_s     |1       |\n",
      "|6       |2015-01-01|2023-06-05 12:29:36|12              |6       |the_greek_s   |1       |\n",
      "|7       |2015-01-01|2023-06-05 12:50:37|13              |7       |spinach_supr_s|1       |\n",
      "|8       |2015-01-01|2023-06-05 12:51:37|14              |8       |spinach_supr_s|1       |\n",
      "|9       |2015-01-01|2023-06-05 12:52:01|15              |9       |classic_dlx_s |1       |\n",
      "|9       |2015-01-01|2023-06-05 12:52:01|16              |9       |green_garden_s|1       |\n",
      "|9       |2015-01-01|2023-06-05 12:52:01|17              |9       |ital_cpcllo_l |1       |\n",
      "|9       |2015-01-01|2023-06-05 12:52:01|18              |9       |ital_supr_l   |1       |\n",
      "|9       |2015-01-01|2023-06-05 12:52:01|19              |9       |ital_supr_s   |1       |\n",
      "|9       |2015-01-01|2023-06-05 12:52:01|20              |9       |mexicana_s    |1       |\n",
      "+--------+----------+-------------------+----------------+--------+--------------+--------+\n",
      "only showing top 20 rows\n",
      "\n"
     ]
    }
   ],
   "source": [
    "dfPizzaOrdersAll = dfPizzaOrders.join(dfPizzaOrderDetails,dfPizzaOrders.order_id == dfPizzaOrderDetails.order_id, \"inner\" )\n",
    "dfPizzaOrdersAll.show(truncate=False)"
   ]
  },
  {
   "cell_type": "code",
   "execution_count": 12,
   "id": "93c7fc0f",
   "metadata": {},
   "outputs": [
    {
     "name": "stdout",
     "output_type": "stream",
     "text": [
      "+--------------+--------+----------+-------------------+\n",
      "|      pizza_id|quantity|      date|               time|\n",
      "+--------------+--------+----------+-------------------+\n",
      "|    hawaiian_m|       1|2015-01-01|2023-06-05 11:38:36|\n",
      "| classic_dlx_m|       1|2015-01-01|2023-06-05 11:57:40|\n",
      "| five_cheese_l|       1|2015-01-01|2023-06-05 11:57:40|\n",
      "|   ital_supr_l|       1|2015-01-01|2023-06-05 11:57:40|\n",
      "|    mexicana_m|       1|2015-01-01|2023-06-05 11:57:40|\n",
      "|    thai_ckn_l|       1|2015-01-01|2023-06-05 11:57:40|\n",
      "|   ital_supr_m|       1|2015-01-01|2023-06-05 12:12:28|\n",
      "|  prsc_argla_l|       1|2015-01-01|2023-06-05 12:12:28|\n",
      "|   ital_supr_m|       1|2015-01-01|2023-06-05 12:16:31|\n",
      "|   ital_supr_m|       1|2015-01-01|2023-06-05 12:21:30|\n",
      "|     bbq_ckn_s|       1|2015-01-01|2023-06-05 12:29:36|\n",
      "|   the_greek_s|       1|2015-01-01|2023-06-05 12:29:36|\n",
      "|spinach_supr_s|       1|2015-01-01|2023-06-05 12:50:37|\n",
      "|spinach_supr_s|       1|2015-01-01|2023-06-05 12:51:37|\n",
      "| classic_dlx_s|       1|2015-01-01|2023-06-05 12:52:01|\n",
      "|green_garden_s|       1|2015-01-01|2023-06-05 12:52:01|\n",
      "| ital_cpcllo_l|       1|2015-01-01|2023-06-05 12:52:01|\n",
      "|   ital_supr_l|       1|2015-01-01|2023-06-05 12:52:01|\n",
      "|   ital_supr_s|       1|2015-01-01|2023-06-05 12:52:01|\n",
      "|    mexicana_s|       1|2015-01-01|2023-06-05 12:52:01|\n",
      "+--------------+--------+----------+-------------------+\n",
      "only showing top 20 rows\n",
      "\n"
     ]
    }
   ],
   "source": [
    "dfPizzaOrdersAll = dfPizzaOrdersAll.select(\"pizza_id\",\"quantity\",\"date\",\"time\")\n",
    "dfPizzaOrdersAll.show()"
   ]
  },
  {
   "cell_type": "code",
   "execution_count": 13,
   "id": "18380592",
   "metadata": {},
   "outputs": [
    {
     "name": "stdout",
     "output_type": "stream",
     "text": [
      "+-------------+----+-----+--------------------+--------+--------------------+\n",
      "|     pizza_id|size|price|                name|category|         ingredients|\n",
      "+-------------+----+-----+--------------------+--------+--------------------+\n",
      "|    bbq_ckn_l|   L|20.75|The Barbecue Chic...| Chicken|Barbecued Chicken...|\n",
      "|    bbq_ckn_m|   M|16.75|The Barbecue Chic...| Chicken|Barbecued Chicken...|\n",
      "|    bbq_ckn_s|   S|12.75|The Barbecue Chic...| Chicken|Barbecued Chicken...|\n",
      "|   cali_ckn_l|   L|20.75|The California Ch...| Chicken|Chicken, Artichok...|\n",
      "|   cali_ckn_m|   M|16.75|The California Ch...| Chicken|Chicken, Artichok...|\n",
      "|   cali_ckn_s|   S|12.75|The California Ch...| Chicken|Chicken, Artichok...|\n",
      "|ckn_alfredo_l|   L|20.75|The Chicken Alfre...| Chicken|Chicken, Red Onio...|\n",
      "|ckn_alfredo_m|   M|16.75|The Chicken Alfre...| Chicken|Chicken, Red Onio...|\n",
      "|ckn_alfredo_s|   S|12.75|The Chicken Alfre...| Chicken|Chicken, Red Onio...|\n",
      "|  ckn_pesto_l|   L|20.75|The Chicken Pesto...| Chicken|Chicken, Tomatoes...|\n",
      "|  ckn_pesto_m|   M|16.75|The Chicken Pesto...| Chicken|Chicken, Tomatoes...|\n",
      "|  ckn_pesto_s|   S|12.75|The Chicken Pesto...| Chicken|Chicken, Tomatoes...|\n",
      "| southw_ckn_l|   L|20.75|The Southwest Chi...| Chicken|Chicken, Tomatoes...|\n",
      "| southw_ckn_m|   M|16.75|The Southwest Chi...| Chicken|Chicken, Tomatoes...|\n",
      "| southw_ckn_s|   S|12.75|The Southwest Chi...| Chicken|Chicken, Tomatoes...|\n",
      "|   thai_ckn_l|   L|20.75|The Thai Chicken ...| Chicken|Chicken, Pineappl...|\n",
      "|   thai_ckn_m|   M|16.75|The Thai Chicken ...| Chicken|Chicken, Pineappl...|\n",
      "|   thai_ckn_s|   S|12.75|The Thai Chicken ...| Chicken|Chicken, Pineappl...|\n",
      "|   big_meat_l|   L| 20.5|  The Big Meat Pizza| Classic|Bacon, Pepperoni,...|\n",
      "|   big_meat_m|   M| 16.0|  The Big Meat Pizza| Classic|Bacon, Pepperoni,...|\n",
      "+-------------+----+-----+--------------------+--------+--------------------+\n",
      "only showing top 20 rows\n",
      "\n"
     ]
    }
   ],
   "source": [
    "dfPizzaAll = dfPizzas.join(dfPizzaTypes,dfPizzas.pizza_type_id == dfPizzaTypes.pizza_type_id, \"inner\" )\n",
    "dfPizzaAll = dfPizzaAll.select(\"pizza_id\",\"size\",\"price\",\"name\",\"category\",\"ingredients\")\n",
    "dfPizzaAll.show()\n"
   ]
  },
  {
   "cell_type": "code",
   "execution_count": 14,
   "id": "547df98a",
   "metadata": {},
   "outputs": [
    {
     "name": "stdout",
     "output_type": "stream",
     "text": [
      "+--------------------------+--------+-----------------------------------------------------------------------------------+----+-----+--------+----------+-------------------+\n",
      "|Name                      |Category|Ingredients                                                                        |Size|Price|Quantity|Date      |Time               |\n",
      "+--------------------------+--------+-----------------------------------------------------------------------------------+----+-----+--------+----------+-------------------+\n",
      "|The Barbecue Chicken Pizza|Chicken |Barbecued Chicken, Red Peppers, Green Peppers, Tomatoes, Red Onions, Barbecue Sauce|L   |20.75|1       |2015-01-01|2023-06-05 13:02:59|\n",
      "|The Barbecue Chicken Pizza|Chicken |Barbecued Chicken, Red Peppers, Green Peppers, Tomatoes, Red Onions, Barbecue Sauce|L   |20.75|1       |2015-01-01|2023-06-05 13:53:00|\n",
      "|The Barbecue Chicken Pizza|Chicken |Barbecued Chicken, Red Peppers, Green Peppers, Tomatoes, Red Onions, Barbecue Sauce|L   |20.75|1       |2015-01-01|2023-06-05 15:11:17|\n",
      "|The Barbecue Chicken Pizza|Chicken |Barbecued Chicken, Red Peppers, Green Peppers, Tomatoes, Red Onions, Barbecue Sauce|L   |20.75|1       |2015-01-01|2023-06-05 15:54:08|\n",
      "|The Barbecue Chicken Pizza|Chicken |Barbecued Chicken, Red Peppers, Green Peppers, Tomatoes, Red Onions, Barbecue Sauce|L   |20.75|1       |2015-01-01|2023-06-05 18:48:28|\n",
      "|The Barbecue Chicken Pizza|Chicken |Barbecued Chicken, Red Peppers, Green Peppers, Tomatoes, Red Onions, Barbecue Sauce|L   |20.75|1       |2015-01-01|2023-06-05 22:12:13|\n",
      "|The Barbecue Chicken Pizza|Chicken |Barbecued Chicken, Red Peppers, Green Peppers, Tomatoes, Red Onions, Barbecue Sauce|L   |20.75|2       |2015-01-02|2023-06-05 15:14:43|\n",
      "|The Barbecue Chicken Pizza|Chicken |Barbecued Chicken, Red Peppers, Green Peppers, Tomatoes, Red Onions, Barbecue Sauce|L   |20.75|1       |2015-01-02|2023-06-05 22:00:17|\n",
      "|The Barbecue Chicken Pizza|Chicken |Barbecued Chicken, Red Peppers, Green Peppers, Tomatoes, Red Onions, Barbecue Sauce|L   |20.75|1       |2015-01-03|2023-06-05 17:00:49|\n",
      "|The Barbecue Chicken Pizza|Chicken |Barbecued Chicken, Red Peppers, Green Peppers, Tomatoes, Red Onions, Barbecue Sauce|L   |20.75|1       |2015-01-03|2023-06-05 20:14:23|\n",
      "|The Barbecue Chicken Pizza|Chicken |Barbecued Chicken, Red Peppers, Green Peppers, Tomatoes, Red Onions, Barbecue Sauce|L   |20.75|1       |2015-01-03|2023-06-05 21:25:20|\n",
      "|The Barbecue Chicken Pizza|Chicken |Barbecued Chicken, Red Peppers, Green Peppers, Tomatoes, Red Onions, Barbecue Sauce|L   |20.75|1       |2015-01-04|2023-06-05 12:12:05|\n",
      "|The Barbecue Chicken Pizza|Chicken |Barbecued Chicken, Red Peppers, Green Peppers, Tomatoes, Red Onions, Barbecue Sauce|L   |20.75|1       |2015-01-04|2023-06-05 14:42:01|\n",
      "|The Barbecue Chicken Pizza|Chicken |Barbecued Chicken, Red Peppers, Green Peppers, Tomatoes, Red Onions, Barbecue Sauce|L   |20.75|1       |2015-01-04|2023-06-05 16:41:48|\n",
      "|The Barbecue Chicken Pizza|Chicken |Barbecued Chicken, Red Peppers, Green Peppers, Tomatoes, Red Onions, Barbecue Sauce|L   |20.75|1       |2015-01-04|2023-06-05 20:28:41|\n",
      "|The Barbecue Chicken Pizza|Chicken |Barbecued Chicken, Red Peppers, Green Peppers, Tomatoes, Red Onions, Barbecue Sauce|L   |20.75|1       |2015-01-04|2023-06-05 21:06:16|\n",
      "|The Barbecue Chicken Pizza|Chicken |Barbecued Chicken, Red Peppers, Green Peppers, Tomatoes, Red Onions, Barbecue Sauce|L   |20.75|1       |2015-01-04|2023-06-05 22:22:13|\n",
      "|The Barbecue Chicken Pizza|Chicken |Barbecued Chicken, Red Peppers, Green Peppers, Tomatoes, Red Onions, Barbecue Sauce|L   |20.75|1       |2015-01-05|2023-06-05 17:44:39|\n",
      "|The Barbecue Chicken Pizza|Chicken |Barbecued Chicken, Red Peppers, Green Peppers, Tomatoes, Red Onions, Barbecue Sauce|L   |20.75|1       |2015-01-06|2023-06-05 17:59:48|\n",
      "|The Barbecue Chicken Pizza|Chicken |Barbecued Chicken, Red Peppers, Green Peppers, Tomatoes, Red Onions, Barbecue Sauce|L   |20.75|1       |2015-01-06|2023-06-05 18:50:38|\n",
      "+--------------------------+--------+-----------------------------------------------------------------------------------+----+-----+--------+----------+-------------------+\n",
      "only showing top 20 rows\n",
      "\n"
     ]
    }
   ],
   "source": [
    "dfPizza = dfPizzaAll.join(dfPizzaOrdersAll,dfPizzaAll.pizza_id == dfPizzaOrdersAll.pizza_id, \"left\" )\n",
    "dfPizza = dfPizza.select(col(\"name\").alias(\"Name\"), \n",
    "                col(\"category\").alias(\"Category\"),\n",
    "                col(\"ingredients\").alias(\"Ingredients\"),\n",
    "                col(\"size\").alias(\"Size\"),\n",
    "                col(\"price\").alias(\"Price\"),\n",
    "                col(\"quantity\").alias(\"Quantity\"),\n",
    "                col(\"date\").alias(\"Date\"),\n",
    "                col(\"time\").alias(\"Time\"))\n",
    "\n",
    "dfPizza.show(truncate=False)\n"
   ]
  },
  {
   "attachments": {},
   "cell_type": "markdown",
   "id": "7e3a7741",
   "metadata": {},
   "source": [
    "# Data Cleaning"
   ]
  },
  {
   "attachments": {},
   "cell_type": "markdown",
   "id": "129b5c77",
   "metadata": {},
   "source": [
    "### Looking for null values"
   ]
  },
  {
   "cell_type": "code",
   "execution_count": 15,
   "id": "892c2730",
   "metadata": {},
   "outputs": [
    {
     "name": "stdout",
     "output_type": "stream",
     "text": [
      "+----+--------+-----------+----+-----+--------+\n",
      "|Name|Category|Ingredients|Size|Price|Quantity|\n",
      "+----+--------+-----------+----+-----+--------+\n",
      "|   0|       0|          0|   0|    0|       5|\n",
      "+----+--------+-----------+----+-----+--------+\n",
      "\n"
     ]
    }
   ],
   "source": [
    "dfPizzaNull = dfPizza.select(\"Name\", \"Category\", \"Ingredients\", \"Size\", \"Price\", \"Quantity\")\n",
    "\n",
    "dfPizzaNull.select([count(when(isnan(c) | col(c).isNull(), c)).alias(c) for c in dfPizzaNull.columns]\n",
    "   ).show()"
   ]
  },
  {
   "attachments": {},
   "cell_type": "markdown",
   "id": "daac4ee0",
   "metadata": {},
   "source": [
    "##### There are a few Null values in Quantity, but it means that there were no orders for these pizza"
   ]
  },
  {
   "cell_type": "code",
   "execution_count": 16,
   "id": "e323ea28",
   "metadata": {},
   "outputs": [
    {
     "name": "stdout",
     "output_type": "stream",
     "text": [
      "+--------------------+--------+--------------------+----+-----+--------+----+----+\n",
      "|                Name|Category|         Ingredients|Size|Price|Quantity|Date|Time|\n",
      "+--------------------+--------+--------------------+----+-----+--------+----+----+\n",
      "|The Four Cheese P...|  Veggie|Ricotta Cheese, G...|   S|11.75|    null|null|null|\n",
      "|  The Big Meat Pizza| Classic|Bacon, Pepperoni,...|   L| 20.5|    null|null|null|\n",
      "|The Five Cheese P...|  Veggie|Mozzarella Cheese...|   S| 12.5|    null|null|null|\n",
      "|  The Big Meat Pizza| Classic|Bacon, Pepperoni,...|   M| 16.0|    null|null|null|\n",
      "|The Five Cheese P...|  Veggie|Mozzarella Cheese...|   M| 15.5|    null|null|null|\n",
      "+--------------------+--------+--------------------+----+-----+--------+----+----+\n",
      "\n"
     ]
    }
   ],
   "source": [
    "dfPizza.filter(col(\"Quantity\").isNull()).show()"
   ]
  },
  {
   "attachments": {},
   "cell_type": "markdown",
   "id": "16b1ae4e",
   "metadata": {},
   "source": [
    "### Dealing with duplicate values"
   ]
  },
  {
   "cell_type": "code",
   "execution_count": 17,
   "id": "a4de4b70",
   "metadata": {},
   "outputs": [
    {
     "name": "stdout",
     "output_type": "stream",
     "text": [
      "Counting rows 48625\n"
     ]
    }
   ],
   "source": [
    "print(\"Counting rows {}\".format(dfPizza.count()))"
   ]
  },
  {
   "cell_type": "code",
   "execution_count": 18,
   "id": "6f5dc300",
   "metadata": {},
   "outputs": [
    {
     "name": "stdout",
     "output_type": "stream",
     "text": [
      "+----+--------+-----------+----+-----+--------+----+----+-----+\n",
      "|Name|Category|Ingredients|Size|Price|Quantity|Date|Time|count|\n",
      "+----+--------+-----------+----+-----+--------+----+----+-----+\n",
      "+----+--------+-----------+----+-----+--------+----+----+-----+\n",
      "\n"
     ]
    }
   ],
   "source": [
    "dfPizzaDuplicates = dfPizza.groupBy(dfPizza.columns).count().filter(col(\"count\") > 1)\n",
    "dfPizzaDuplicates.show()"
   ]
  },
  {
   "attachments": {},
   "cell_type": "markdown",
   "id": "9bd51ea1",
   "metadata": {},
   "source": [
    "### Browsing for distinct values in each column"
   ]
  },
  {
   "cell_type": "code",
   "execution_count": 19,
   "id": "aff9f1d2",
   "metadata": {},
   "outputs": [
    {
     "name": "stdout",
     "output_type": "stream",
     "text": [
      "Counting distinct rows 48625\n"
     ]
    }
   ],
   "source": [
    "print(\"Counting distinct rows {}\".format(dfPizza.distinct().count()))"
   ]
  },
  {
   "cell_type": "code",
   "execution_count": 20,
   "id": "de0e39f0",
   "metadata": {},
   "outputs": [
    {
     "name": "stdout",
     "output_type": "stream",
     "text": [
      "+----+--------+-----------+----+-----+--------+----+-----+\n",
      "|Name|Category|Ingredients|Size|Price|Quantity|Date| Time|\n",
      "+----+--------+-----------+----+-----+--------+----+-----+\n",
      "|  32|       4|         32|   5|   27|       4| 358|16382|\n",
      "+----+--------+-----------+----+-----+--------+----+-----+\n",
      "\n"
     ]
    }
   ],
   "source": [
    "dfPizza.agg(*(countDistinct(col(c)).alias(c) for c in dfPizza.columns)).show()"
   ]
  },
  {
   "attachments": {},
   "cell_type": "markdown",
   "id": "ec03a939",
   "metadata": {},
   "source": [
    "### Columns"
   ]
  },
  {
   "cell_type": "code",
   "execution_count": 21,
   "id": "69cc3c9e",
   "metadata": {},
   "outputs": [
    {
     "name": "stdout",
     "output_type": "stream",
     "text": [
      "There are 8 columns in the DataFrame and their names are ['Name', 'Category', 'Ingredients', 'Size', 'Price', 'Quantity', 'Date', 'Time']\n"
     ]
    }
   ],
   "source": [
    "print(\"There are {} columns in the DataFrame and their names are {}\".format(len(dfPizza.columns),\n",
    "                                                                              dfPizza.columns))"
   ]
  },
  {
   "attachments": {},
   "cell_type": "markdown",
   "id": "62cd0490",
   "metadata": {},
   "source": [
    "### Datatypes"
   ]
  },
  {
   "cell_type": "code",
   "execution_count": 22,
   "id": "bfddd5d5",
   "metadata": {},
   "outputs": [
    {
     "name": "stdout",
     "output_type": "stream",
     "text": [
      "root\n",
      " |-- Name: string (nullable = true)\n",
      " |-- Category: string (nullable = true)\n",
      " |-- Ingredients: string (nullable = true)\n",
      " |-- Size: string (nullable = true)\n",
      " |-- Price: double (nullable = true)\n",
      " |-- Quantity: integer (nullable = true)\n",
      " |-- Date: date (nullable = true)\n",
      " |-- Time: timestamp (nullable = true)\n",
      "\n"
     ]
    }
   ],
   "source": [
    "dfPizza.printSchema()"
   ]
  },
  {
   "cell_type": "code",
   "execution_count": 23,
   "id": "9758335e",
   "metadata": {},
   "outputs": [],
   "source": [
    "dfPizza = dfPizza.withColumn(\"Price\",col(\"Price\").cast(DecimalType(18,2)))"
   ]
  },
  {
   "attachments": {},
   "cell_type": "markdown",
   "id": "d0217720",
   "metadata": {},
   "source": [
    "### Summary"
   ]
  },
  {
   "cell_type": "code",
   "execution_count": 24,
   "id": "6748f28c",
   "metadata": {},
   "outputs": [
    {
     "name": "stdout",
     "output_type": "stream",
     "text": [
      "+-------+-----------------+\n",
      "|summary|            Price|\n",
      "+-------+-----------------+\n",
      "|  count|            48625|\n",
      "|   mean|        16.494004|\n",
      "| stddev|3.621761197368334|\n",
      "|    min|             9.75|\n",
      "|    max|            35.95|\n",
      "+-------+-----------------+\n",
      "\n"
     ]
    }
   ],
   "source": [
    "dfPizza.describe(\"Price\").show()"
   ]
  },
  {
   "cell_type": "code",
   "execution_count": 25,
   "id": "759e8058",
   "metadata": {},
   "outputs": [
    {
     "data": {
      "text/plain": [
       "[('Name', 'string'),\n",
       " ('Category', 'string'),\n",
       " ('Ingredients', 'string'),\n",
       " ('Size', 'string'),\n",
       " ('Price', 'decimal(18,2)'),\n",
       " ('Quantity', 'int'),\n",
       " ('Date', 'date'),\n",
       " ('Time', 'timestamp')]"
      ]
     },
     "execution_count": 25,
     "metadata": {},
     "output_type": "execute_result"
    }
   ],
   "source": [
    "dfPizza.dtypes"
   ]
  },
  {
   "cell_type": "code",
   "execution_count": 26,
   "id": "639cef85",
   "metadata": {},
   "outputs": [
    {
     "name": "stdout",
     "output_type": "stream",
     "text": [
      "Shape of DataFrame: 48625, 8 \n"
     ]
    }
   ],
   "source": [
    "print(\"Shape of DataFrame: {}, {} \".format(dfPizza.count(),\n",
    "                                          len(dfPizza.columns)))"
   ]
  },
  {
   "attachments": {},
   "cell_type": "markdown",
   "id": "f7e36737",
   "metadata": {},
   "source": [
    "# Data Analysis"
   ]
  },
  {
   "cell_type": "code",
   "execution_count": 27,
   "id": "6d81f023",
   "metadata": {},
   "outputs": [],
   "source": [
    "#Things to be considered in next project\n",
    "# browsing all materials that I have so as to select!!\n",
    "## using UDF (put  example and remove digit at the beginning) & analytical functions\n",
    "#https://sparkbyexamples.com/pyspark/pyspark-groupby-explained-with-example/\n",
    "# https://sparkbyexamples.com/pyspark/pyspark-window-functions/\n",
    "# https://sparkbyexamples.com/pyspark/pyspark-udf-user-defined-function/ \n",
    "# Considering next transformations to be used\n",
    "# max and min of each borough \n",
    "## using pandas / pivot\n",
    "# using inspirations to run this project from .doc files \n",
    "# https://pub.towardsai.net/exploratory-data-analysis-eda-using-pyspark-b43e71fcec9f\n",
    "#https://dev.to/kinyungu_denis/apache-pyspark-for-data-engineering-3phi"
   ]
  }
 ],
 "metadata": {
  "kernelspec": {
   "display_name": "Python 3 (ipykernel)",
   "language": "python",
   "name": "python3"
  },
  "language_info": {
   "codemirror_mode": {
    "name": "ipython",
    "version": 3
   },
   "file_extension": ".py",
   "mimetype": "text/x-python",
   "name": "python",
   "nbconvert_exporter": "python",
   "pygments_lexer": "ipython3",
   "version": "3.11.3"
  }
 },
 "nbformat": 4,
 "nbformat_minor": 5
}
