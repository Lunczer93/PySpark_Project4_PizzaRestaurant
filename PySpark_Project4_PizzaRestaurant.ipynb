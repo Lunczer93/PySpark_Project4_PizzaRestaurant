{
 "cells": [
  {
   "attachments": {},
   "cell_type": "markdown",
   "id": "b023cdbd",
   "metadata": {},
   "source": [
    "# Importing libraries"
   ]
  },
  {
   "cell_type": "code",
   "execution_count": 49,
   "id": "ab2baf11",
   "metadata": {},
   "outputs": [],
   "source": [
    "import os\n",
    "import sys\n",
    "import glob\n",
    "os.environ[\"PYARROW_IGNORE_TIMEZONE\"] = \"1\"\n",
    "os.environ['PYSPARK_PYTHON'] = sys.executable\n",
    "os.environ['PYSPARK_DRIVER_PYTHON'] = sys.executable"
   ]
  },
  {
   "cell_type": "code",
   "execution_count": 50,
   "id": "63ff700b",
   "metadata": {},
   "outputs": [],
   "source": [
    "from pyspark.sql import SparkSession,functions, Window\n",
    "from pyspark.sql.functions import *\n",
    "from pyspark.sql.types import IntegerType,BooleanType,DateType, LongType,  DoubleType, StringType\n",
    "import pyspark.pandas as ps\n"
   ]
  },
  {
   "attachments": {},
   "cell_type": "markdown",
   "id": "f3edf6de",
   "metadata": {},
   "source": [
    "# Starting Spark Session and Creating a Spark Session Called Pizza"
   ]
  },
  {
   "cell_type": "code",
   "execution_count": 51,
   "id": "0b247c07",
   "metadata": {},
   "outputs": [],
   "source": [
    "spark = SparkSession.builder \\\n",
    "        .master(\"local[1]\") \\\n",
    "        .appName(\"PizzaRestaurant\") \\\n",
    "        .config(\"spark.some.config.option\", \"config-value\") \\\n",
    "        .enableHiveSupport() \\\n",
    "        .getOrCreate()"
   ]
  },
  {
   "cell_type": "code",
   "execution_count": 52,
   "id": "79e9c2cb",
   "metadata": {},
   "outputs": [
    {
     "data": {
      "text/html": [
       "\n",
       "            <div>\n",
       "                <p><b>SparkSession - hive</b></p>\n",
       "                \n",
       "        <div>\n",
       "            <p><b>SparkContext</b></p>\n",
       "\n",
       "            <p><a href=\"http://192.168.0.13:4040\">Spark UI</a></p>\n",
       "\n",
       "            <dl>\n",
       "              <dt>Version</dt>\n",
       "                <dd><code>v3.4.0</code></dd>\n",
       "              <dt>Master</dt>\n",
       "                <dd><code>local[1]</code></dd>\n",
       "              <dt>AppName</dt>\n",
       "                <dd><code>PizzaRestaurant</code></dd>\n",
       "            </dl>\n",
       "        </div>\n",
       "        \n",
       "            </div>\n",
       "        "
      ],
      "text/plain": [
       "<pyspark.sql.session.SparkSession at 0x1c5a873b2d0>"
      ]
     },
     "execution_count": 52,
     "metadata": {},
     "output_type": "execute_result"
    }
   ],
   "source": [
    "spark"
   ]
  },
  {
   "attachments": {},
   "cell_type": "markdown",
   "id": "eaafe855",
   "metadata": {},
   "source": [
    "# Browsing .csv PizzaRestaurant files"
   ]
  },
  {
   "cell_type": "code",
   "execution_count": 53,
   "id": "1e6fa78f",
   "metadata": {},
   "outputs": [
    {
     "name": "stdout",
     "output_type": "stream",
     "text": [
      "The file C:\\My commercial projects\\PySpark\\Project 4 PySpark\\Pizza Place Sales exists\n",
      "\n",
      "File names: C:\\My commercial projects\\PySpark\\Project 4 PySpark\\Pizza Place Sales\\orders.csv\n",
      "\n",
      "File names: C:\\My commercial projects\\PySpark\\Project 4 PySpark\\Pizza Place Sales\\order_details.csv\n",
      "\n",
      "File names: C:\\My commercial projects\\PySpark\\Project 4 PySpark\\Pizza Place Sales\\pizzas.csv\n",
      "\n",
      "File names: C:\\My commercial projects\\PySpark\\Project 4 PySpark\\Pizza Place Sales\\pizza_types.csv\n"
     ]
    }
   ],
   "source": [
    "path = r\"C:\\My commercial projects\\PySpark\\Project 4 PySpark\\Pizza Place Sales\"\n",
    "\n",
    "\n",
    "if os.path.exists(path):\n",
    "    print(f'The file {path} exists')\n",
    "else: \n",
    "    print(f\"The file {path} does not exist \")\n",
    "\n",
    "filenames = glob.glob(path + '\\*.csv')\n",
    "\n",
    "for file in filenames:\n",
    "    print(\"\\nFile names:\", file)\n"
   ]
  },
  {
   "attachments": {},
   "cell_type": "markdown",
   "id": "e4097c21",
   "metadata": {},
   "source": [
    "# Reading csv files into Spark DataFrames"
   ]
  },
  {
   "cell_type": "code",
   "execution_count": 54,
   "id": "a1ddb85f",
   "metadata": {},
   "outputs": [],
   "source": [
    "PathOrders = 'C:\\My commercial projects\\PySpark\\Project 4 PySpark\\Pizza Place Sales\\orders.csv'\n",
    "PathOrderDetails = 'C:\\My commercial projects\\PySpark\\Project 4 PySpark\\Pizza Place Sales\\order_details.csv'\n",
    "PathPizzas = 'C:\\My commercial projects\\PySpark\\Project 4 PySpark\\Pizza Place Sales\\pizzas.csv'\n",
    "PathPizzaTypes = 'C:\\My commercial projects\\PySpark\\Project 4 PySpark\\Pizza Place Sales\\pizza_types.csv'\n",
    "\n",
    "dfPizzaOrders = spark.read.csv(PathOrders, header=True, inferSchema=True)\n",
    "dfPizzaOrderDetails = spark.read.csv(PathOrderDetails, header=True, inferSchema=True)\n",
    "dfPizzas = spark.read.csv(PathPizzas, header=True, inferSchema=True)\n",
    "dfPizzaTypes = spark.read.csv(PathPizzaTypes, header=True, inferSchema=True)\n"
   ]
  },
  {
   "attachments": {},
   "cell_type": "markdown",
   "id": "0c99fedd",
   "metadata": {},
   "source": [
    "# Data Exploration"
   ]
  },
  {
   "cell_type": "code",
   "execution_count": 55,
   "id": "f019f9cc",
   "metadata": {},
   "outputs": [
    {
     "name": "stdout",
     "output_type": "stream",
     "text": [
      "+--------+----------+-------------------+\n",
      "|order_id|date      |time               |\n",
      "+--------+----------+-------------------+\n",
      "|1       |2015-01-01|2023-06-03 11:38:36|\n",
      "|2       |2015-01-01|2023-06-03 11:57:40|\n",
      "|3       |2015-01-01|2023-06-03 12:12:28|\n",
      "|4       |2015-01-01|2023-06-03 12:16:31|\n",
      "|5       |2015-01-01|2023-06-03 12:21:30|\n",
      "|6       |2015-01-01|2023-06-03 12:29:36|\n",
      "|7       |2015-01-01|2023-06-03 12:50:37|\n",
      "|8       |2015-01-01|2023-06-03 12:51:37|\n",
      "|9       |2015-01-01|2023-06-03 12:52:01|\n",
      "|10      |2015-01-01|2023-06-03 13:00:15|\n",
      "|11      |2015-01-01|2023-06-03 13:02:59|\n",
      "|12      |2015-01-01|2023-06-03 13:04:41|\n",
      "|13      |2015-01-01|2023-06-03 13:11:55|\n",
      "|14      |2015-01-01|2023-06-03 13:14:19|\n",
      "|15      |2015-01-01|2023-06-03 13:33:00|\n",
      "|16      |2015-01-01|2023-06-03 13:34:07|\n",
      "|17      |2015-01-01|2023-06-03 13:53:00|\n",
      "|18      |2015-01-01|2023-06-03 13:57:08|\n",
      "|19      |2015-01-01|2023-06-03 13:59:09|\n",
      "|20      |2015-01-01|2023-06-03 14:03:08|\n",
      "+--------+----------+-------------------+\n",
      "only showing top 20 rows\n",
      "\n"
     ]
    }
   ],
   "source": [
    "dfPizzaOrders.show(truncate=False)"
   ]
  },
  {
   "cell_type": "code",
   "execution_count": 56,
   "id": "0acfee9b",
   "metadata": {},
   "outputs": [
    {
     "name": "stdout",
     "output_type": "stream",
     "text": [
      "+----------------+--------+--------------+--------+\n",
      "|order_details_id|order_id|pizza_id      |quantity|\n",
      "+----------------+--------+--------------+--------+\n",
      "|1               |1       |hawaiian_m    |1       |\n",
      "|2               |2       |classic_dlx_m |1       |\n",
      "|3               |2       |five_cheese_l |1       |\n",
      "|4               |2       |ital_supr_l   |1       |\n",
      "|5               |2       |mexicana_m    |1       |\n",
      "|6               |2       |thai_ckn_l    |1       |\n",
      "|7               |3       |ital_supr_m   |1       |\n",
      "|8               |3       |prsc_argla_l  |1       |\n",
      "|9               |4       |ital_supr_m   |1       |\n",
      "|10              |5       |ital_supr_m   |1       |\n",
      "|11              |6       |bbq_ckn_s     |1       |\n",
      "|12              |6       |the_greek_s   |1       |\n",
      "|13              |7       |spinach_supr_s|1       |\n",
      "|14              |8       |spinach_supr_s|1       |\n",
      "|15              |9       |classic_dlx_s |1       |\n",
      "|16              |9       |green_garden_s|1       |\n",
      "|17              |9       |ital_cpcllo_l |1       |\n",
      "|18              |9       |ital_supr_l   |1       |\n",
      "|19              |9       |ital_supr_s   |1       |\n",
      "|20              |9       |mexicana_s    |1       |\n",
      "+----------------+--------+--------------+--------+\n",
      "only showing top 20 rows\n",
      "\n"
     ]
    }
   ],
   "source": [
    "dfPizzaOrderDetails.show(truncate=False)"
   ]
  },
  {
   "cell_type": "code",
   "execution_count": 57,
   "id": "2d6e4176",
   "metadata": {},
   "outputs": [
    {
     "name": "stdout",
     "output_type": "stream",
     "text": [
      "+-------------+-------------+----+-----+\n",
      "|pizza_id     |pizza_type_id|size|price|\n",
      "+-------------+-------------+----+-----+\n",
      "|bbq_ckn_s    |bbq_ckn      |S   |12.75|\n",
      "|bbq_ckn_m    |bbq_ckn      |M   |16.75|\n",
      "|bbq_ckn_l    |bbq_ckn      |L   |20.75|\n",
      "|cali_ckn_s   |cali_ckn     |S   |12.75|\n",
      "|cali_ckn_m   |cali_ckn     |M   |16.75|\n",
      "|cali_ckn_l   |cali_ckn     |L   |20.75|\n",
      "|ckn_alfredo_s|ckn_alfredo  |S   |12.75|\n",
      "|ckn_alfredo_m|ckn_alfredo  |M   |16.75|\n",
      "|ckn_alfredo_l|ckn_alfredo  |L   |20.75|\n",
      "|ckn_pesto_s  |ckn_pesto    |S   |12.75|\n",
      "|ckn_pesto_m  |ckn_pesto    |M   |16.75|\n",
      "|ckn_pesto_l  |ckn_pesto    |L   |20.75|\n",
      "|southw_ckn_s |southw_ckn   |S   |12.75|\n",
      "|southw_ckn_m |southw_ckn   |M   |16.75|\n",
      "|southw_ckn_l |southw_ckn   |L   |20.75|\n",
      "|thai_ckn_s   |thai_ckn     |S   |12.75|\n",
      "|thai_ckn_m   |thai_ckn     |M   |16.75|\n",
      "|thai_ckn_l   |thai_ckn     |L   |20.75|\n",
      "|big_meat_s   |big_meat     |S   |12.0 |\n",
      "|big_meat_m   |big_meat     |M   |16.0 |\n",
      "+-------------+-------------+----+-----+\n",
      "only showing top 20 rows\n",
      "\n"
     ]
    }
   ],
   "source": [
    "dfPizzas.show(truncate=False)"
   ]
  },
  {
   "cell_type": "code",
   "execution_count": 58,
   "id": "c696c975",
   "metadata": {},
   "outputs": [
    {
     "name": "stdout",
     "output_type": "stream",
     "text": [
      "+-------------+------------------------------------------+--------+--------------------------------------------------------------------------------------------+\n",
      "|pizza_type_id|name                                      |category|ingredients                                                                                 |\n",
      "+-------------+------------------------------------------+--------+--------------------------------------------------------------------------------------------+\n",
      "|bbq_ckn      |The Barbecue Chicken Pizza                |Chicken |Barbecued Chicken, Red Peppers, Green Peppers, Tomatoes, Red Onions, Barbecue Sauce         |\n",
      "|cali_ckn     |The California Chicken Pizza              |Chicken |Chicken, Artichoke, Spinach, Garlic, Jalapeno Peppers, Fontina Cheese, Gouda Cheese         |\n",
      "|ckn_alfredo  |The Chicken Alfredo Pizza                 |Chicken |Chicken, Red Onions, Red Peppers, Mushrooms, Asiago Cheese, Alfredo Sauce                   |\n",
      "|ckn_pesto    |The Chicken Pesto Pizza                   |Chicken |Chicken, Tomatoes, Red Peppers, Spinach, Garlic, Pesto Sauce                                |\n",
      "|southw_ckn   |The Southwest Chicken Pizza               |Chicken |Chicken, Tomatoes, Red Peppers, Red Onions, Jalapeno Peppers, Corn, Cilantro, Chipotle Sauce|\n",
      "|thai_ckn     |The Thai Chicken Pizza                    |Chicken |Chicken, Pineapple, Tomatoes, Red Peppers, Thai Sweet Chilli Sauce                          |\n",
      "|big_meat     |The Big Meat Pizza                        |Classic |Bacon, Pepperoni, Italian Sausage, Chorizo Sausage                                          |\n",
      "|classic_dlx  |The Classic Deluxe Pizza                  |Classic |Pepperoni, Mushrooms, Red Onions, Red Peppers, Bacon                                        |\n",
      "|hawaiian     |The Hawaiian Pizza                        |Classic |Sliced Ham, Pineapple, Mozzarella Cheese                                                    |\n",
      "|ital_cpcllo  |The Italian Capocollo Pizza               |Classic |Capocollo, Red Peppers, Tomatoes, Goat Cheese, Garlic, Oregano                              |\n",
      "|napolitana   |The Napolitana Pizza                      |Classic |Tomatoes, Anchovies, Green Olives, Red Onions, Garlic                                       |\n",
      "|pep_msh_pep  |The Pepperoni, Mushroom, and Peppers Pizza|Classic |Pepperoni, Mushrooms, Green Peppers                                                         |\n",
      "|pepperoni    |The Pepperoni Pizza                       |Classic |Mozzarella Cheese, Pepperoni                                                                |\n",
      "|the_greek    |The Greek Pizza                           |Classic |Kalamata Olives, Feta Cheese, Tomatoes, Garlic, Beef Chuck Roast, Red Onions                |\n",
      "|brie_carre   |The Brie Carre Pizza                      |Supreme |Brie Carre Cheese, Prosciutto, Caramelized Onions, Pears, Thyme, Garlic                     |\n",
      "|calabrese    |The Calabrese Pizza                       |Supreme |�Nduja Salami, Pancetta, Tomatoes, Red Onions, Friggitello Peppers, Garlic                  |\n",
      "|ital_supr    |The Italian Supreme Pizza                 |Supreme |Calabrese Salami, Capocollo, Tomatoes, Red Onions, Green Olives, Garlic                     |\n",
      "|peppr_salami |The Pepper Salami Pizza                   |Supreme |Genoa Salami, Capocollo, Pepperoni, Tomatoes, Asiago Cheese, Garlic                         |\n",
      "|prsc_argla   |The Prosciutto and Arugula Pizza          |Supreme |Prosciutto di San Daniele, Arugula, Mozzarella Cheese                                       |\n",
      "|sicilian     |The Sicilian Pizza                        |Supreme |Coarse Sicilian Salami, Tomatoes, Green Olives, Luganega Sausage, Onions, Garlic            |\n",
      "+-------------+------------------------------------------+--------+--------------------------------------------------------------------------------------------+\n",
      "only showing top 20 rows\n",
      "\n"
     ]
    }
   ],
   "source": [
    "dfPizzaTypes.show(truncate=False)"
   ]
  },
  {
   "attachments": {},
   "cell_type": "markdown",
   "id": "6b039cb0",
   "metadata": {},
   "source": [
    "# Combining DataFrames"
   ]
  },
  {
   "cell_type": "code",
   "execution_count": 59,
   "id": "688ec221",
   "metadata": {},
   "outputs": [
    {
     "name": "stdout",
     "output_type": "stream",
     "text": [
      "+--------+----------+-------------------+----------------+--------+--------------+--------+\n",
      "|order_id|date      |time               |order_details_id|order_id|pizza_id      |quantity|\n",
      "+--------+----------+-------------------+----------------+--------+--------------+--------+\n",
      "|1       |2015-01-01|2023-06-03 11:38:36|1               |1       |hawaiian_m    |1       |\n",
      "|2       |2015-01-01|2023-06-03 11:57:40|2               |2       |classic_dlx_m |1       |\n",
      "|2       |2015-01-01|2023-06-03 11:57:40|3               |2       |five_cheese_l |1       |\n",
      "|2       |2015-01-01|2023-06-03 11:57:40|4               |2       |ital_supr_l   |1       |\n",
      "|2       |2015-01-01|2023-06-03 11:57:40|5               |2       |mexicana_m    |1       |\n",
      "|2       |2015-01-01|2023-06-03 11:57:40|6               |2       |thai_ckn_l    |1       |\n",
      "|3       |2015-01-01|2023-06-03 12:12:28|7               |3       |ital_supr_m   |1       |\n",
      "|3       |2015-01-01|2023-06-03 12:12:28|8               |3       |prsc_argla_l  |1       |\n",
      "|4       |2015-01-01|2023-06-03 12:16:31|9               |4       |ital_supr_m   |1       |\n",
      "|5       |2015-01-01|2023-06-03 12:21:30|10              |5       |ital_supr_m   |1       |\n",
      "|6       |2015-01-01|2023-06-03 12:29:36|11              |6       |bbq_ckn_s     |1       |\n",
      "|6       |2015-01-01|2023-06-03 12:29:36|12              |6       |the_greek_s   |1       |\n",
      "|7       |2015-01-01|2023-06-03 12:50:37|13              |7       |spinach_supr_s|1       |\n",
      "|8       |2015-01-01|2023-06-03 12:51:37|14              |8       |spinach_supr_s|1       |\n",
      "|9       |2015-01-01|2023-06-03 12:52:01|15              |9       |classic_dlx_s |1       |\n",
      "|9       |2015-01-01|2023-06-03 12:52:01|16              |9       |green_garden_s|1       |\n",
      "|9       |2015-01-01|2023-06-03 12:52:01|17              |9       |ital_cpcllo_l |1       |\n",
      "|9       |2015-01-01|2023-06-03 12:52:01|18              |9       |ital_supr_l   |1       |\n",
      "|9       |2015-01-01|2023-06-03 12:52:01|19              |9       |ital_supr_s   |1       |\n",
      "|9       |2015-01-01|2023-06-03 12:52:01|20              |9       |mexicana_s    |1       |\n",
      "+--------+----------+-------------------+----------------+--------+--------------+--------+\n",
      "only showing top 20 rows\n",
      "\n"
     ]
    }
   ],
   "source": [
    "dfPizzaOrdersAll = dfPizzaOrders.join(dfPizzaOrderDetails,dfPizzaOrders.order_id == dfPizzaOrderDetails.order_id, \"inner\" )\n",
    "dfPizzaOrdersAll.show(truncate=False)"
   ]
  },
  {
   "cell_type": "code",
   "execution_count": 60,
   "id": "93c7fc0f",
   "metadata": {},
   "outputs": [
    {
     "name": "stdout",
     "output_type": "stream",
     "text": [
      "+--------------+--------+----------+-------------------+\n",
      "|      pizza_id|quantity|      date|               time|\n",
      "+--------------+--------+----------+-------------------+\n",
      "|    hawaiian_m|       1|2015-01-01|2023-06-03 11:38:36|\n",
      "| classic_dlx_m|       1|2015-01-01|2023-06-03 11:57:40|\n",
      "| five_cheese_l|       1|2015-01-01|2023-06-03 11:57:40|\n",
      "|   ital_supr_l|       1|2015-01-01|2023-06-03 11:57:40|\n",
      "|    mexicana_m|       1|2015-01-01|2023-06-03 11:57:40|\n",
      "|    thai_ckn_l|       1|2015-01-01|2023-06-03 11:57:40|\n",
      "|   ital_supr_m|       1|2015-01-01|2023-06-03 12:12:28|\n",
      "|  prsc_argla_l|       1|2015-01-01|2023-06-03 12:12:28|\n",
      "|   ital_supr_m|       1|2015-01-01|2023-06-03 12:16:31|\n",
      "|   ital_supr_m|       1|2015-01-01|2023-06-03 12:21:30|\n",
      "|     bbq_ckn_s|       1|2015-01-01|2023-06-03 12:29:36|\n",
      "|   the_greek_s|       1|2015-01-01|2023-06-03 12:29:36|\n",
      "|spinach_supr_s|       1|2015-01-01|2023-06-03 12:50:37|\n",
      "|spinach_supr_s|       1|2015-01-01|2023-06-03 12:51:37|\n",
      "| classic_dlx_s|       1|2015-01-01|2023-06-03 12:52:01|\n",
      "|green_garden_s|       1|2015-01-01|2023-06-03 12:52:01|\n",
      "| ital_cpcllo_l|       1|2015-01-01|2023-06-03 12:52:01|\n",
      "|   ital_supr_l|       1|2015-01-01|2023-06-03 12:52:01|\n",
      "|   ital_supr_s|       1|2015-01-01|2023-06-03 12:52:01|\n",
      "|    mexicana_s|       1|2015-01-01|2023-06-03 12:52:01|\n",
      "+--------------+--------+----------+-------------------+\n",
      "only showing top 20 rows\n",
      "\n"
     ]
    }
   ],
   "source": [
    "dfPizzaOrdersAll = dfPizzaOrdersAll.select(\"pizza_id\",\"quantity\",\"date\",\"time\")\n",
    "dfPizzaOrdersAll.show()"
   ]
  },
  {
   "cell_type": "code",
   "execution_count": 61,
   "id": "18380592",
   "metadata": {},
   "outputs": [
    {
     "name": "stdout",
     "output_type": "stream",
     "text": [
      "+-------------+----+-----+--------------------+--------+--------------------+\n",
      "|     pizza_id|size|price|                name|category|         ingredients|\n",
      "+-------------+----+-----+--------------------+--------+--------------------+\n",
      "|    bbq_ckn_l|   L|20.75|The Barbecue Chic...| Chicken|Barbecued Chicken...|\n",
      "|    bbq_ckn_m|   M|16.75|The Barbecue Chic...| Chicken|Barbecued Chicken...|\n",
      "|    bbq_ckn_s|   S|12.75|The Barbecue Chic...| Chicken|Barbecued Chicken...|\n",
      "|   cali_ckn_l|   L|20.75|The California Ch...| Chicken|Chicken, Artichok...|\n",
      "|   cali_ckn_m|   M|16.75|The California Ch...| Chicken|Chicken, Artichok...|\n",
      "|   cali_ckn_s|   S|12.75|The California Ch...| Chicken|Chicken, Artichok...|\n",
      "|ckn_alfredo_l|   L|20.75|The Chicken Alfre...| Chicken|Chicken, Red Onio...|\n",
      "|ckn_alfredo_m|   M|16.75|The Chicken Alfre...| Chicken|Chicken, Red Onio...|\n",
      "|ckn_alfredo_s|   S|12.75|The Chicken Alfre...| Chicken|Chicken, Red Onio...|\n",
      "|  ckn_pesto_l|   L|20.75|The Chicken Pesto...| Chicken|Chicken, Tomatoes...|\n",
      "|  ckn_pesto_m|   M|16.75|The Chicken Pesto...| Chicken|Chicken, Tomatoes...|\n",
      "|  ckn_pesto_s|   S|12.75|The Chicken Pesto...| Chicken|Chicken, Tomatoes...|\n",
      "| southw_ckn_l|   L|20.75|The Southwest Chi...| Chicken|Chicken, Tomatoes...|\n",
      "| southw_ckn_m|   M|16.75|The Southwest Chi...| Chicken|Chicken, Tomatoes...|\n",
      "| southw_ckn_s|   S|12.75|The Southwest Chi...| Chicken|Chicken, Tomatoes...|\n",
      "|   thai_ckn_l|   L|20.75|The Thai Chicken ...| Chicken|Chicken, Pineappl...|\n",
      "|   thai_ckn_m|   M|16.75|The Thai Chicken ...| Chicken|Chicken, Pineappl...|\n",
      "|   thai_ckn_s|   S|12.75|The Thai Chicken ...| Chicken|Chicken, Pineappl...|\n",
      "|   big_meat_l|   L| 20.5|  The Big Meat Pizza| Classic|Bacon, Pepperoni,...|\n",
      "|   big_meat_m|   M| 16.0|  The Big Meat Pizza| Classic|Bacon, Pepperoni,...|\n",
      "+-------------+----+-----+--------------------+--------+--------------------+\n",
      "only showing top 20 rows\n",
      "\n"
     ]
    }
   ],
   "source": [
    "dfPizzaAll = dfPizzas.join(dfPizzaTypes,dfPizzas.pizza_type_id == dfPizzaTypes.pizza_type_id, \"inner\" )\n",
    "dfPizzaAll = dfPizzaAll.select(\"pizza_id\",\"size\",\"price\",\"name\",\"category\",\"ingredients\")\n",
    "dfPizzaAll.show()\n"
   ]
  },
  {
   "cell_type": "code",
   "execution_count": 62,
   "id": "547df98a",
   "metadata": {},
   "outputs": [
    {
     "name": "stdout",
     "output_type": "stream",
     "text": [
      "+--------------------------+--------+-----------------------------------------------------------------------------------+----+-----+--------+----------+-------------------+\n",
      "|Name                      |Category|Ingredients                                                                        |Size|Price|Quantity|Date      |Time               |\n",
      "+--------------------------+--------+-----------------------------------------------------------------------------------+----+-----+--------+----------+-------------------+\n",
      "|The Barbecue Chicken Pizza|Chicken |Barbecued Chicken, Red Peppers, Green Peppers, Tomatoes, Red Onions, Barbecue Sauce|L   |20.75|2       |2015-12-31|2023-06-03 19:05:04|\n",
      "|The Barbecue Chicken Pizza|Chicken |Barbecued Chicken, Red Peppers, Green Peppers, Tomatoes, Red Onions, Barbecue Sauce|L   |20.75|1       |2015-12-31|2023-06-03 18:52:10|\n",
      "|The Barbecue Chicken Pizza|Chicken |Barbecued Chicken, Red Peppers, Green Peppers, Tomatoes, Red Onions, Barbecue Sauce|L   |20.75|1       |2015-12-31|2023-06-03 18:38:38|\n",
      "|The Barbecue Chicken Pizza|Chicken |Barbecued Chicken, Red Peppers, Green Peppers, Tomatoes, Red Onions, Barbecue Sauce|L   |20.75|1       |2015-12-31|2023-06-03 18:18:30|\n",
      "|The Barbecue Chicken Pizza|Chicken |Barbecued Chicken, Red Peppers, Green Peppers, Tomatoes, Red Onions, Barbecue Sauce|L   |20.75|1       |2015-12-30|2023-06-03 20:12:27|\n",
      "|The Barbecue Chicken Pizza|Chicken |Barbecued Chicken, Red Peppers, Green Peppers, Tomatoes, Red Onions, Barbecue Sauce|L   |20.75|1       |2015-12-29|2023-06-03 13:43:53|\n",
      "|The Barbecue Chicken Pizza|Chicken |Barbecued Chicken, Red Peppers, Green Peppers, Tomatoes, Red Onions, Barbecue Sauce|L   |20.75|1       |2015-12-27|2023-06-03 12:48:05|\n",
      "|The Barbecue Chicken Pizza|Chicken |Barbecued Chicken, Red Peppers, Green Peppers, Tomatoes, Red Onions, Barbecue Sauce|L   |20.75|1       |2015-12-26|2023-06-03 20:07:54|\n",
      "|The Barbecue Chicken Pizza|Chicken |Barbecued Chicken, Red Peppers, Green Peppers, Tomatoes, Red Onions, Barbecue Sauce|L   |20.75|1       |2015-12-26|2023-06-03 15:25:45|\n",
      "|The Barbecue Chicken Pizza|Chicken |Barbecued Chicken, Red Peppers, Green Peppers, Tomatoes, Red Onions, Barbecue Sauce|L   |20.75|1       |2015-12-26|2023-06-03 14:41:05|\n",
      "|The Barbecue Chicken Pizza|Chicken |Barbecued Chicken, Red Peppers, Green Peppers, Tomatoes, Red Onions, Barbecue Sauce|L   |20.75|1       |2015-12-24|2023-06-03 20:58:44|\n",
      "|The Barbecue Chicken Pizza|Chicken |Barbecued Chicken, Red Peppers, Green Peppers, Tomatoes, Red Onions, Barbecue Sauce|L   |20.75|1       |2015-12-24|2023-06-03 18:53:52|\n",
      "|The Barbecue Chicken Pizza|Chicken |Barbecued Chicken, Red Peppers, Green Peppers, Tomatoes, Red Onions, Barbecue Sauce|L   |20.75|1       |2015-12-24|2023-06-03 15:08:38|\n",
      "|The Barbecue Chicken Pizza|Chicken |Barbecued Chicken, Red Peppers, Green Peppers, Tomatoes, Red Onions, Barbecue Sauce|L   |20.75|1       |2015-12-23|2023-06-03 17:52:04|\n",
      "|The Barbecue Chicken Pizza|Chicken |Barbecued Chicken, Red Peppers, Green Peppers, Tomatoes, Red Onions, Barbecue Sauce|L   |20.75|1       |2015-12-23|2023-06-03 15:30:43|\n",
      "|The Barbecue Chicken Pizza|Chicken |Barbecued Chicken, Red Peppers, Green Peppers, Tomatoes, Red Onions, Barbecue Sauce|L   |20.75|1       |2015-12-23|2023-06-03 11:42:50|\n",
      "|The Barbecue Chicken Pizza|Chicken |Barbecued Chicken, Red Peppers, Green Peppers, Tomatoes, Red Onions, Barbecue Sauce|L   |20.75|1       |2015-12-22|2023-06-03 13:17:55|\n",
      "|The Barbecue Chicken Pizza|Chicken |Barbecued Chicken, Red Peppers, Green Peppers, Tomatoes, Red Onions, Barbecue Sauce|L   |20.75|1       |2015-12-21|2023-06-03 22:16:13|\n",
      "|The Barbecue Chicken Pizza|Chicken |Barbecued Chicken, Red Peppers, Green Peppers, Tomatoes, Red Onions, Barbecue Sauce|L   |20.75|1       |2015-12-21|2023-06-03 18:51:54|\n",
      "|The Barbecue Chicken Pizza|Chicken |Barbecued Chicken, Red Peppers, Green Peppers, Tomatoes, Red Onions, Barbecue Sauce|L   |20.75|1       |2015-12-21|2023-06-03 17:09:32|\n",
      "+--------------------------+--------+-----------------------------------------------------------------------------------+----+-----+--------+----------+-------------------+\n",
      "only showing top 20 rows\n",
      "\n"
     ]
    }
   ],
   "source": [
    "dfPizza = dfPizzaAll.join(dfPizzaOrdersAll,dfPizzaAll.pizza_id == dfPizzaOrdersAll.pizza_id, \"left\" )\n",
    "dfPizza = dfPizza.select(col(\"name\").alias(\"Name\"), \n",
    "                col(\"category\").alias(\"Category\"),\n",
    "                col(\"ingredients\").alias(\"Ingredients\"),\n",
    "                col(\"size\").alias(\"Size\"),\n",
    "                col(\"price\").alias(\"Price\"),\n",
    "                col(\"quantity\").alias(\"Quantity\"),\n",
    "                col(\"date\").alias(\"Date\"),\n",
    "                col(\"time\").alias(\"Time\"))\n",
    "dfPizza.show(truncate=False)\n"
   ]
  },
  {
   "attachments": {},
   "cell_type": "markdown",
   "id": "7e3a7741",
   "metadata": {},
   "source": [
    "# Data Cleaning"
   ]
  },
  {
   "cell_type": "code",
   "execution_count": 63,
   "id": "6d81f023",
   "metadata": {},
   "outputs": [],
   "source": [
    "#Things to be considered in next project\n",
    "# browsing all materials that I have so as to select!!\n",
    "## using UDF (put  example and remove digit at the beginning) & analytical functions\n",
    "#https://sparkbyexamples.com/pyspark/pyspark-groupby-explained-with-example/\n",
    "# https://sparkbyexamples.com/pyspark/pyspark-window-functions/\n",
    "# https://sparkbyexamples.com/pyspark/pyspark-udf-user-defined-function/ \n",
    "# Considering next transformations to be used\n",
    "# max and min of each borough \n",
    "## using pandas / pivot\n",
    "# using inspirations to run this project from .doc files \n",
    "# https://pub.towardsai.net/exploratory-data-analysis-eda-using-pyspark-b43e71fcec9f\n",
    "#https://dev.to/kinyungu_denis/apache-pyspark-for-data-engineering-3phi"
   ]
  }
 ],
 "metadata": {
  "kernelspec": {
   "display_name": "Python 3 (ipykernel)",
   "language": "python",
   "name": "python3"
  },
  "language_info": {
   "codemirror_mode": {
    "name": "ipython",
    "version": 3
   },
   "file_extension": ".py",
   "mimetype": "text/x-python",
   "name": "python",
   "nbconvert_exporter": "python",
   "pygments_lexer": "ipython3",
   "version": "3.11.3"
  }
 },
 "nbformat": 4,
 "nbformat_minor": 5
}
